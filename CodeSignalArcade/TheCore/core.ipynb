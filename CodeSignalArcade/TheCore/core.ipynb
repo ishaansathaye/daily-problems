{
 "cells": [
  {
   "cell_type": "markdown",
   "metadata": {},
   "source": [
    "## Largest Number"
   ]
  },
  {
   "cell_type": "markdown",
   "metadata": {},
   "source": [
    "Given an integer n, return the largest number that contains exactly n digits."
   ]
  },
  {
   "cell_type": "code",
   "execution_count": 2,
   "metadata": {},
   "outputs": [
    {
     "name": "stdout",
     "output_type": "stream",
     "text": [
      "99\n",
      "999\n"
     ]
    }
   ],
   "source": [
    "#Original\n",
    "def solution(n):\n",
    "    return int(str(9)*n)\n",
    "\n",
    "print(solution(2))\n",
    "print(solution(3))"
   ]
  },
  {
   "cell_type": "code",
   "execution_count": null,
   "metadata": {},
   "outputs": [],
   "source": [
    "#Alternate\n",
    "def solution(n):\n",
    "    return 10 ** n - 1\n",
    "\n",
    "print(solution(2))\n",
    "print(solution(3))"
   ]
  },
  {
   "cell_type": "markdown",
   "metadata": {},
   "source": [
    "<mark>Alternate Solution</mark>: used powers instead of typecasting\n",
    "\n",
    "---"
   ]
  },
  {
   "cell_type": "markdown",
   "metadata": {},
   "source": [
    "## Candies"
   ]
  },
  {
   "cell_type": "markdown",
   "metadata": {},
   "source": [
    "<p align=\"center\"><img src=\"Images/candies.png\" width=\"500\"></p>"
   ]
  },
  {
   "cell_type": "code",
   "execution_count": 5,
   "metadata": {},
   "outputs": [
    {
     "name": "stdout",
     "output_type": "stream",
     "text": [
      "9\n",
      "0\n"
     ]
    }
   ],
   "source": [
    "#Original\n",
    "def solution(n, m):\n",
    "    return (m // n)*n\n",
    "\n",
    "print(solution(3, 10))\n",
    "print(solution(10, 5))"
   ]
  },
  {
   "cell_type": "markdown",
   "metadata": {},
   "source": [
    "<mark>Alternate Solution</mark>: same logic as original\n",
    "\n",
    "---"
   ]
  },
  {
   "cell_type": "markdown",
   "metadata": {},
   "source": [
    "## Seats in Theater"
   ]
  },
  {
   "cell_type": "markdown",
   "metadata": {},
   "source": [
    "<p align=\"center\"><img src=\"Images/theater.png\" width=\"500\"></p>"
   ]
  },
  {
   "cell_type": "code",
   "execution_count": 5,
   "metadata": {},
   "outputs": [
    {
     "name": "stdout",
     "output_type": "stream",
     "text": [
      "96\n"
     ]
    }
   ],
   "source": [
    "#Original\n",
    "def solution(nCols, nRows, col, row):\n",
    "    return (nRows - row) * (nCols - (col-1))\n",
    "\n",
    "print(solution(16, 11, 5, 3))"
   ]
  },
  {
   "cell_type": "markdown",
   "metadata": {},
   "source": [
    "<mark>Alternate Solution</mark>: same logic as original\n",
    "\n",
    "---"
   ]
  },
  {
   "cell_type": "markdown",
   "metadata": {},
   "source": [
    "## Max Multiple"
   ]
  },
  {
   "cell_type": "markdown",
   "metadata": {},
   "source": [
    "<p align=\"center\"><img src=\"Images/multiple.png\" width=\"500\"></p>"
   ]
  },
  {
   "cell_type": "code",
   "execution_count": 6,
   "metadata": {},
   "outputs": [
    {
     "name": "stdout",
     "output_type": "stream",
     "text": [
      "9\n"
     ]
    }
   ],
   "source": [
    "#Original\n",
    "def solution(divisor, bound):\n",
    "    max = 0\n",
    "    for i in range(0, bound+1):\n",
    "        if i % divisor == 0:\n",
    "            if i > max:\n",
    "                max = i\n",
    "    return max\n",
    "\n",
    "\n",
    "print(solution(3, 10))"
   ]
  },
  {
   "cell_type": "code",
   "execution_count": null,
   "metadata": {},
   "outputs": [],
   "source": [
    "#Alternate\n",
    "def solution(divisor, bound):\n",
    "    return bound - (bound % divisor)\n",
    "\n",
    "print(solution(3, 10))\n"
   ]
  },
  {
   "cell_type": "markdown",
   "metadata": {},
   "source": [
    "<mark>Alternate Solution</mark>: used more logic: subtracted the remainder between bound and divisor from the bound\n",
    "\n",
    "---"
   ]
  },
  {
   "cell_type": "markdown",
   "metadata": {},
   "source": [
    "## Circle of Numbers"
   ]
  },
  {
   "cell_type": "markdown",
   "metadata": {},
   "source": [
    "Given n and firstNumber, find the number which is written in the radially opposite position to firstNumber."
   ]
  },
  {
   "cell_type": "code",
   "execution_count": null,
   "metadata": {},
   "outputs": [],
   "source": [
    "#Original\n",
    "def solution(n, firstNumber):\n",
    "    return (firstNumber + n/2)%n"
   ]
  },
  {
   "cell_type": "markdown",
   "metadata": {},
   "source": [
    "<mark>Alternate Solution</mark>: same as original; problem done in introProblems\n",
    "\n",
    "---"
   ]
  },
  {
   "cell_type": "markdown",
   "metadata": {},
   "source": [
    "## Late Ride"
   ]
  },
  {
   "cell_type": "markdown",
   "metadata": {},
   "source": [
    "<p align=\"center\"><img src=\"Images/ride.png\" width=\"500\"></p>"
   ]
  },
  {
   "cell_type": "code",
   "execution_count": 22,
   "metadata": {},
   "outputs": [],
   "source": [
    "#Original\n",
    "def solution(n):\n",
    "    return sum([int(i) for i in str(n//60)]) + sum([int(i) for i in str(n%60)])\n",
    "    \n",
    "print(solution(240))\n",
    "print(solution(808))"
   ]
  },
  {
   "cell_type": "code",
   "execution_count": 26,
   "metadata": {},
   "outputs": [
    {
     "name": "stdout",
     "output_type": "stream",
     "text": [
      "4\n",
      "14\n"
     ]
    }
   ],
   "source": [
    "#Alternate\n",
    "def solution(n):\n",
    "    return sum(map(int, str(n // 60 * 100 + n % 60)))\n",
    "\n",
    "print(solution(240))\n",
    "print(solution(808))"
   ]
  },
  {
   "cell_type": "markdown",
   "metadata": {},
   "source": [
    "<mark>Alternate Solution</mark>: used ```used map()``` to convert str to int over the entire string, added 100 the hour value and then just took sum of the entire map object\n",
    "\n",
    "---"
   ]
  },
  {
   "cell_type": "markdown",
   "metadata": {},
   "source": [
    "## Phone Call"
   ]
  },
  {
   "cell_type": "markdown",
   "metadata": {},
   "source": [
    "<p align=\"center\"><img src=\"Images/phone.png\" width=\"500\"></p>"
   ]
  },
  {
   "cell_type": "code",
   "execution_count": 61,
   "metadata": {},
   "outputs": [
    {
     "name": "stdout",
     "output_type": "stream",
     "text": [
      "14\n",
      "11\n",
      "3\n"
     ]
    }
   ],
   "source": [
    "#Original\n",
    "def solution(min1, min2_10, min11, s):\n",
    "    minutes = 0\n",
    "    if s-min1 ==  0:\n",
    "        return 1\n",
    "    while s > 0:\n",
    "        if minutes == 0:\n",
    "            s -= min1\n",
    "            if s-min1 >= 0:\n",
    "                minutes = 2\n",
    "        elif 2 <= minutes <= 10:\n",
    "            s -= min2_10\n",
    "            if s-min2_10 >= 0:\n",
    "                minutes += 1\n",
    "        elif minutes > 10:\n",
    "            s -= min11\n",
    "            if s-min11 >= 0:\n",
    "                minutes += 1\n",
    "    return minutes\n",
    "\n",
    "print(solution(3,1,2,20))\n",
    "print(solution(10,1,2,22))\n",
    "print(solution(1,2,1,6))"
   ]
  },
  {
   "cell_type": "code",
   "execution_count": 60,
   "metadata": {},
   "outputs": [
    {
     "name": "stdout",
     "output_type": "stream",
     "text": [
      "14\n",
      "11\n",
      "3\n"
     ]
    }
   ],
   "source": [
    "#Alternate\n",
    "def solution(min1, min2_10, min11, s):\n",
    "    if s<min1:\n",
    "        return 0\n",
    "    elif s>=min1 and s<=min1+9*min2_10:\n",
    "        return 1+(s-min1)//min2_10\n",
    "    return 10+(s-min1-9*min2_10)//min11\n",
    "    \n",
    "print(solution(3,1,2,20))\n",
    "print(solution(10,1,2,22))\n",
    "print(solution(1,2,1,6))\n"
   ]
  },
  {
   "cell_type": "markdown",
   "metadata": {},
   "source": [
    "<mark>Alternate Solution</mark>: did not use iterator, used conditional statements to check for different cases and returned answers based on that\n",
    "\n",
    "---"
   ]
  },
  {
   "cell_type": "markdown",
   "metadata": {},
   "source": [
    "## Reach Next Level"
   ]
  },
  {
   "cell_type": "markdown",
   "metadata": {},
   "source": [
    "Given values experience, threshold and reward, check if you reach the next level after killing the monster."
   ]
  },
  {
   "cell_type": "code",
   "execution_count": 1,
   "metadata": {},
   "outputs": [
    {
     "name": "stdout",
     "output_type": "stream",
     "text": [
      "True\n",
      "False\n"
     ]
    }
   ],
   "source": [
    "#Original\n",
    "def solution(experience, threshold, reward):\n",
    "    return experience+reward >= threshold\n",
    "\n",
    "print(solution(10, 15, 5))\n",
    "print(solution(10, 15, 4))"
   ]
  },
  {
   "cell_type": "markdown",
   "metadata": {},
   "source": [
    "<mark>Alternate Solution</mark>: same algo as alternate\n",
    "\n",
    "---"
   ]
  },
  {
   "cell_type": "markdown",
   "metadata": {},
   "source": [
    "## Kill K-th Bit"
   ]
  },
  {
   "cell_type": "markdown",
   "metadata": {},
   "source": [
    "<p align=\"center\"><img src=\"Images/bit.png\" width=\"500\"></p>"
   ]
  },
  {
   "cell_type": "code",
   "execution_count": 21,
   "metadata": {},
   "outputs": [
    {
     "name": "stdout",
     "output_type": "stream",
     "text": [
      "33\n",
      "2147450879\n"
     ]
    }
   ],
   "source": [
    "#Original\n",
    "def solution(n, k):\n",
    "    return convertBin(n, k)\n",
    "\n",
    "def convertBin(n, k):\n",
    "    if n == 0:\n",
    "        return 0\n",
    "    bin_num = bin(n).replace('0b', \"\")\n",
    "    if k > len(bin_num):\n",
    "        return n\n",
    "    bin_num = list(bin_num)\n",
    "    bin_num[-k] = \"0\"\n",
    "    bin_num = \"\".join(bin_num)\n",
    "    return int(bin_num, 2)\n",
    "\n",
    "print(solution(37, 3)) #33\n",
    "print(solution(2147483647, 16))"
   ]
  },
  {
   "cell_type": "code",
   "execution_count": 23,
   "metadata": {},
   "outputs": [
    {
     "name": "stdout",
     "output_type": "stream",
     "text": [
      "33\n",
      "2147450879\n",
      "33\n",
      "2147450879\n",
      "['1', '0', '0', '1', '0', '1']\n",
      "33\n",
      "['1', '1', '1', '1', '1', '1', '1', '1', '1', '1', '1', '1', '1', '1', '1', '1', '1', '1', '1', '1', '1', '1', '1', '1', '1', '1', '1', '1', '1', '1', '1']\n",
      "2147450879\n"
     ]
    }
   ],
   "source": [
    "#Alternate - 1\n",
    "def solution1(n, k):\n",
    "    return n & ~(1<<k-1)\n",
    "print(solution1(37, 3))\n",
    "print(solution1(2147483647, 16))\n",
    "\n",
    "#Alternate - 2\n",
    "def solution2(n, k):\n",
    "    return n - pow(2,k-1) if n & pow(2,k-1) else n\n",
    "print(solution2(37, 3))\n",
    "print(solution2(2147483647, 16))\n",
    "\n",
    "#Alternate - 3\n",
    "def solution3(n, k):\n",
    "    return killBit(n,k)\n",
    "def killBit(n, k):\n",
    "    binary = [i for i in format(n, 'b')]\n",
    "    print(binary)\n",
    "    try:\n",
    "        binary[-k] = '0'\n",
    "    except:\n",
    "        return n\n",
    "    result = ''.join(binary)\n",
    "    return int(result, 2)\n",
    "print(solution3(37, 3))\n",
    "print(solution3(2147483647, 16))"
   ]
  },
  {
   "cell_type": "markdown",
   "metadata": {},
   "source": [
    "<mark>Alternate Solution</mark>: \n",
    "- *Alternate Solution 1:*\n",
    "    - used bit operators: ```& ~ >>```\n",
    "- *Alternate Solution 2:*\n",
    "    - used ```2^``` to convert to binary and then used ```&``` bit operator \n",
    "- *Alternate Solution 3:*\n",
    "    - used ```format()``` to convert number to binary\n",
    "    - used ```try and except``` for edge cases \n",
    "---"
   ]
  },
  {
   "cell_type": "markdown",
   "metadata": {},
   "source": [
    "## Array Packing"
   ]
  },
  {
   "cell_type": "markdown",
   "metadata": {},
   "source": [
    "<p align=\"center\"><img src=\"Images/packing.png\" width=\"500\"></p>"
   ]
  },
  {
   "cell_type": "code",
   "execution_count": 47,
   "metadata": {},
   "outputs": [
    {
     "name": "stdout",
     "output_type": "stream",
     "text": [
      "21784\n"
     ]
    }
   ],
   "source": [
    "#Original\n",
    "def solution(a):\n",
    "    temp = \"\"\n",
    "    for i in range(len(a)-1, -1, -1):\n",
    "        a[i] = format(a[i],'08b')\n",
    "        temp += a[i]\n",
    "    return int(temp, 2)\n",
    "\n",
    "print(solution([24, 85, 0]))"
   ]
  },
  {
   "cell_type": "code",
   "execution_count": 49,
   "metadata": {},
   "outputs": [
    {
     "name": "stdout",
     "output_type": "stream",
     "text": [
      "21784\n",
      "21784\n"
     ]
    }
   ],
   "source": [
    "#Alternate - 1\n",
    "def solution1(a):\n",
    "    return sum([a[i] << i*8 for i in range(len(a))])\n",
    "print(solution1([24, 85, 0]))\n",
    "\n",
    "#Alternate - 2\n",
    "def solution2(a):\n",
    "    return int.from_bytes(a, 'little')\n",
    "print(solution2([24, 85, 0]))"
   ]
  },
  {
   "cell_type": "markdown",
   "metadata": {},
   "source": [
    "<mark>Alternate Solution</mark>: \n",
    "- alternate solution 1: \n",
    "    - used ```<<``` bitwise operator, list concatenation\n",
    "- alternate solution 2:\n",
    "    - **used ```int.from_bytes()``` to convert an integer to bits**\n",
    "- **first bits of M is starting from the right**\n",
    "\n",
    "---"
   ]
  },
  {
   "cell_type": "markdown",
   "metadata": {},
   "source": [
    "## Range Bit Count"
   ]
  },
  {
   "cell_type": "markdown",
   "metadata": {},
   "source": [
    "<p align=\"center\"><img src=\"Images/packing.png\" width=\"500\"></p>"
   ]
  },
  {
   "cell_type": "code",
   "execution_count": null,
   "metadata": {},
   "outputs": [],
   "source": [
    "#Original"
   ]
  },
  {
   "cell_type": "code",
   "execution_count": null,
   "metadata": {},
   "outputs": [],
   "source": [
    "#Alternate"
   ]
  },
  {
   "cell_type": "markdown",
   "metadata": {},
   "source": [
    "<mark>Alternate Solution</mark>: \n",
    "\n",
    "---"
   ]
  }
 ],
 "metadata": {
  "interpreter": {
   "hash": "b30b16c83ff9e1edf05d1389201b91a87d2eda582773d1d418f36c288e735fdc"
  },
  "kernelspec": {
   "display_name": "Python 3.10.0 64-bit ('3.10.0': pyenv)",
   "language": "python",
   "name": "python3"
  },
  "language_info": {
   "codemirror_mode": {
    "name": "ipython",
    "version": 3
   },
   "file_extension": ".py",
   "mimetype": "text/x-python",
   "name": "python",
   "nbconvert_exporter": "python",
   "pygments_lexer": "ipython3",
   "version": "3.10.0"
  },
  "orig_nbformat": 4
 },
 "nbformat": 4,
 "nbformat_minor": 2
}
