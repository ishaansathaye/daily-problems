{
 "cells": [
  {
   "cell_type": "markdown",
   "metadata": {},
   "source": [
    "## Largest Number"
   ]
  },
  {
   "cell_type": "markdown",
   "metadata": {},
   "source": [
    "Given an integer n, return the largest number that contains exactly n digits."
   ]
  },
  {
   "cell_type": "code",
   "execution_count": 2,
   "metadata": {},
   "outputs": [
    {
     "name": "stdout",
     "output_type": "stream",
     "text": [
      "99\n",
      "999\n"
     ]
    }
   ],
   "source": [
    "#Original\n",
    "def solution(n):\n",
    "    return int(str(9)*n)\n",
    "\n",
    "print(solution(2))\n",
    "print(solution(3))"
   ]
  },
  {
   "cell_type": "code",
   "execution_count": null,
   "metadata": {},
   "outputs": [],
   "source": [
    "#Alternate\n",
    "def solution(n):\n",
    "    return 10 ** n - 1\n",
    "\n",
    "print(solution(2))\n",
    "print(solution(3))"
   ]
  },
  {
   "cell_type": "markdown",
   "metadata": {},
   "source": [
    "<mark>Alternate Solution</mark>: used powers instead of typecasting\n",
    "\n",
    "---"
   ]
  },
  {
   "cell_type": "markdown",
   "metadata": {},
   "source": [
    "## Candies"
   ]
  },
  {
   "cell_type": "markdown",
   "metadata": {},
   "source": [
    "<p align=\"center\"><img src=\"Images/candies.png\" width=\"500\"></p>"
   ]
  },
  {
   "cell_type": "code",
   "execution_count": 5,
   "metadata": {},
   "outputs": [
    {
     "name": "stdout",
     "output_type": "stream",
     "text": [
      "9\n",
      "0\n"
     ]
    }
   ],
   "source": [
    "#Original\n",
    "def solution(n, m):\n",
    "    return (m // n)*n\n",
    "\n",
    "print(solution(3, 10))\n",
    "print(solution(10, 5))"
   ]
  },
  {
   "cell_type": "markdown",
   "metadata": {},
   "source": [
    "<mark>Alternate Solution</mark>: same logic as original\n",
    "\n",
    "---"
   ]
  },
  {
   "cell_type": "markdown",
   "metadata": {},
   "source": [
    "## Seats in Theater"
   ]
  },
  {
   "cell_type": "markdown",
   "metadata": {},
   "source": [
    "<p align=\"center\"><img src=\"Images/theater.png\" width=\"500\"></p>"
   ]
  },
  {
   "cell_type": "code",
   "execution_count": 5,
   "metadata": {},
   "outputs": [
    {
     "name": "stdout",
     "output_type": "stream",
     "text": [
      "96\n"
     ]
    }
   ],
   "source": [
    "#Original\n",
    "def solution(nCols, nRows, col, row):\n",
    "    return (nRows - row) * (nCols - (col-1))\n",
    "\n",
    "print(solution(16, 11, 5, 3))"
   ]
  },
  {
   "cell_type": "markdown",
   "metadata": {},
   "source": [
    "<mark>Alternate Solution</mark>: same logic as original\n",
    "\n",
    "---"
   ]
  },
  {
   "cell_type": "markdown",
   "metadata": {},
   "source": [
    "## Max Multiple"
   ]
  },
  {
   "cell_type": "markdown",
   "metadata": {},
   "source": [
    "<p align=\"center\"><img src=\"Images/multiple.png\" width=\"500\"></p>"
   ]
  },
  {
   "cell_type": "code",
   "execution_count": 6,
   "metadata": {},
   "outputs": [
    {
     "name": "stdout",
     "output_type": "stream",
     "text": [
      "9\n"
     ]
    }
   ],
   "source": [
    "#Original\n",
    "def solution(divisor, bound):\n",
    "    max = 0\n",
    "    for i in range(0, bound+1):\n",
    "        if i % divisor == 0:\n",
    "            if i > max:\n",
    "                max = i\n",
    "    return max\n",
    "\n",
    "\n",
    "print(solution(3, 10))"
   ]
  },
  {
   "cell_type": "code",
   "execution_count": null,
   "metadata": {},
   "outputs": [],
   "source": [
    "#Alternate\n",
    "def solution(divisor, bound):\n",
    "    return bound - (bound % divisor)\n",
    "\n",
    "print(solution(3, 10))\n"
   ]
  },
  {
   "cell_type": "markdown",
   "metadata": {},
   "source": [
    "<mark>Alternate Solution</mark>: used more logic: subtracted the remainder between bound and divisor from the bound\n",
    "\n",
    "---"
   ]
  },
  {
   "cell_type": "markdown",
   "metadata": {},
   "source": [
    "## Circle of Numbers"
   ]
  },
  {
   "cell_type": "markdown",
   "metadata": {},
   "source": [
    "Given n and firstNumber, find the number which is written in the radially opposite position to firstNumber."
   ]
  },
  {
   "cell_type": "code",
   "execution_count": null,
   "metadata": {},
   "outputs": [],
   "source": [
    "#Original\n",
    "def solution(n, firstNumber):\n",
    "    return (firstNumber + n/2)%n"
   ]
  },
  {
   "cell_type": "markdown",
   "metadata": {},
   "source": [
    "<mark>Alternate Solution</mark>: same as original; problem done in introProblems\n",
    "\n",
    "---"
   ]
  },
  {
   "cell_type": "markdown",
   "metadata": {},
   "source": [
    "## Late Ride"
   ]
  },
  {
   "cell_type": "markdown",
   "metadata": {},
   "source": [
    "<p align=\"center\"><img src=\"Images/ride.png\" width=\"500\"></p>"
   ]
  },
  {
   "cell_type": "code",
   "execution_count": 22,
   "metadata": {},
   "outputs": [],
   "source": [
    "#Original\n",
    "def solution(n):\n",
    "    return sum([int(i) for i in str(n//60)]) + sum([int(i) for i in str(n%60)])\n",
    "    \n",
    "print(solution(240))\n",
    "print(solution(808))"
   ]
  },
  {
   "cell_type": "code",
   "execution_count": 26,
   "metadata": {},
   "outputs": [
    {
     "name": "stdout",
     "output_type": "stream",
     "text": [
      "4\n",
      "14\n"
     ]
    }
   ],
   "source": [
    "#Alternate\n",
    "def solution(n):\n",
    "    return sum(map(int, str(n // 60 * 100 + n % 60)))\n",
    "\n",
    "print(solution(240))\n",
    "print(solution(808))"
   ]
  },
  {
   "cell_type": "markdown",
   "metadata": {},
   "source": [
    "<mark>Alternate Solution</mark>: used ```used map()``` to convert str to int over the entire string, added 100 the hour value and then just took sum of the entire map object\n",
    "\n",
    "---"
   ]
  },
  {
   "cell_type": "markdown",
   "metadata": {},
   "source": [
    "## Phone Call"
   ]
  },
  {
   "cell_type": "markdown",
   "metadata": {},
   "source": [
    "<p align=\"center\"><img src=\"Images/phone.png\" width=\"500\"></p>"
   ]
  },
  {
   "cell_type": "code",
   "execution_count": 61,
   "metadata": {},
   "outputs": [
    {
     "name": "stdout",
     "output_type": "stream",
     "text": [
      "14\n",
      "11\n",
      "3\n"
     ]
    }
   ],
   "source": [
    "#Original\n",
    "def solution(min1, min2_10, min11, s):\n",
    "    minutes = 0\n",
    "    if s-min1 ==  0:\n",
    "        return 1\n",
    "    while s > 0:\n",
    "        if minutes == 0:\n",
    "            s -= min1\n",
    "            if s-min1 >= 0:\n",
    "                minutes = 2\n",
    "        elif 2 <= minutes <= 10:\n",
    "            s -= min2_10\n",
    "            if s-min2_10 >= 0:\n",
    "                minutes += 1\n",
    "        elif minutes > 10:\n",
    "            s -= min11\n",
    "            if s-min11 >= 0:\n",
    "                minutes += 1\n",
    "    return minutes\n",
    "\n",
    "print(solution(3,1,2,20))\n",
    "print(solution(10,1,2,22))\n",
    "print(solution(1,2,1,6))"
   ]
  },
  {
   "cell_type": "code",
   "execution_count": 60,
   "metadata": {},
   "outputs": [
    {
     "name": "stdout",
     "output_type": "stream",
     "text": [
      "14\n",
      "11\n",
      "3\n"
     ]
    }
   ],
   "source": [
    "#Alternate\n",
    "def solution(min1, min2_10, min11, s):\n",
    "    if s<min1:\n",
    "        return 0\n",
    "    elif s>=min1 and s<=min1+9*min2_10:\n",
    "        return 1+(s-min1)//min2_10\n",
    "    return 10+(s-min1-9*min2_10)//min11\n",
    "    \n",
    "print(solution(3,1,2,20))\n",
    "print(solution(10,1,2,22))\n",
    "print(solution(1,2,1,6))\n"
   ]
  },
  {
   "cell_type": "markdown",
   "metadata": {},
   "source": [
    "<mark>Alternate Solution</mark>: did not use iterator, used conditional statements to check for different cases and returned answers based on that\n",
    "\n",
    "---"
   ]
  },
  {
   "cell_type": "markdown",
   "metadata": {},
   "source": [
    "## Reach Next Level"
   ]
  },
  {
   "cell_type": "markdown",
   "metadata": {},
   "source": [
    "Given values experience, threshold and reward, check if you reach the next level after killing the monster."
   ]
  },
  {
   "cell_type": "code",
   "execution_count": 1,
   "metadata": {},
   "outputs": [
    {
     "name": "stdout",
     "output_type": "stream",
     "text": [
      "True\n",
      "False\n"
     ]
    }
   ],
   "source": [
    "#Original\n",
    "def solution(experience, threshold, reward):\n",
    "    return experience+reward >= threshold\n",
    "\n",
    "print(solution(10, 15, 5))\n",
    "print(solution(10, 15, 4))"
   ]
  },
  {
   "cell_type": "markdown",
   "metadata": {},
   "source": [
    "<mark>Alternate Solution</mark>: same algo as alternate\n",
    "\n",
    "---"
   ]
  },
  {
   "cell_type": "markdown",
   "metadata": {},
   "source": [
    "## Kill K-th Bit"
   ]
  },
  {
   "cell_type": "markdown",
   "metadata": {},
   "source": [
    "<p align=\"center\"><img src=\"Images/bit.png\" width=\"500\"></p>"
   ]
  },
  {
   "cell_type": "code",
   "execution_count": 21,
   "metadata": {},
   "outputs": [
    {
     "name": "stdout",
     "output_type": "stream",
     "text": [
      "33\n",
      "2147450879\n"
     ]
    }
   ],
   "source": [
    "#Original\n",
    "def solution(n, k):\n",
    "    return convertBin(n, k)\n",
    "\n",
    "def convertBin(n, k):\n",
    "    if n == 0:\n",
    "        return 0\n",
    "    bin_num = bin(n).replace('0b', \"\")\n",
    "    if k > len(bin_num):\n",
    "        return n\n",
    "    bin_num = list(bin_num)\n",
    "    bin_num[-k] = \"0\"\n",
    "    bin_num = \"\".join(bin_num)\n",
    "    return int(bin_num, 2)\n",
    "\n",
    "print(solution(37, 3)) #33\n",
    "print(solution(2147483647, 16))"
   ]
  },
  {
   "cell_type": "code",
   "execution_count": 23,
   "metadata": {},
   "outputs": [
    {
     "name": "stdout",
     "output_type": "stream",
     "text": [
      "33\n",
      "2147450879\n",
      "33\n",
      "2147450879\n",
      "['1', '0', '0', '1', '0', '1']\n",
      "33\n",
      "['1', '1', '1', '1', '1', '1', '1', '1', '1', '1', '1', '1', '1', '1', '1', '1', '1', '1', '1', '1', '1', '1', '1', '1', '1', '1', '1', '1', '1', '1', '1']\n",
      "2147450879\n"
     ]
    }
   ],
   "source": [
    "#Alternate - 1\n",
    "def solution1(n, k):\n",
    "    return n & ~(1<<k-1)\n",
    "print(solution1(37, 3))\n",
    "print(solution1(2147483647, 16))\n",
    "\n",
    "#Alternate - 2\n",
    "def solution2(n, k):\n",
    "    return n - pow(2,k-1) if n & pow(2,k-1) else n\n",
    "print(solution2(37, 3))\n",
    "print(solution2(2147483647, 16))\n",
    "\n",
    "#Alternate - 3\n",
    "def solution3(n, k):\n",
    "    return killBit(n,k)\n",
    "def killBit(n, k):\n",
    "    binary = [i for i in format(n, 'b')]\n",
    "    print(binary)\n",
    "    try:\n",
    "        binary[-k] = '0'\n",
    "    except:\n",
    "        return n\n",
    "    result = ''.join(binary)\n",
    "    return int(result, 2)\n",
    "print(solution3(37, 3))\n",
    "print(solution3(2147483647, 16))"
   ]
  },
  {
   "cell_type": "markdown",
   "metadata": {},
   "source": [
    "<mark>Alternate Solution</mark>: \n",
    "- *Alternate Solution 1:*\n",
    "    - used bit operators: ```& ~ >>```\n",
    "- *Alternate Solution 2:*\n",
    "    - used ```2^``` to convert to binary and then used ```&``` bit operator \n",
    "- *Alternate Solution 3:*\n",
    "    - used ```format()``` to convert number to binary\n",
    "    - used ```try and except``` for edge cases \n",
    "---"
   ]
  },
  {
   "cell_type": "markdown",
   "metadata": {},
   "source": [
    "## Array Packing"
   ]
  },
  {
   "cell_type": "markdown",
   "metadata": {},
   "source": [
    "<p align=\"center\"><img src=\"Images/packing.png\" width=\"500\"></p>"
   ]
  },
  {
   "cell_type": "code",
   "execution_count": 47,
   "metadata": {},
   "outputs": [
    {
     "name": "stdout",
     "output_type": "stream",
     "text": [
      "21784\n"
     ]
    }
   ],
   "source": [
    "#Original\n",
    "def solution(a):\n",
    "    temp = \"\"\n",
    "    for i in range(len(a)-1, -1, -1):\n",
    "        a[i] = format(a[i],'08b')\n",
    "        temp += a[i]\n",
    "    return int(temp, 2)\n",
    "\n",
    "print(solution([24, 85, 0]))"
   ]
  },
  {
   "cell_type": "code",
   "execution_count": 49,
   "metadata": {},
   "outputs": [
    {
     "name": "stdout",
     "output_type": "stream",
     "text": [
      "21784\n",
      "21784\n"
     ]
    }
   ],
   "source": [
    "#Alternate - 1\n",
    "def solution1(a):\n",
    "    return sum([a[i] << i*8 for i in range(len(a))])\n",
    "print(solution1([24, 85, 0]))\n",
    "\n",
    "#Alternate - 2\n",
    "def solution2(a):\n",
    "    return int.from_bytes(a, 'little')\n",
    "print(solution2([24, 85, 0]))"
   ]
  },
  {
   "cell_type": "markdown",
   "metadata": {},
   "source": [
    "<mark>Alternate Solution</mark>: \n",
    "- alternate solution 1: \n",
    "    - used ```<<``` bitwise operator, list concatenation\n",
    "- alternate solution 2:\n",
    "    - **used ```int.from_bytes()``` to convert an integer to bits**\n",
    "- **first bits of M is starting from the right**\n",
    "\n",
    "---"
   ]
  },
  {
   "cell_type": "markdown",
   "metadata": {},
   "source": [
    "## Range Bit Count"
   ]
  },
  {
   "cell_type": "markdown",
   "metadata": {},
   "source": [
    "<p align=\"center\"><img src=\"Images/range.png\" width=\"500\"></p>"
   ]
  },
  {
   "cell_type": "code",
   "execution_count": 55,
   "metadata": {},
   "outputs": [
    {
     "name": "stdout",
     "output_type": "stream",
     "text": [
      "11\n"
     ]
    }
   ],
   "source": [
    "#Original\n",
    "def solution(a, b):\n",
    "    return sum([bin(i)[2:].count('1') for i in range(a,b+1)])\n",
    "\n",
    "print(solution(2,7)) #11"
   ]
  },
  {
   "cell_type": "code",
   "execution_count": null,
   "metadata": {},
   "outputs": [],
   "source": [
    "#Alternate\n",
    "def solution(a, b):\n",
    "    return sum(bin(x).count('1') for x in range(a, b+1))"
   ]
  },
  {
   "cell_type": "markdown",
   "metadata": {},
   "source": [
    "<mark>Alternate Solution</mark>: No need to use list brackets when doing comprehension in ```sum()``` or built-ins\n",
    "\n",
    "---"
   ]
  },
  {
   "cell_type": "markdown",
   "metadata": {},
   "source": [
    "## Mirror Bits"
   ]
  },
  {
   "cell_type": "markdown",
   "metadata": {},
   "source": [
    "Reverse the order of the bits in a given integer."
   ]
  },
  {
   "cell_type": "code",
   "execution_count": 60,
   "metadata": {},
   "outputs": [
    {
     "name": "stdout",
     "output_type": "stream",
     "text": [
      "67\n"
     ]
    }
   ],
   "source": [
    "#Original\n",
    "def solution(a):\n",
    "    return int((bin(a)[2:])[::-1], base=2)\n",
    "\n",
    "print(solution(97))"
   ]
  },
  {
   "cell_type": "markdown",
   "metadata": {},
   "source": [
    "<mark>Alternate Solution</mark>: alternate has same algo as original\n",
    "\n",
    "---"
   ]
  },
  {
   "cell_type": "markdown",
   "metadata": {},
   "source": [
    "## Second-Rightmost Zero Bit"
   ]
  },
  {
   "cell_type": "markdown",
   "metadata": {},
   "source": [
    "<p align=\"center\"><img src=\"Images/rightMost.png\" width=\"500\"></p>"
   ]
  },
  {
   "cell_type": "code",
   "execution_count": 4,
   "metadata": {},
   "outputs": [
    {
     "name": "stdout",
     "output_type": "stream",
     "text": [
      "8\n"
     ]
    }
   ],
   "source": [
    "#Original\n",
    "def solution(n):\n",
    "    return 2**find_index(n)\n",
    "\n",
    "def find_index(n):\n",
    "    count = 0\n",
    "    bits = bin(n)[2:]\n",
    "    for i in range(-1, -1*(len(bits)), -1):\n",
    "        if bits[i] == '0':\n",
    "            count += 1\n",
    "        if count == 2:\n",
    "            return abs(i) - 1\n",
    "\n",
    "print(solution(37)) #8"
   ]
  },
  {
   "cell_type": "code",
   "execution_count": 6,
   "metadata": {},
   "outputs": [
    {
     "name": "stdout",
     "output_type": "stream",
     "text": [
      "8\n",
      "8\n"
     ]
    }
   ],
   "source": [
    "#Alternate - 1\n",
    "def solution1(n):\n",
    "    return (((((n + 1) | n) + 1) | n) - n)\n",
    "print(solution1(37)) #8\n",
    "\n",
    "def solution2(n):\n",
    "    return 2**([i for i, ltr in enumerate(bin(n)[:1:-1]) if ltr == '0'])[1];\n",
    "print(solution2(37)) #8\n",
    "\n"
   ]
  },
  {
   "cell_type": "markdown",
   "metadata": {},
   "source": [
    "<mark>Alternate Solution</mark>: \n",
    "- Alternate Solution 1:\n",
    "    - Used bitwise OR operator \"```|```\"\n",
    "- Alternate Solution 2:\n",
    "    - used enumerate to quickly compare and find index\n",
    "    - Enumerate parameter passed was the reverse of the binary of n\n",
    "\n",
    "---"
   ]
  },
  {
   "cell_type": "markdown",
   "metadata": {},
   "source": [
    "## Swap Adjacent Bits"
   ]
  },
  {
   "cell_type": "markdown",
   "metadata": {},
   "source": [
    "<p align=\"center\"><img src=\"Images/swapbits.png\" width=\"500\"></p>"
   ]
  },
  {
   "cell_type": "code",
   "execution_count": 18,
   "metadata": {},
   "outputs": [
    {
     "name": "stdout",
     "output_type": "stream",
     "text": [
      "14\n",
      "133\n"
     ]
    }
   ],
   "source": [
    "#Original\n",
    "def solution(n):\n",
    "    return int(swap(list(bin(n)[2:])), 2)\n",
    "\n",
    "def swap(bin_string):\n",
    "    if len(bin_string) % 2 != 0:\n",
    "        bin_string.insert(0, \"0\")\n",
    "    for i in range(0, len(bin_string), 2):\n",
    "        bin_string[i], bin_string[i+1] = bin_string[i+1], bin_string[i]\n",
    "    return \"\".join(bin_string)\n",
    "\n",
    "print(solution(13)) #14\n",
    "print(solution(74)) #133"
   ]
  },
  {
   "cell_type": "code",
   "execution_count": 21,
   "metadata": {},
   "outputs": [
    {
     "name": "stdout",
     "output_type": "stream",
     "text": [
      "14\n",
      "133\n"
     ]
    }
   ],
   "source": [
    "#Alternate\n",
    "def solution(n):\n",
    "    return (((n & 0xaaaaaaaa) >> 1) | ((n & 0x55555555) << 1))\n",
    "\n",
    "print(solution(13)) #14\n",
    "print(solution(74)) #133"
   ]
  },
  {
   "cell_type": "markdown",
   "metadata": {},
   "source": [
    "<mark>Alternate Solution</mark>: used **bitwise operators**: ```&, 0xaaaaaaaa, >>, <<```\n",
    "\n",
    "---"
   ]
  },
  {
   "cell_type": "markdown",
   "metadata": {},
   "source": [
    "## Different Rightmost Bit"
   ]
  },
  {
   "cell_type": "markdown",
   "metadata": {},
   "source": [
    "<p align=\"center\"><img src=\"Images/different.png\" width=\"500\"></p>"
   ]
  },
  {
   "cell_type": "code",
   "execution_count": 37,
   "metadata": {},
   "outputs": [
    {
     "name": "stdout",
     "output_type": "stream",
     "text": [
      "1101\n",
      "1011\n",
      "2\n",
      "11100\n",
      "11101\n",
      "16\n"
     ]
    }
   ],
   "source": [
    "#Original\n",
    "def solution(n, m):\n",
    "    return find_index(bin(n)[2:][::-1], bin(m)[2:][::-1])\n",
    "\n",
    "def find_index(n, m):\n",
    "    zeros = abs(len(m) - len(n))\n",
    "    if len(n) < len(m):\n",
    "        n = n + \"0\"*zeros\n",
    "    else:\n",
    "        m = m + \"0\"*zeros\n",
    "    print(n)\n",
    "    print(m)\n",
    "    for i in range(0, len(n)):\n",
    "        if n[i] != m[i]:\n",
    "            return 2**i\n",
    "\n",
    "print(solution(11, 13)) #12\n",
    "print(solution(7, 23)) #16"
   ]
  },
  {
   "cell_type": "code",
   "execution_count": 39,
   "metadata": {},
   "outputs": [
    {
     "name": "stdout",
     "output_type": "stream",
     "text": [
      "6\n",
      "2\n",
      "16\n",
      "16\n"
     ]
    }
   ],
   "source": [
    "#Alternate\n",
    "def solution(n, m):\n",
    "    return (n ^ m) & -(n ^ m)\n",
    "\n",
    "print(solution(11, 13)) #12\n",
    "print(solution(7, 23)) #16"
   ]
  },
  {
   "cell_type": "markdown",
   "metadata": {},
   "source": [
    "<mark>Alternate Solution</mark>: used bit operators ```&```, used ```^``` took the union? of that and negative\n",
    "\n",
    "---"
   ]
  },
  {
   "cell_type": "markdown",
   "metadata": {},
   "source": [
    "## Equal Pair of Bits"
   ]
  },
  {
   "cell_type": "markdown",
   "metadata": {},
   "source": [
    "<p align=\"center\"><img src=\"Images/equal.png\" width=\"500\"></p>"
   ]
  },
  {
   "cell_type": "code",
   "execution_count": 41,
   "metadata": {},
   "outputs": [
    {
     "name": "stdout",
     "output_type": "stream",
     "text": [
      "2\n"
     ]
    }
   ],
   "source": [
    "#Original\n",
    "def solution(n, m):\n",
    "    return find_index(bin(n)[2:][::-1], bin(m)[2:][::-1])\n",
    "\n",
    "def find_index(n, m):\n",
    "    zeros = abs(len(m) - len(n))\n",
    "    if len(n) < len(m):\n",
    "        n = n + \"0\"*zeros\n",
    "    else:\n",
    "        m = m + \"0\"*zeros\n",
    "    for i in range(0, len(n)):\n",
    "        if n[i] == m[i]:\n",
    "            return 2**i\n",
    "\n",
    "print(solution(10, 11))"
   ]
  },
  {
   "cell_type": "code",
   "execution_count": 42,
   "metadata": {},
   "outputs": [
    {
     "name": "stdout",
     "output_type": "stream",
     "text": [
      "2\n"
     ]
    }
   ],
   "source": [
    "#Alternate\n",
    "def solution(n, m):\n",
    "    return ~(n^m) & ((n^m) + 1)\n",
    "\n",
    "print(solution(10, 11))"
   ]
  },
  {
   "cell_type": "markdown",
   "metadata": {},
   "source": [
    "<mark>Alternate Solution</mark>: used bit operators: ```~ ^ &```\n",
    "\n",
    "---"
   ]
  },
  {
   "cell_type": "markdown",
   "metadata": {},
   "source": [
    "## Least Factorial"
   ]
  },
  {
   "cell_type": "markdown",
   "metadata": {},
   "source": [
    "<p align=\"center\"><img src=\"Images/factorial.png\" width=\"500\"></p>"
   ]
  },
  {
   "cell_type": "code",
   "execution_count": 5,
   "metadata": {},
   "outputs": [
    {
     "name": "stdout",
     "output_type": "stream",
     "text": [
      "24\n"
     ]
    }
   ],
   "source": [
    "#Original\n",
    "def solution(n):\n",
    "    k = 1\n",
    "    m = 1\n",
    "    while k < n:\n",
    "        k *= m\n",
    "        m += 1\n",
    "    return k\n",
    "\n",
    "print(solution(17))"
   ]
  },
  {
   "cell_type": "code",
   "execution_count": 6,
   "metadata": {},
   "outputs": [
    {
     "name": "stdout",
     "output_type": "stream",
     "text": [
      "24\n"
     ]
    }
   ],
   "source": [
    "#Alternate\n",
    "def solution(n):\n",
    "    f=i=1\n",
    "    while f<n:\n",
    "        f*=i\n",
    "        i+=1\n",
    "    return f\n",
    "\n",
    "print(solution(17))"
   ]
  },
  {
   "cell_type": "markdown",
   "metadata": {},
   "source": [
    "<mark>Alternate Solution</mark>: same line variable assignment\n",
    "\n",
    "---"
   ]
  },
  {
   "cell_type": "markdown",
   "metadata": {},
   "source": [
    "## Count Sum of Two Representations 2"
   ]
  },
  {
   "cell_type": "markdown",
   "metadata": {},
   "source": [
    "Given integers n, l and r, find the number of ways to represent n as a sum of two integers A and B such that l ≤ A ≤ B ≤ r."
   ]
  },
  {
   "cell_type": "code",
   "execution_count": 72,
   "metadata": {},
   "outputs": [
    {
     "name": "stdout",
     "output_type": "stream",
     "text": [
      "2\n",
      "12\n"
     ]
    }
   ],
   "source": [
    "#Original\n",
    "def solution(n, l, r):\n",
    "    count = 0\n",
    "    for i in range(l,r+1):\n",
    "        result = n-i\n",
    "        if l <= result <= r:\n",
    "            if result >= i:\n",
    "                count += 1\n",
    "    return count\n",
    "\n",
    "print(solution(6,2,4))\n",
    "print(solution(93,24,58))"
   ]
  },
  {
   "cell_type": "code",
   "execution_count": 73,
   "metadata": {},
   "outputs": [
    {
     "name": "stdout",
     "output_type": "stream",
     "text": [
      "2\n",
      "12\n",
      "2\n",
      "12\n"
     ]
    }
   ],
   "source": [
    "#Alternate - 1\n",
    "def solution1(n, l, r):\n",
    "    return sum(1 for a in range(l, r+1) if l <= a <= n - a <= r)\n",
    "print(solution1(6,2,4))\n",
    "print(solution1(93,24,58))\n",
    "\n",
    "def solution2(n, l, r):\n",
    "    if l+r < n:\n",
    "        l = n-r \n",
    "    else:\n",
    "        r = n-l \n",
    "    if l > r:\n",
    "        return 0\n",
    "    return (r-l)//2 + 1\n",
    "print(solution2(6,2,4))\n",
    "print(solution2(93,24,58))\n"
   ]
  },
  {
   "cell_type": "markdown",
   "metadata": {},
   "source": [
    "<mark>Alternate Solution</mark>: First solution: used list comprehension, comparisons in one line, ```sum()``` of 1s instead of counter; Second solution: used comparisons to change boundaries\n",
    "\n",
    "---"
   ]
  },
  {
   "cell_type": "markdown",
   "metadata": {},
   "source": [
    "## Magical Well"
   ]
  },
  {
   "cell_type": "markdown",
   "metadata": {},
   "source": [
    "You are standing at a magical well. It has two positive integers written on it: a and b. Each time you cast a magic marble into the well, it gives you a * b dollars and then both a and b increase by 1. You have n magic marbles. How much money will you make?"
   ]
  },
  {
   "cell_type": "code",
   "execution_count": 74,
   "metadata": {},
   "outputs": [
    {
     "name": "stdout",
     "output_type": "stream",
     "text": [
      "8\n"
     ]
    }
   ],
   "source": [
    "#Original\n",
    "def solution(a, b, n):\n",
    "    d = 0\n",
    "    while n > 0:\n",
    "        d += (a*b)\n",
    "        a += 1\n",
    "        b += 1\n",
    "        n -= 1\n",
    "    return d\n",
    "\n",
    "print(solution(1,2,2))"
   ]
  },
  {
   "cell_type": "code",
   "execution_count": 75,
   "metadata": {},
   "outputs": [
    {
     "name": "stdout",
     "output_type": "stream",
     "text": [
      "8\n"
     ]
    }
   ],
   "source": [
    "#Alternate\n",
    "def solution(a, b, n):\n",
    "    return sum([(a + i) * (b + i) for i in range(n)])\n",
    "print(solution(1,2,2))"
   ]
  },
  {
   "cell_type": "markdown",
   "metadata": {},
   "source": [
    "<mark>Alternate Solution</mark>: used for loop to increment a and b instead of incrementing 1 at a time, sum() for final value\n",
    "\n",
    "---"
   ]
  },
  {
   "cell_type": "markdown",
   "metadata": {},
   "source": [
    "## Lineup"
   ]
  },
  {
   "cell_type": "markdown",
   "metadata": {},
   "source": [
    "<p align=\"center\"><img src=\"Images/lineup.png\" width=\"500\"></p>"
   ]
  },
  {
   "cell_type": "code",
   "execution_count": 3,
   "metadata": {},
   "outputs": [
    {
     "name": "stdout",
     "output_type": "stream",
     "text": [
      "3\n"
     ]
    }
   ],
   "source": [
    "#Original\n",
    "def solution(commands):\n",
    "    s1=s2=1\n",
    "    directionsL = [1,2,-1,-2]\n",
    "    directionsR = [1,-2,-1,2]\n",
    "    iterator = 0\n",
    "    same = 0\n",
    "    for i in commands:\n",
    "        if i == 'L':\n",
    "            iterator += 1\n",
    "            if iterator > 3:\n",
    "                iterator = 0\n",
    "            s1 = directionsL[iterator]\n",
    "            s2 = directionsR[iterator]\n",
    "        elif i == 'A':\n",
    "            s1 *= -1\n",
    "            s2 *= -1\n",
    "            iterator = directionsR.index(s1)\n",
    "        elif i == 'R':\n",
    "            iterator += 1\n",
    "            if iterator > 3:\n",
    "                iterator = 0\n",
    "            s1 = directionsR[iterator]\n",
    "            s2 = directionsL[iterator]\n",
    "        if s1 == s2:\n",
    "            same += 1\n",
    "    return same\n",
    "\n",
    "print(solution(\"LLARL\")) #3"
   ]
  },
  {
   "cell_type": "code",
   "execution_count": 4,
   "metadata": {},
   "outputs": [
    {
     "name": "stdout",
     "output_type": "stream",
     "text": [
      "3\n"
     ]
    }
   ],
   "source": [
    "#Alternate\n",
    "def solution(commands):\n",
    "    weird = False\n",
    "    total = 0\n",
    "    for command in commands:\n",
    "        if command == 'L' or command == 'R':\n",
    "            weird = not weird\n",
    "        if not weird:\n",
    "            total += 1\n",
    "    return total\n",
    "\n",
    "print(solution(\"LLARL\")) #3"
   ]
  },
  {
   "cell_type": "markdown",
   "metadata": {},
   "source": [
    "<mark>Alternate Solution</mark>: alternate solution kept changing bool value every time a L or R is read (not A), found out the combination that faces the same direction\n",
    "\n",
    "---"
   ]
  },
  {
   "cell_type": "markdown",
   "metadata": {},
   "source": [
    "## Addition Without Carrying"
   ]
  },
  {
   "cell_type": "markdown",
   "metadata": {},
   "source": [
    "<p align=\"center\"><img src=\"Images/addition.png\" width=\"500\"></p>"
   ]
  },
  {
   "cell_type": "code",
   "execution_count": 25,
   "metadata": {},
   "outputs": [
    {
     "name": "stdout",
     "output_type": "stream",
     "text": [
      "1180\n"
     ]
    }
   ],
   "source": [
    "#Original\n",
    "def solution(param1, param2):\n",
    "    result = []\n",
    "    if len(str(param1)) < len(str(param2)):\n",
    "        min_num = str(param1)\n",
    "        max_num = str(param2)\n",
    "    else:\n",
    "        min_num = str(param2)\n",
    "        max_num = str(param1)\n",
    "    for i in range(-1, -1*len(min_num)-1, -1):\n",
    "        number = str(int(min_num[i]) + int(max_num[i]))\n",
    "        if len(number) > 1:\n",
    "            number = number[1:]\n",
    "        result.insert(0, number)\n",
    "    result = [max_num[0:len(max_num)-len(min_num)]] + result\n",
    "    return int(\"\".join(result))\n",
    "\n",
    "print(solution(456, 1734))"
   ]
  },
  {
   "cell_type": "code",
   "execution_count": null,
   "metadata": {},
   "outputs": [],
   "source": [
    "#Alternate\n",
    "def solution(param1, param2):\n",
    "    result = 0\n",
    "    tenPower = 1\n",
    "    while param1 > 0 or param2 > 0:\n",
    "        result += tenPower * ((param1 + param2) % 10)\n",
    "        param1 //= 10\n",
    "        param2 //= 10\n",
    "        tenPower *= 10\n",
    "    return result"
   ]
  },
  {
   "cell_type": "markdown",
   "metadata": {},
   "source": [
    "<mark>Alternate Solution</mark>: instead of converting to different types --> **use mod and // to get individual digits**\n",
    "\n",
    "---"
   ]
  },
  {
   "cell_type": "markdown",
   "metadata": {},
   "source": [
    "## Apple Boxes"
   ]
  },
  {
   "cell_type": "markdown",
   "metadata": {},
   "source": [
    "<p align=\"center\"><img src=\"Images/apples.png\" width=\"500\"></p>"
   ]
  },
  {
   "cell_type": "code",
   "execution_count": 32,
   "metadata": {},
   "outputs": [
    {
     "name": "stdout",
     "output_type": "stream",
     "text": [
      "-15\n"
     ]
    }
   ],
   "source": [
    "#Original\n",
    "def solution(k):\n",
    "    y = 0\n",
    "    a = 0\n",
    "    for i in range(1, k+1):\n",
    "        if i % 2 == 0:\n",
    "            a += i*i\n",
    "        else:\n",
    "            y += i*i\n",
    "    return a-y\n",
    "\n",
    "print(solution(5)) #-15"
   ]
  },
  {
   "cell_type": "code",
   "execution_count": 33,
   "metadata": {},
   "outputs": [
    {
     "name": "stdout",
     "output_type": "stream",
     "text": [
      "-15.0\n"
     ]
    }
   ],
   "source": [
    "#Alterate\n",
    "def solution(n):\n",
    "    return ((-1)**n)*n*(n+1)/2\n",
    "\n",
    "print(solution(5))"
   ]
  },
  {
   "cell_type": "markdown",
   "metadata": {},
   "source": [
    "<mark>Alternate Solution</mark>: used powers instead of looping, **found formula for problem**\n",
    "\n",
    "---"
   ]
  },
  {
   "cell_type": "markdown",
   "metadata": {},
   "source": []
  }
 ],
 "metadata": {
  "interpreter": {
   "hash": "b30b16c83ff9e1edf05d1389201b91a87d2eda582773d1d418f36c288e735fdc"
  },
  "kernelspec": {
   "display_name": "Python 3.10.0 64-bit ('3.10.0': pyenv)",
   "language": "python",
   "name": "python3"
  },
  "language_info": {
   "codemirror_mode": {
    "name": "ipython",
    "version": 3
   },
   "file_extension": ".py",
   "mimetype": "text/x-python",
   "name": "python",
   "nbconvert_exporter": "python",
   "pygments_lexer": "ipython3",
   "version": "3.10.0"
  },
  "orig_nbformat": 4
 },
 "nbformat": 4,
 "nbformat_minor": 2
}
