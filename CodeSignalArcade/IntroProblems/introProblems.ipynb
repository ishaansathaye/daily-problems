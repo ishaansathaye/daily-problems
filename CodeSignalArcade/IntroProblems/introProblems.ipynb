{
 "cells": [
  {
   "cell_type": "markdown",
   "metadata": {},
   "source": [
    "# CodeSignal Arcade: Intro Problems"
   ]
  },
  {
   "cell_type": "markdown",
   "metadata": {},
   "source": [
    "---\n",
    "## adjacentElementsProduct"
   ]
  },
  {
   "cell_type": "markdown",
   "metadata": {},
   "source": [
    "<p align=\"center\"><img src=\"Images/adjacent.png\" width=\"500\"></p>"
   ]
  },
  {
   "cell_type": "code",
   "execution_count": 1,
   "metadata": {},
   "outputs": [
    {
     "name": "stdout",
     "output_type": "stream",
     "text": [
      "21\n"
     ]
    }
   ],
   "source": [
    "#Original\n",
    "def solution(inputArray):\n",
    "    max_product = -1001\n",
    "    for i in range(len(inputArray)):\n",
    "        prev = max_product\n",
    "        if i != len(inputArray)-1:\n",
    "            product = inputArray[i]*inputArray[i+1]\n",
    "        if product > prev:\n",
    "            max_product = product\n",
    "    return max_product\n",
    "\n",
    "inputArray = [3, 6, -2, -5, 7, 3]\n",
    "print(solution(inputArray))"
   ]
  },
  {
   "cell_type": "code",
   "execution_count": 2,
   "metadata": {},
   "outputs": [
    {
     "name": "stdout",
     "output_type": "stream",
     "text": [
      "21\n"
     ]
    }
   ],
   "source": [
    "#Alternate\n",
    "def solution2(inputArray):\n",
    "    return max([inputArray[i] * inputArray[i+1] for i in range(len(inputArray)-1)])\n",
    "\n",
    "inputArray = [3, 6, -2, -5, 7, 3]\n",
    "print(solution(inputArray))"
   ]
  },
  {
   "cell_type": "markdown",
   "metadata": {},
   "source": [
    "Alternate solution: more concise, uses max, and **list comprehension**\n",
    "\n",
    "---"
   ]
  },
  {
   "cell_type": "markdown",
   "metadata": {},
   "source": [
    "## shapeArea"
   ]
  },
  {
   "cell_type": "markdown",
   "metadata": {},
   "source": [
    "<p align=\"center\"><img src=\"Images/shape.png\" width=\"500\"></p>"
   ]
  },
  {
   "cell_type": "code",
   "execution_count": 3,
   "metadata": {},
   "outputs": [
    {
     "name": "stdout",
     "output_type": "stream",
     "text": [
      "25\n"
     ]
    }
   ],
   "source": [
    "def solution(n):\n",
    "    return n*(2*(n-1))+1\n",
    "\n",
    "print(solution(4))"
   ]
  },
  {
   "cell_type": "markdown",
   "metadata": {},
   "source": [
    "Solution: use scratch paper to write out combinations and math for problems\n",
    "\n",
    "---"
   ]
  },
  {
   "cell_type": "markdown",
   "metadata": {},
   "source": []
  }
 ],
 "metadata": {
  "interpreter": {
   "hash": "b30b16c83ff9e1edf05d1389201b91a87d2eda582773d1d418f36c288e735fdc"
  },
  "kernelspec": {
   "display_name": "Python 3.10.0 64-bit ('3.10.0': pyenv)",
   "language": "python",
   "name": "python3"
  },
  "language_info": {
   "codemirror_mode": {
    "name": "ipython",
    "version": 3
   },
   "file_extension": ".py",
   "mimetype": "text/x-python",
   "name": "python",
   "nbconvert_exporter": "python",
   "pygments_lexer": "ipython3",
   "version": "3.10.0"
  },
  "orig_nbformat": 4
 },
 "nbformat": 4,
 "nbformat_minor": 2
}
