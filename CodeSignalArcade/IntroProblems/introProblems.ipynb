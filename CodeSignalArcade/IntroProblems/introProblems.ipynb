{
 "cells": [
  {
   "cell_type": "markdown",
   "metadata": {},
   "source": [
    "# CodeSignal Arcade: Intro Problems"
   ]
  },
  {
   "cell_type": "markdown",
   "metadata": {},
   "source": [
    "---\n",
    "## adjacentElementsProduct"
   ]
  },
  {
   "cell_type": "markdown",
   "metadata": {},
   "source": [
    "<p align=\"center\"><img src=\"Images/adjacent.png\" width=\"500\"></p>"
   ]
  },
  {
   "cell_type": "code",
   "execution_count": 1,
   "metadata": {},
   "outputs": [
    {
     "name": "stdout",
     "output_type": "stream",
     "text": [
      "21\n"
     ]
    }
   ],
   "source": [
    "#Original\n",
    "def solution(inputArray):\n",
    "    max_product = -1001\n",
    "    for i in range(len(inputArray)):\n",
    "        prev = max_product\n",
    "        if i != len(inputArray)-1:\n",
    "            product = inputArray[i]*inputArray[i+1]\n",
    "        if product > prev:\n",
    "            max_product = product\n",
    "    return max_product\n",
    "\n",
    "inputArray = [3, 6, -2, -5, 7, 3]\n",
    "print(solution(inputArray))"
   ]
  },
  {
   "cell_type": "code",
   "execution_count": 2,
   "metadata": {},
   "outputs": [
    {
     "name": "stdout",
     "output_type": "stream",
     "text": [
      "21\n"
     ]
    }
   ],
   "source": [
    "#Alternate\n",
    "def solution2(inputArray):\n",
    "    return max([inputArray[i] * inputArray[i+1] for i in range(len(inputArray)-1)])\n",
    "\n",
    "inputArray = [3, 6, -2, -5, 7, 3]\n",
    "print(solution(inputArray))"
   ]
  },
  {
   "cell_type": "markdown",
   "metadata": {},
   "source": [
    "<mark>Alternate Solution</mark>: more concise, uses max, and **list comprehension**\n",
    "\n",
    "---"
   ]
  },
  {
   "cell_type": "markdown",
   "metadata": {},
   "source": [
    "## shapeArea"
   ]
  },
  {
   "cell_type": "markdown",
   "metadata": {},
   "source": [
    "<p align=\"center\"><img src=\"Images/shape.png\" width=\"500\"></p>"
   ]
  },
  {
   "cell_type": "code",
   "execution_count": 3,
   "metadata": {},
   "outputs": [
    {
     "name": "stdout",
     "output_type": "stream",
     "text": [
      "25\n"
     ]
    }
   ],
   "source": [
    "def solution(n):\n",
    "    return n*(2*(n-1))+1\n",
    "\n",
    "print(solution(4))"
   ]
  },
  {
   "cell_type": "markdown",
   "metadata": {},
   "source": [
    "<mark>Solution</mark>: use scratch paper to write out combinations and math for problems\n",
    "\n",
    "---"
   ]
  },
  {
   "cell_type": "markdown",
   "metadata": {},
   "source": [
    "## Make Array Consecutive 2"
   ]
  },
  {
   "cell_type": "markdown",
   "metadata": {},
   "source": [
    "<p align=\"center\"><img src=\"Images/consecutive.png\" width=\"500\"></p>"
   ]
  },
  {
   "cell_type": "code",
   "execution_count": 4,
   "metadata": {},
   "outputs": [
    {
     "name": "stdout",
     "output_type": "stream",
     "text": [
      "3\n",
      "0\n"
     ]
    }
   ],
   "source": [
    "#Original\n",
    "def solution(statues):\n",
    "    counter = 0\n",
    "    statues.sort()\n",
    "    for i in range(len(statues)-1):\n",
    "        if statues[i]+1 != statues[i+1]:\n",
    "            counter = counter + ((statues[i+1] - statues[i]) - 1)\n",
    "    return counter\n",
    "\n",
    "statues = [6, 2, 3, 8] #3\n",
    "statues2 = [5, 4, 6] #0\n",
    "print(solution(statues))\n",
    "print(solution(statues2))\n"
   ]
  },
  {
   "cell_type": "code",
   "execution_count": 5,
   "metadata": {},
   "outputs": [
    {
     "name": "stdout",
     "output_type": "stream",
     "text": [
      "3\n",
      "0\n"
     ]
    }
   ],
   "source": [
    "#Alternate\n",
    "def solution(statues):\n",
    "    return max(statues) - min(statues) - len(statues) + 1\n",
    "\n",
    "statues = [6, 2, 3, 8] #3\n",
    "statues2 = [5, 4, 6] #0\n",
    "print(solution(statues))\n",
    "print(solution(statues2))"
   ]
  },
  {
   "cell_type": "markdown",
   "metadata": {},
   "source": [
    "<mark>Alternate Solution</mark>: concise, uses math, use max and min, **use scratch paper to find equation**\n",
    "\n",
    "---"
   ]
  },
  {
   "cell_type": "markdown",
   "metadata": {},
   "source": [
    "## almostIncreasingSequence"
   ]
  },
  {
   "cell_type": "markdown",
   "metadata": {},
   "source": [
    "<p align=\"center\"><img src=\"Images/almostinc.png\" width=\"500\"></p>"
   ]
  },
  {
   "cell_type": "code",
   "execution_count": 37,
   "metadata": {},
   "outputs": [
    {
     "name": "stdout",
     "output_type": "stream",
     "text": [
      "Everything Passed.\n"
     ]
    }
   ],
   "source": [
    "def iterate(sequence):\n",
    "    for i in range(len(sequence)-1):\n",
    "        if sequence[i] >= sequence[i+1]:\n",
    "            return False\n",
    "    return True\n",
    "def solution(sequence):\n",
    "    for i in range(len(sequence)-1):\n",
    "        if sequence[i] >= sequence[i+1]:\n",
    "            save = sequence[i+1]\n",
    "            del sequence[i+1]\n",
    "            result = iterate(sequence)\n",
    "            if result == True:\n",
    "                return True\n",
    "            elif result == False:\n",
    "                sequence.insert(i+1, save)\n",
    "                del sequence[i]\n",
    "                new_result = iterate(sequence)\n",
    "                if new_result == True:\n",
    "                    return True\n",
    "                else:\n",
    "                    return False\n",
    "\n",
    "assert False == solution([\n",
    "    1, 3, 2, 1])\n",
    "assert True == solution([1, 3, 2])\n",
    "assert False == solution([1, 2, 1, 2])\n",
    "assert True == solution([1, 2, 3, 4, 3, 6])\n",
    "assert True == solution([10, 1, 2, 3, 4, 5])\n",
    "assert True == solution([1, 2, 5, 3, 5])\n",
    "print(\"Everything Passed.\")"
   ]
  },
  {
   "cell_type": "code",
   "execution_count": 9,
   "metadata": {},
   "outputs": [
    {
     "name": "stdout",
     "output_type": "stream",
     "text": [
      "Everything Passed.\n"
     ]
    }
   ],
   "source": [
    "#Alternate\n",
    "def solution(sequence):\n",
    "    dropped = False\n",
    "    last = prev = min(sequence) - 1\n",
    "    for elm in sequence:\n",
    "        if elm <= last:\n",
    "            if dropped:\n",
    "                return False\n",
    "            else:\n",
    "                dropped = True\n",
    "            if elm <= prev:\n",
    "                prev = last\n",
    "            elif elm >= prev:\n",
    "                prev = last = elm\n",
    "        else:\n",
    "            prev, last = last, elm\n",
    "    return True\n",
    "\n",
    "assert False == solution([1, 3, 2, 1])\n",
    "assert True == solution([1, 3, 2])\n",
    "assert False == solution([1, 2, 1, 2])\n",
    "assert True == solution([1, 2, 3, 4, 3, 6])\n",
    "assert True == solution([10, 1, 2, 3, 4, 5])\n",
    "assert True == solution([1, 2, 5, 3, 5])\n",
    "print(\"Everything Passed.\")"
   ]
  },
  {
   "cell_type": "markdown",
   "metadata": {},
   "source": [
    "<mark>Alternate Solution</mark>: uses logic more, **multiple variable assignment**, boolean value to simulate dropping of elements from list\n",
    "\n",
    "*Use debugger to verify solution*\n",
    "\n",
    "---"
   ]
  },
  {
   "cell_type": "markdown",
   "metadata": {},
   "source": [
    "## matrixElementSum"
   ]
  },
  {
   "cell_type": "markdown",
   "metadata": {},
   "source": [
    "<p align=\"center\"><img src=\"Images/matrixSum.png\" width=\"500\"></p>\n",
    "\n",
    "Guaranteed constraints:\n",
    "- 1 ≤ matrix.length ≤ 5,\n",
    "- 1 ≤ matrix[i].length ≤ 5,\n",
    "- 0 ≤ matrix[i][j] ≤ 10."
   ]
  },
  {
   "cell_type": "code",
   "execution_count": 14,
   "metadata": {},
   "outputs": [
    {
     "name": "stdout",
     "output_type": "stream",
     "text": [
      "9\n",
      "Everything passed.\n"
     ]
    }
   ],
   "source": [
    "def solution(matrix):\n",
    "    col = len(matrix[0])\n",
    "    row = len(matrix)\n",
    "    sum = 0\n",
    "    haunted = []\n",
    "    for i in range(row):\n",
    "        for j in range(col):\n",
    "            if matrix[i][j] == 0:\n",
    "                haunted.append(j)\n",
    "            else:\n",
    "                if j not in haunted:\n",
    "                    sum += matrix[i][j]\n",
    "    return sum\n",
    "\n",
    "print(solution([[0,1,1,2], [0,5,0,0], [2,0,3,3]]))"
   ]
  },
  {
   "cell_type": "code",
   "execution_count": 15,
   "metadata": {},
   "outputs": [
    {
     "name": "stdout",
     "output_type": "stream",
     "text": [
      "9\n"
     ]
    }
   ],
   "source": [
    "def solution(m):\n",
    "    r = len(m)\n",
    "    c = len(m[0])\n",
    "    total=0\n",
    "    for j in range(c):\n",
    "        for i in range(r):\n",
    "            if m[i][j]!=0:\n",
    "                total+=m[i][j]\n",
    "            else:\n",
    "                break\n",
    "    return total\n",
    "\n",
    "print(solution([[0,1,1,2], [0,5,0,0], [2,0,3,3]]))"
   ]
  },
  {
   "cell_type": "markdown",
   "metadata": {},
   "source": [
    "<mark>Alternate Solution</mark>: **used columns instead of rows** as first iterator, *break* to get out of loop\n",
    "\n",
    "---"
   ]
  },
  {
   "cell_type": "markdown",
   "metadata": {},
   "source": [
    "## All Longest Strings"
   ]
  },
  {
   "cell_type": "markdown",
   "metadata": {},
   "source": [
    "<p align=\"center\"><img src=\"Images/maxlength.png\" width=\"500\"></p>"
   ]
  },
  {
   "cell_type": "code",
   "execution_count": 24,
   "metadata": {},
   "outputs": [
    {
     "name": "stdout",
     "output_type": "stream",
     "text": [
      "['varennyky']\n"
     ]
    }
   ],
   "source": [
    "#Original\n",
    "def solution(inputArray):\n",
    "    max_length =  max([len(i) for i in inputArray])\n",
    "    return [i for i  in inputArray if len(i) == max_length]\n",
    "\n",
    "print(solution([\"enyky\", \"benyky\", \"yely\", \"varennyky\"]))"
   ]
  },
  {
   "cell_type": "markdown",
   "metadata": {},
   "source": [
    "<mark>Alternate Solution</mark>: used list comprehension and **built in method on list comprehension**\n",
    "\n",
    "---"
   ]
  },
  {
   "cell_type": "markdown",
   "metadata": {},
   "source": [
    "## commonCharacterCount"
   ]
  },
  {
   "cell_type": "markdown",
   "metadata": {},
   "source": [
    "<p align=\"center\"><img src=\"Images/commonCount.png\" width=\"500\"></p>"
   ]
  },
  {
   "cell_type": "code",
   "execution_count": 37,
   "metadata": {},
   "outputs": [
    {
     "name": "stdout",
     "output_type": "stream",
     "text": [
      "3\n",
      "4\n"
     ]
    }
   ],
   "source": [
    "#Original\n",
    "def solution(s1, s2):\n",
    "    counter = 0\n",
    "    setWord = set(s1)\n",
    "    for i in setWord:\n",
    "        fWord_Count = s1.count(i)\n",
    "        sWord_Count = s2.count(i)\n",
    "        if fWord_Count != 0 or sWord_Count != 0:\n",
    "            if fWord_Count == sWord_Count:\n",
    "                counter += fWord_Count\n",
    "            else:\n",
    "                counter += min(fWord_Count, sWord_Count)\n",
    "    return counter\n",
    "\n",
    "print(solution(s1=\"aabcc\", s2=\"adcaa\"))\n",
    "print(solution(s1=\"zzzz\", s2=\"zzzzzzz\"))"
   ]
  },
  {
   "cell_type": "code",
   "execution_count": 38,
   "metadata": {},
   "outputs": [
    {
     "name": "stdout",
     "output_type": "stream",
     "text": [
      "3\n",
      "4\n"
     ]
    }
   ],
   "source": [
    "#Alternate\n",
    "def solution(s1, s2):\n",
    "    com = [min(s1.count(i),s2.count(i)) for i in set(s1)]\n",
    "    return sum(com)\n",
    "\n",
    "print(solution(s1=\"aabcc\", s2=\"adcaa\"))\n",
    "print(solution(s1=\"zzzz\", s2=\"zzzzzzz\"))"
   ]
  },
  {
   "cell_type": "markdown",
   "metadata": {},
   "source": [
    "<mark>Alternate Solution</mark>: used list comprehension, combined lines, and **found minimum of letters shared**\n",
    "\n",
    "---"
   ]
  },
  {
   "cell_type": "markdown",
   "metadata": {},
   "source": [
    "## isLucky"
   ]
  },
  {
   "cell_type": "markdown",
   "metadata": {},
   "source": [
    "<p align=\"center\"><img src=\"Images/lucky.png\" width=\"500\"></p>"
   ]
  },
  {
   "cell_type": "code",
   "execution_count": 41,
   "metadata": {},
   "outputs": [
    {
     "name": "stdout",
     "output_type": "stream",
     "text": [
      "True\n"
     ]
    }
   ],
   "source": [
    "#Original\n",
    "def solution(n):\n",
    "    half = len(str(n))/2\n",
    "    first_half = 0\n",
    "    second_half = 0\n",
    "    for i in range(0, len(str(n))):\n",
    "        if i < half:\n",
    "            first_half += int(str(n)[i])\n",
    "        if i >= half:\n",
    "            second_half += int(str(n)[i])\n",
    "    if first_half == second_half:\n",
    "        return True\n",
    "    else:\n",
    "        return False\n",
    "\n",
    "print(solution(1230))"
   ]
  },
  {
   "cell_type": "code",
   "execution_count": 42,
   "metadata": {},
   "outputs": [
    {
     "name": "stdout",
     "output_type": "stream",
     "text": [
      "True\n"
     ]
    }
   ],
   "source": [
    "#Alternate\n",
    "def solution(n):\n",
    "    s = str(n)\n",
    "    pivot = len(s)//2\n",
    "    left, right = s[:pivot], s[pivot:]\n",
    "    return sum(map(int, left)) == sum(map(int, right))\n",
    "\n",
    "print(solution(1230))"
   ]
  },
  {
   "cell_type": "markdown",
   "metadata": {},
   "source": [
    "<mark>Alternate Solution</mark>: used ```//``` to find halfway point, *put conditionals in return for True and False*, **use built in ```map()``` function**, **use ```string splicing``` instead of for loops**\n",
    "\n",
    "---"
   ]
  },
  {
   "cell_type": "markdown",
   "metadata": {},
   "source": [
    "## Sort by Height"
   ]
  },
  {
   "cell_type": "markdown",
   "metadata": {},
   "source": [
    "<p align=\"center\"><img src=\"Images/sortHeight.png\" width=\"500\"></p>"
   ]
  },
  {
   "cell_type": "code",
   "execution_count": 68,
   "metadata": {},
   "outputs": [
    {
     "name": "stdout",
     "output_type": "stream",
     "text": [
      "[-1, 150, 160, 170, -1, -1, 180, 190]\n"
     ]
    }
   ],
   "source": [
    "#Original\n",
    "def solution(a):\n",
    "    indices = []\n",
    "    for i in range(len(a)):\n",
    "        if a[i] == -1:\n",
    "            indices.append(i)\n",
    "    while -1 in a:\n",
    "        a.remove(-1)\n",
    "    a.sort()\n",
    "    j = 0\n",
    "    while len(indices) != 0:\n",
    "        a.insert(indices[j], -1)\n",
    "        indices.remove(indices[j])\n",
    "    return a\n",
    "\n",
    "print(solution(a=[-1, 150, 190, 170, -1, -1, 160, 180]))"
   ]
  },
  {
   "cell_type": "code",
   "execution_count": 69,
   "metadata": {},
   "outputs": [
    {
     "name": "stdout",
     "output_type": "stream",
     "text": [
      "[150, 160, 170, 180, 190]\n",
      "[-1, 150, 160, 170, -1, -1, 180, 190]\n"
     ]
    }
   ],
   "source": [
    "#Alternate\n",
    "def solution(a):\n",
    "    l = sorted([i for i in a if i > 0])\n",
    "    for n,i in enumerate(a):\n",
    "        if i == -1:\n",
    "            l.insert(n,i)\n",
    "    return l\n",
    "        \n",
    "print(solution(a=[-1, 150, 190, 170, -1, -1, 160, 180]))"
   ]
  },
  {
   "cell_type": "markdown",
   "metadata": {},
   "source": [
    "<mark>Alternate Solution</mark>: use ```sorted()``` instead of ```sort()```, use ```enumerate()``` to find element and index, alternate solution used one list for sorted and original list for -1s\n",
    "\n",
    "---"
   ]
  },
  {
   "cell_type": "markdown",
   "metadata": {},
   "source": [
    "## reverseInParentheses"
   ]
  },
  {
   "cell_type": "markdown",
   "metadata": {},
   "source": [
    "<p align=\"center\"><img src=\"Images/reverseParan.png\" width=\"500\"></p>"
   ]
  },
  {
   "cell_type": "code",
   "execution_count": 99,
   "metadata": {},
   "outputs": [
    {
     "name": "stdout",
     "output_type": "stream",
     "text": [
      "foobazrabblim\n",
      "foorabbazmilb\n",
      "rab\n"
     ]
    }
   ],
   "source": [
    "#Original\n",
    "def reverse(string):\n",
    "    return string[::-1]\n",
    "def solution(inputString):\n",
    "    while \"(\" in inputString:\n",
    "        closeP = False\n",
    "        for i in range(len(inputString)):\n",
    "            if closeP == False:\n",
    "                if inputString[i] == \"(\":\n",
    "                    openIndex = i\n",
    "            if closeP == False:\n",
    "                if inputString[i] == \")\":\n",
    "                    closeIndex = i\n",
    "                    closeP = True\n",
    "        embedded = reverse(inputString[openIndex+1:closeIndex])\n",
    "        inputString = inputString.replace(inputString[openIndex:closeIndex+1], embedded)\n",
    "    return inputString\n",
    "\n",
    "\n",
    "\n",
    "print(solution(inputString=\"foo(bar(baz))blim\"))\n",
    "print(solution(inputString=\"foo(bar)baz(blim)\"))\n",
    "print(solution(inputString=\"(bar)\"))\n",
    "    "
   ]
  },
  {
   "cell_type": "code",
   "execution_count": 101,
   "metadata": {},
   "outputs": [
    {
     "name": "stdout",
     "output_type": "stream",
     "text": [
      "foobazrabblim\n",
      "foorabbazmilb\n",
      "rab\n"
     ]
    }
   ],
   "source": [
    "#Alternate Solutions\n",
    "#1.\n",
    "def solution(s):\n",
    "    return eval('\"' + s.replace('(', '\"+(\"').replace(')', '\")[::-1]+\"') + '\"')\n",
    "print(solution(s=\"foo(bar(baz))blim\"))\n",
    "print(solution(s=\"foo(bar)baz(blim)\"))\n",
    "print(solution(s=\"(bar)\"))\n",
    "\n",
    "print()\n",
    "\n",
    "#2.\n",
    "def solution2(s):\n",
    "    for i in range(len(s)):\n",
    "        if s[i] == \"(\":\n",
    "            start = i\n",
    "        if s[i] == \")\":\n",
    "            end = i\n",
    "            return solution2(s[:start] + s[start+1:end][::-1] + s[end+1:]) #uses recursion\n",
    "    return s\n",
    "print(solution2(s=\"foo(bar(baz))blim\"))\n",
    "print(solution2(s=\"foo(bar)baz(blim)\"))\n",
    "print(solution2(s=\"(bar)\"))\n",
    "\n"
   ]
  },
  {
   "cell_type": "markdown",
   "metadata": {},
   "source": [
    "<mark>Alternate Solution</mark>: First solution uses ```eval()``` function, Second solution uses **RECURSION** (use debugger to see call stack?) and **returned when \")\" in string**\n",
    "\n",
    "---"
   ]
  },
  {
   "cell_type": "markdown",
   "metadata": {},
   "source": [
    "## alternatingSums"
   ]
  },
  {
   "cell_type": "markdown",
   "metadata": {},
   "source": [
    "<p align=\"center\"><img src=\"Images/alternating.png\" width=\"500\"></p>"
   ]
  },
  {
   "cell_type": "code",
   "execution_count": 3,
   "metadata": {},
   "outputs": [
    {
     "name": "stdout",
     "output_type": "stream",
     "text": [
      "[180, 105]\n",
      "15\n"
     ]
    }
   ],
   "source": [
    "#Original\n",
    "def solution(a):\n",
    "    total_weights = []\n",
    "    total_weights.append(sum([a[i] for i in range(len(a)) if i % 2 == 0]))\n",
    "    total_weights.append(sum([a[i] for i in range(len(a)) if i % 2 != 0]))\n",
    "    return total_weights\n",
    "\n",
    "print(solution([50, 60, 60, 45, 70]))"
   ]
  },
  {
   "cell_type": "code",
   "execution_count": 104,
   "metadata": {},
   "outputs": [
    {
     "name": "stdout",
     "output_type": "stream",
     "text": [
      "[180, 105]\n"
     ]
    }
   ],
   "source": [
    "#Alternate\n",
    "def solution(a):\n",
    "    return [sum(a[::2]),sum(a[1::2])]\n",
    "\n",
    "print(solution([50, 60, 60, 45, 70]))"
   ]
  },
  {
   "cell_type": "markdown",
   "metadata": {},
   "source": [
    "<mark>Alternate Solution</mark>: Convert elements into a list using ```[]```, used string step ```string[::2] and string[1::2]``` to start at first or second element in list\n",
    "\n",
    "---"
   ]
  },
  {
   "cell_type": "markdown",
   "metadata": {},
   "source": [
    "## Add Border"
   ]
  },
  {
   "cell_type": "markdown",
   "metadata": {},
   "source": [
    "<p align=\"center\"><img src=\"Images/border.png\" width=\"500\"></p>"
   ]
  },
  {
   "cell_type": "code",
   "execution_count": 108,
   "metadata": {},
   "outputs": [
    {
     "name": "stdout",
     "output_type": "stream",
     "text": [
      "['*****', '*abc*', '*ded*', '*****']\n"
     ]
    }
   ],
   "source": [
    "#Original\n",
    "def solution(picture):\n",
    "    for i in range(len(picture)):\n",
    "        picture[i] = \"*\" + picture[i] + \"*\"\n",
    "    top_bottom = \"\"\n",
    "    for i in range(len(picture[i])):\n",
    "        top_bottom += \"*\"\n",
    "    picture.insert(0, top_bottom)\n",
    "    picture.append(top_bottom)\n",
    "    return picture\n",
    "\n",
    "print(solution([\"abc\",\n",
    "           \"ded\"]))"
   ]
  },
  {
   "cell_type": "code",
   "execution_count": 109,
   "metadata": {},
   "outputs": [
    {
     "name": "stdout",
     "output_type": "stream",
     "text": [
      "5\n",
      "['*****', '*abc*', '*ded*', '*****']\n"
     ]
    }
   ],
   "source": [
    "#Alternate\n",
    "def solution(picture):\n",
    "    l=len(picture[0])+2 #asterisks around each element is just length + 2\n",
    "    return [\"*\"*l] + [x.center(l,\"*\") for x in picture] + [\"*\"*l]\n",
    "\n",
    "print(solution([\"abc\",\n",
    "           \"ded\"]))"
   ]
  },
  {
   "cell_type": "markdown",
   "metadata": {},
   "source": [
    "<mark>Alternate Solution</mark>: **use less ```for``` loops and more logic** (length of elements with asterisks), add to list using ```[]+[]```, duplicate strings through operators ```string*8```, list comprehension, **```.center()``` for adding characters around a fixed length of string**\n",
    "\n",
    "---"
   ]
  },
  {
   "cell_type": "markdown",
   "metadata": {},
   "source": [
    "## Are Similar?"
   ]
  },
  {
   "cell_type": "markdown",
   "metadata": {},
   "source": [
    "<p align=\"center\"><img src=\"Images/swap.png\" width=\"500\"></p>"
   ]
  },
  {
   "cell_type": "code",
   "execution_count": 15,
   "metadata": {},
   "outputs": [
    {
     "name": "stdout",
     "output_type": "stream",
     "text": [
      "True\n",
      "True\n",
      "False\n",
      "True\n",
      "True\n"
     ]
    }
   ],
   "source": [
    "#Original\n",
    "def solution(a, b):\n",
    "    #O(n)\n",
    "    if a == b:\n",
    "        return True\n",
    "    else:\n",
    "        indices = [i for i in range(len(a)) if a[i] != b[i]]\n",
    "        for i in range(len(indices)-1):\n",
    "            b[indices[i]], b[indices[i+1]] = b[indices[i+1]], b[indices[i]]\n",
    "            if a == b:\n",
    "                return True\n",
    "            else:\n",
    "                b[indices[i+1]], b[indices[i]] = b[indices[i]], b[indices[i+1]]\n",
    "    return False\n",
    "\n",
    "    #O(n^2)\n",
    "    # if a == b:\n",
    "    #     return True\n",
    "    # else:\n",
    "    #     for i in range(len(b)):\n",
    "    #         for j in range(i+1):\n",
    "    #             b[i], b[j] = b[j], b[i]\n",
    "    #             if a == b:\n",
    "    #                 return True\n",
    "    #             else:\n",
    "    #                 b[j], b[i] = b[i], b[j]\n",
    "    # return False\n",
    "\n",
    "print(solution([1, 2, 3], [1, 2, 3])) #True\n",
    "print(solution([1, 2, 3], [2, 1, 3])) #True\n",
    "print(solution([1, 2, 2], [2, 1, 1])) #False\n",
    "print(solution([2, 3, 1], [1, 3, 2])) #True\n",
    "print(solution([832, 998, 148, 570, 533, 561, 894, 147, 455, 279], [832, 998, 148, 570, 533, 561, 455, 147, 894, 279])) #True"
   ]
  },
  {
   "cell_type": "code",
   "execution_count": 20,
   "metadata": {},
   "outputs": [
    {
     "name": "stdout",
     "output_type": "stream",
     "text": [
      "True\n",
      "True\n",
      "False\n",
      "True\n",
      "True\n",
      "\n",
      "True\n",
      "True\n",
      "False\n",
      "True\n",
      "True\n"
     ]
    }
   ],
   "source": [
    "#Alternate Solutions:\n",
    "\n",
    "def solution1(A, B):\n",
    "    return sorted(A)==sorted(B) and sum([a!=b for a,b in zip(A,B)])<=2\n",
    "\n",
    "print(solution1([1, 2, 3], [1, 2, 3])) #True\n",
    "print(solution1([1, 2, 3], [2, 1, 3])) #True\n",
    "print(solution1([1, 2, 2], [2, 1, 1])) #False\n",
    "print(solution1([2, 3, 1], [1, 3, 2])) #True\n",
    "print(solution1([832, 998, 148, 570, 533, 561, 894, 147, 455, 279], [832, 998, 148, 570, 533, 561, 455, 147, 894, 279])) #True\n",
    "\n",
    "print()\n",
    "\n",
    "from collections import Counter as C\n",
    "def solution2(A, B):\n",
    "    return C(A) == C(B) and sum(a != b for a, b in zip(A, B)) < 3\n",
    "\n",
    "print(solution1([1, 2, 3], [1, 2, 3])) #True\n",
    "print(solution1([1, 2, 3], [2, 1, 3])) #True\n",
    "print(solution1([1, 2, 2], [2, 1, 1])) #False\n",
    "print(solution1([2, 3, 1], [1, 3, 2])) #True\n",
    "print(solution1([832, 998, 148, 570, 533, 561, 894, 147, 455, 279], [832, 998, 148, 570, 533, 561, 455, 147, 894, 279])) #True\n"
   ]
  },
  {
   "cell_type": "markdown",
   "metadata": {},
   "source": [
    "<mark>Alternate Solution</mark>: \n",
    "\n",
    "solution 1\n",
    "- used sum() and list comprehension\n",
    "- **used ```zip()```**\n",
    "- used ```sorted()``` to first check if lists are already \n",
    "- returned solution in 1 line\n",
    "\n",
    "solution 2\n",
    "- same notes as solution 1\n",
    "- except using ```sorted() ```-> used ```Counter from collections```\n",
    "\n",
    "---"
   ]
  },
  {
   "cell_type": "markdown",
   "metadata": {},
   "source": [
    "## arrayChange"
   ]
  },
  {
   "cell_type": "markdown",
   "metadata": {},
   "source": [
    "<p align=\"center\"><img src=\"Images/arrayChange.png\" width=\"500\"></p>"
   ]
  },
  {
   "cell_type": "code",
   "execution_count": 11,
   "metadata": {},
   "outputs": [
    {
     "name": "stdout",
     "output_type": "stream",
     "text": [
      "3\n",
      "5\n"
     ]
    }
   ],
   "source": [
    "#Original\n",
    "def solution(inputArray):\n",
    "    moves = 0\n",
    "    for i in range(len(inputArray)-1):\n",
    "        to_increase = 0\n",
    "        if inputArray[i] >= inputArray[i+1]:\n",
    "            to_increase = (inputArray[i] - inputArray[i+1]) + 1\n",
    "            inputArray[i+1] += to_increase\n",
    "        moves += to_increase\n",
    "    return moves\n",
    "            \n",
    "print(solution([1,1,1]))\n",
    "print(solution(inputArray=[-1000, 0, -2, 0]))"
   ]
  },
  {
   "cell_type": "code",
   "execution_count": 12,
   "metadata": {},
   "outputs": [],
   "source": [
    "#Alternate\n",
    "#None - same method, logic, and math as original solution"
   ]
  },
  {
   "cell_type": "markdown",
   "metadata": {},
   "source": [
    "<mark>Notes</mark>: use math to find relationship between variables instead of iterations\n",
    "\n",
    "---"
   ]
  },
  {
   "cell_type": "markdown",
   "metadata": {},
   "source": [
    "## palindromeRearranging"
   ]
  },
  {
   "cell_type": "markdown",
   "metadata": {},
   "source": [
    "<p align=\"center\"><img src=\"Images/palindrome.png\" width=\"500\"></p>"
   ]
  },
  {
   "cell_type": "code",
   "execution_count": 26,
   "metadata": {},
   "outputs": [
    {
     "name": "stdout",
     "output_type": "stream",
     "text": [
      "True\n"
     ]
    }
   ],
   "source": [
    "#Original\n",
    "def solution(inputString):\n",
    "    size = len(inputString)\n",
    "    if inputString == inputString[::-1]:\n",
    "        return True\n",
    "    else:\n",
    "        letterCount = [inputString.count(letter) for letter in set(inputString)]\n",
    "        if size % 2 == 0:\n",
    "            for count in letterCount:\n",
    "                if count % 2 != 0:\n",
    "                    return False\n",
    "            return True\n",
    "        else:\n",
    "            oddCount = [count for count in letterCount if count%2 != 0]\n",
    "            if len(oddCount) != 1:\n",
    "                return False\n",
    "            else:\n",
    "                return True\n",
    "\n",
    "print(solution(\"abbcabb\"))"
   ]
  },
  {
   "cell_type": "code",
   "execution_count": 30,
   "metadata": {},
   "outputs": [
    {
     "name": "stdout",
     "output_type": "stream",
     "text": [
      "[1, 1]\n",
      "False\n"
     ]
    }
   ],
   "source": [
    "#Alternate\n",
    "def solution(inputString):\n",
    "    # test = []\n",
    "    # for i in set(inputString):\n",
    "    #     test.append(inputString.count(i) % 2)\n",
    "    # print(test)\n",
    "    return sum([inputString.count(i)%2 for i in set(inputString)]) <= 1\n",
    "\n",
    "print(solution(\"abbb\"))"
   ]
  },
  {
   "cell_type": "markdown",
   "metadata": {},
   "source": [
    "<mark>Alternate Solution</mark>: use list comprehension more, use ```sum()``` more, **find best way to solve question on paper using math**\n",
    "\n",
    "---"
   ]
  },
  {
   "cell_type": "markdown",
   "metadata": {},
   "source": [
    "## areEquallyStrong"
   ]
  },
  {
   "cell_type": "markdown",
   "metadata": {},
   "source": [
    "<p align=\"center\"><img src=\"Images/strong.png\" width=\"500\"></p>"
   ]
  },
  {
   "cell_type": "code",
   "execution_count": 46,
   "metadata": {},
   "outputs": [
    {
     "name": "stdout",
     "output_type": "stream",
     "text": [
      "False\n",
      "False\n",
      "True\n"
     ]
    }
   ],
   "source": [
    "#Original\n",
    "def solution(yourLeft, yourRight, friendsLeft, friendsRight):\n",
    "    return sorted([yourLeft, yourRight]) == sorted([friendsLeft, friendsRight])\n",
    "\n",
    "print(solution(15, 10, 15, 9))\n",
    "print(solution(1, 10, 10, 0))\n",
    "print(solution(10, 15, 15, 10))\n"
   ]
  },
  {
   "cell_type": "code",
   "execution_count": 45,
   "metadata": {},
   "outputs": [
    {
     "name": "stdout",
     "output_type": "stream",
     "text": [
      "False\n",
      "False\n",
      "True\n"
     ]
    }
   ],
   "source": [
    "#Alternate\n",
    "def solution(yourLeft, yourRight, friendsLeft, friendsRight):\n",
    "    return {yourLeft, yourRight} == {friendsLeft, friendsRight}\n",
    "\n",
    "something = set()\n",
    "\n",
    "print(solution(15, 10, 15, 9))\n",
    "print(solution(1, 10, 10, 0))\n",
    "print(solution(10, 15, 15, 10))\n"
   ]
  },
  {
   "cell_type": "markdown",
   "metadata": {},
   "source": [
    "<mark>Alternate Solution</mark>: **making a set out of numbers ```{}``` sorts the numbers in the set**\n",
    "\n",
    "---"
   ]
  },
  {
   "cell_type": "markdown",
   "metadata": {},
   "source": [
    "## arrayMaximalAdjacentDifference"
   ]
  },
  {
   "cell_type": "markdown",
   "metadata": {},
   "source": [
    "<p align=\"center\"><img src=\"Images/maximal.png\" width=\"500\"></p>"
   ]
  },
  {
   "cell_type": "code",
   "execution_count": 47,
   "metadata": {},
   "outputs": [
    {
     "name": "stdout",
     "output_type": "stream",
     "text": [
      "3\n"
     ]
    }
   ],
   "source": [
    "#Original\n",
    "def solution(inputArray):\n",
    "    return max([abs(inputArray[i]-inputArray[i+1]) for i in range(len(inputArray)-1)])\n",
    "\n",
    "print(solution([2, 4, 1, 0]))"
   ]
  },
  {
   "cell_type": "markdown",
   "metadata": {},
   "source": [
    "<mark>Alternate Solution</mark>: None\n",
    "\n",
    "---"
   ]
  },
  {
   "cell_type": "markdown",
   "metadata": {},
   "source": [
    "## isIPv4Address"
   ]
  },
  {
   "cell_type": "markdown",
   "metadata": {},
   "source": [
    "<p align=\"center\"><img src=\"Images/ipv4.png\" width=\"500\"></p>"
   ]
  },
  {
   "cell_type": "code",
   "execution_count": 100,
   "metadata": {},
   "outputs": [
    {
     "name": "stdout",
     "output_type": "stream",
     "text": [
      "['64', '233', '161', '00']\n",
      "False\n"
     ]
    }
   ],
   "source": [
    "#Original\n",
    "def solution(inputString):\n",
    "    listIP = []\n",
    "    temp = \"\"\n",
    "    for i in range(len(inputString)):\n",
    "        if inputString[i] != \".\":\n",
    "            temp += inputString[i]\n",
    "        if inputString[i] == \".\" or i == len(inputString)-1:\n",
    "            listIP.append(temp)\n",
    "            temp = \"\"\n",
    "    try:\n",
    "        if len(listIP) == 4 and \"\" not in listIP:\n",
    "            for i in listIP:\n",
    "                if (int(i) < 0 or int(i) > 255) or (len(i) >= 2 and i[0] == \"0\"):\n",
    "                    return False\n",
    "            listIP = [int(i) for i in listIP]\n",
    "            return True\n",
    "        return False\n",
    "    except:\n",
    "        return False\n",
    "\n",
    "# print(solution(\"172.16.254.1\"))\n",
    "# print(solution(\"172.316.254.1\"))\n",
    "# print(solution(\".254.255.0\"))\n",
    "# print(solution(\"1.1.1.1a\"))\n",
    "print(solution(\"64.233.161.00\"))\n",
    "# print(solution(\"a0.1.1.1\"))"
   ]
  },
  {
   "cell_type": "code",
   "execution_count": 101,
   "metadata": {},
   "outputs": [
    {
     "name": "stdout",
     "output_type": "stream",
     "text": [
      "True\n",
      "False\n",
      "False\n",
      "False\n",
      "True\n",
      "False\n"
     ]
    }
   ],
   "source": [
    "#Alternate\n",
    "def solution(s):\n",
    "    p = s.split('.')\n",
    "    return len(p) == 4 and all(n.isdigit() and 0 <= int(n) < 256 for n in p)\n",
    "\n",
    "print(solution(\"172.16.254.1\"))\n",
    "print(solution(\"172.316.254.1\"))\n",
    "print(solution(\".254.255.0\"))\n",
    "print(solution(\"1.1.1.1a\"))\n",
    "print(solution(\"64.233.161.00\"))\n",
    "print(solution(\"a0.1.1.1\"))"
   ]
  },
  {
   "cell_type": "markdown",
   "metadata": {},
   "source": [
    "<mark>Alternate Solution</mark>: **Use``` .split()``` to split string on a character into elements of a list**, **use ```all()``` to check conditions on all elements**, **use .```isdigit()``` to check if element is a number**, **for comparisons use mathematical standard: 0 < 15 < 256**\n",
    "\n",
    "---"
   ]
  },
  {
   "cell_type": "markdown",
   "metadata": {},
   "source": [
    "## avoidObstacles"
   ]
  },
  {
   "cell_type": "markdown",
   "metadata": {},
   "source": [
    "<p align=\"center\"><img src=\"Images/obstacle.png\" width=\"500\"></p>"
   ]
  },
  {
   "cell_type": "code",
   "execution_count": 115,
   "metadata": {},
   "outputs": [
    {
     "name": "stdout",
     "output_type": "stream",
     "text": [
      "4\n",
      "6\n"
     ]
    }
   ],
   "source": [
    "#Original\n",
    "def solution(inputArray):\n",
    "    inputArray.sort()\n",
    "    minLength = 1\n",
    "    found = False\n",
    "    while not found:\n",
    "        if any(n % minLength == 0 for n in inputArray) == True:\n",
    "            minLength += 1\n",
    "        else:\n",
    "            found = True\n",
    "    return minLength\n",
    "\n",
    "print(solution([5, 3, 6, 7, 9]))\n",
    "print(solution([1000, 999]))"
   ]
  },
  {
   "cell_type": "code",
   "execution_count": 1,
   "metadata": {},
   "outputs": [
    {
     "name": "stdout",
     "output_type": "stream",
     "text": [
      "4\n",
      "6\n"
     ]
    }
   ],
   "source": [
    "#Alternate\n",
    "def solution(inputArray):\n",
    "    c = 2\n",
    "    while True:\n",
    "        if sorted([i%c for i in inputArray])[0]>0:\n",
    "            return c\n",
    "        c += 1\n",
    "\n",
    "print(solution([5, 3, 6, 7, 9]))\n",
    "print(solution([1000, 999]))"
   ]
  },
  {
   "cell_type": "markdown",
   "metadata": {},
   "source": [
    "<mark>Alternate Solution</mark>: to get out of while loop **use ```return``` inside loop**, used ```sorted()``` for **sorting modded values to find minimal length**, *checked if first value in modded sorted list is greater than 0 (there is remainder) -> return the counter (minimal length)*\n",
    "\n",
    "---"
   ]
  },
  {
   "cell_type": "markdown",
   "metadata": {},
   "source": [
    "## Box Blur"
   ]
  },
  {
   "cell_type": "markdown",
   "metadata": {},
   "source": [
    "<p align=\"center\"><img src=\"Images/blur.png\" width=\"500\"></p>"
   ]
  },
  {
   "cell_type": "markdown",
   "metadata": {},
   "source": [
    "<p align=\"center\"><img src=\"Images/blur2.png\" width=\"500\"></p>"
   ]
  },
  {
   "cell_type": "code",
   "execution_count": 130,
   "metadata": {},
   "outputs": [
    {
     "name": "stdout",
     "output_type": "stream",
     "text": [
      "[[1]]\n",
      "[[5, 4], [4, 4]]\n"
     ]
    }
   ],
   "source": [
    "#Original\n",
    "def solution(image):\n",
    "    blur, s = [], []\n",
    "    c, r = len(image), len(image[0])\n",
    "    fStart = 0\n",
    "    fEnd = fStart + 3\n",
    "    for i in range(0, c-2):\n",
    "        sStart = 0\n",
    "        sEnd = sStart + 3\n",
    "        t = 0\n",
    "        s = []\n",
    "        while sEnd < r+1:\n",
    "            s.append(sum([sum(image[fStart:fEnd][z][sStart:sEnd]) for z in range(0, 3)]) // 9)\n",
    "            sStart += 1\n",
    "            sEnd += 1\n",
    "            t = 0\n",
    "        blur.append(s)\n",
    "        fStart += 1\n",
    "        fEnd += 1\n",
    "    \n",
    "    return blur\n",
    "\n",
    "image = [[1, 1, 1], \n",
    "        [1, 7, 1], \n",
    "        [1, 1, 1]]\n",
    "print(solution(image))\n",
    "image = [[7, 4, 0, 1], \n",
    "         [5, 6, 2, 2], \n",
    "         [6, 10, 7, 8], \n",
    "         [1, 4, 2, 0]]\n",
    "print(solution(image))"
   ]
  },
  {
   "cell_type": "code",
   "execution_count": 134,
   "metadata": {},
   "outputs": [
    {
     "name": "stdout",
     "output_type": "stream",
     "text": [
      "[[1]]\n",
      "[[5, 4], [4, 4]]\n"
     ]
    }
   ],
   "source": [
    "#Alternate\n",
    "def solution(image):\n",
    "    return [[int(sum(sum(x[i:i+3]) for x in image[j:j+3])/9) for i in range(len(image[j])-2)] for j in range(len(image)-2)]\n",
    "\n",
    "image = [[1, 1, 1], \n",
    "        [1, 7, 1], \n",
    "        [1, 1, 1]]\n",
    "print(solution(image))\n",
    "image = [[7, 4, 0, 1], \n",
    "         [5, 6, 2, 2], \n",
    "         [6, 10, 7, 8], \n",
    "         [1, 4, 2, 0]]\n",
    "print(solution(image))"
   ]
  },
  {
   "cell_type": "markdown",
   "metadata": {},
   "source": [
    "<mark>Alternate Solution</mark>: used multiple for loops in list comprehension, used more ```sum()```, make code conciser after, logic in alternate same as original\n",
    "\n",
    "---"
   ]
  },
  {
   "cell_type": "markdown",
   "metadata": {},
   "source": [
    "## Minesweeper"
   ]
  },
  {
   "cell_type": "markdown",
   "metadata": {},
   "source": [
    "<p align=\"center\"><img src=\"Images/mine.png\" width=\"500\"></p>"
   ]
  },
  {
   "cell_type": "code",
   "execution_count": 172,
   "metadata": {},
   "outputs": [
    {
     "name": "stdout",
     "output_type": "stream",
     "text": [
      "[1, 2, 1]\n",
      "[2, 1, 1]\n",
      "[1, 1, 1]\n",
      "\n",
      "[0, 0, 0]\n",
      "[0, 0, 0]\n",
      "\n",
      "[0, 2, 2, 1]\n",
      "[3, 4, 3, 3]\n",
      "[1, 2, 3, 1]\n"
     ]
    }
   ],
   "source": [
    "#Original\n",
    "def check_corner(i, j, matrix):\n",
    "  cnt = 0\n",
    "  try:\n",
    "    #right\n",
    "    if matrix[i][j+1] == True:\n",
    "      cnt += 1\n",
    "  except:\n",
    "    pass\n",
    "  try:\n",
    "    #left\n",
    "    if j-1 == abs(j-1):\n",
    "      if matrix[i][j-1] == True:\n",
    "        cnt += 1\n",
    "  except:\n",
    "    pass\n",
    "  try:\n",
    "    #top\n",
    "    if i-1 == abs(i-1):\n",
    "      if matrix[i-1][j] == True:\n",
    "        cnt += 1\n",
    "  except:\n",
    "    pass\n",
    "  try:\n",
    "    #bottom\n",
    "    if matrix[i+1][j] == True:\n",
    "      cnt += 1\n",
    "  except:\n",
    "    pass\n",
    "  try:\n",
    "    #top-left\n",
    "    if i-1 == abs(i-1) and j-1 == abs(j-1):\n",
    "      if matrix[abs(i-1)][abs(j-1)] == True:\n",
    "        cnt += 1\n",
    "  except:\n",
    "    pass\n",
    "  try:\n",
    "    #top-right\n",
    "    if i-1 == abs(i-1):\n",
    "      if matrix[i-1][j+1] == 1:\n",
    "        cnt += 1\n",
    "  except:\n",
    "    pass\n",
    "  try:\n",
    "    #bottom-left\n",
    "    if j-1 == abs(j-1):\n",
    "      if matrix[i+1][j-1] == 1:\n",
    "        cnt += 1\n",
    "  except:\n",
    "    pass\n",
    "  try:\n",
    "    #bottom-right\n",
    "    if matrix[i+1][j+1] == 1:\n",
    "      cnt += 1\n",
    "  except:\n",
    "    pass\n",
    "  return cnt\n",
    "\n",
    "def solution(matrix):\n",
    "  minesweeper = []\n",
    "  for i in range(len(matrix)):\n",
    "    s = []\n",
    "    for j in range(len(matrix[0])):\n",
    "      s.append(check_corner(i, j, matrix))\n",
    "    minesweeper.append(s)\n",
    "  return minesweeper\n",
    "\n",
    "matrix = [[True, False, False],\n",
    "          [False, True, False],\n",
    "          [False, False, False]]\n",
    "        # [[1, 2, 1],\n",
    "        # [2, 1, 1],\n",
    "        # [1, 1, 1]]\n",
    "\n",
    "matrix = solution(matrix)\n",
    "for row in matrix:\n",
    "  print(row)\n",
    "\n",
    "print()\n",
    "\n",
    "matrix = solution([[False,False,False], \n",
    " [False,False,False]])\n",
    "for row in matrix:\n",
    "  print(row)\n",
    "\n",
    "print()\n",
    "\n",
    "matrix = solution([[True,False,False,True], \n",
    " [False,False, True, False], \n",
    " [True,True,False,True]])\n",
    "for row in matrix:\n",
    "  print(row)"
   ]
  },
  {
   "cell_type": "code",
   "execution_count": 174,
   "metadata": {},
   "outputs": [
    {
     "name": "stdout",
     "output_type": "stream",
     "text": [
      "[1, 2, 1]\n",
      "[2, 1, 1]\n",
      "[1, 1, 1]\n",
      "\n",
      "[0, 0, 0]\n",
      "[0, 0, 0]\n",
      "\n",
      "[0, 2, 2, 1]\n",
      "[3, 4, 3, 3]\n",
      "[1, 2, 3, 1]\n"
     ]
    }
   ],
   "source": [
    "#Alternate\n",
    "def solution(matrix):\n",
    "    r = []\n",
    "    for i in range(len(matrix)):\n",
    "        r.append([])\n",
    "        for j in range(len(matrix[0])):\n",
    "            l = -matrix[i][j]\n",
    "            for x in [-1,0,1]:\n",
    "                for y in [-1,0,1]:\n",
    "                    if 0<=i+x<len(matrix) and 0<=j+y<len(matrix[0]):\n",
    "                        l += matrix[i+x][j+y]\n",
    "            r[i].append(l)\n",
    "            \n",
    "    return r\n",
    "\n",
    "matrix = [[True, False, False],\n",
    "          [False, True, False],\n",
    "          [False, False, False]]\n",
    "        # [[1, 2, 1],\n",
    "        # [2, 1, 1],\n",
    "        # [1, 1, 1]]\n",
    "\n",
    "matrix = solution(matrix)\n",
    "for row in matrix:\n",
    "  print(row)\n",
    "\n",
    "print()\n",
    "\n",
    "matrix = solution([[False,False,False], \n",
    " [False,False,False]])\n",
    "for row in matrix:\n",
    "  print(row)\n",
    "\n",
    "print()\n",
    "\n",
    "matrix = solution([[True,False,False,True], \n",
    " [False,False, True, False], \n",
    " [True,True,False,True]])\n",
    "for row in matrix:\n",
    "  print(row)"
   ]
  },
  {
   "cell_type": "markdown",
   "metadata": {},
   "source": [
    "<mark>Alternate Solution</mark>: used multiple for loops, **changed boolean to a number**, added empty array to final array in beginning and used first for loop to append into appropriate array\n",
    "\n",
    "---"
   ]
  },
  {
   "cell_type": "markdown",
   "metadata": {},
   "source": [
    "## Array Replace"
   ]
  },
  {
   "cell_type": "markdown",
   "metadata": {},
   "source": [
    "<p align=\"center\"><img src=\"Images/replace.png\" width=\"500\"></p>"
   ]
  },
  {
   "cell_type": "code",
   "execution_count": 180,
   "metadata": {},
   "outputs": [
    {
     "name": "stdout",
     "output_type": "stream",
     "text": [
      "[3, 2, 3]\n"
     ]
    }
   ],
   "source": [
    "#Original\n",
    "def solution(inputArray, elemToReplace, substitutionElem):\n",
    "    for i in range(len(inputArray)):\n",
    "        if inputArray[i] == elemToReplace:\n",
    "            inputArray[i] = substitutionElem\n",
    "    return inputArray\n",
    "\n",
    "print(solution([1, 2, 1], 1, 3))"
   ]
  },
  {
   "cell_type": "code",
   "execution_count": 183,
   "metadata": {},
   "outputs": [
    {
     "name": "stdout",
     "output_type": "stream",
     "text": [
      "[3, 2, 3]\n"
     ]
    }
   ],
   "source": [
    "#Alternate\n",
    "def solution(i, e, s):\n",
    "    return [x if x != e else s for x in i]\n",
    "\n",
    "print(solution([1, 2, 1], 1, 3))"
   ]
  },
  {
   "cell_type": "markdown",
   "metadata": {},
   "source": [
    "<mark>Alternate Solution</mark>: For list comprehension -> **can put if and else statements before for loop on same line**\n",
    "\n",
    "---"
   ]
  },
  {
   "cell_type": "markdown",
   "metadata": {},
   "source": [
    "## evenDigitsOnly"
   ]
  },
  {
   "cell_type": "markdown",
   "metadata": {},
   "source": [
    "Check if all digits of the given integer are even."
   ]
  },
  {
   "cell_type": "code",
   "execution_count": 184,
   "metadata": {},
   "outputs": [
    {
     "name": "stdout",
     "output_type": "stream",
     "text": [
      "True\n"
     ]
    }
   ],
   "source": [
    "#Original\n",
    "def solution(n):\n",
    "    for i in str(n):\n",
    "        if int(i) % 2 != 0:\n",
    "            return False\n",
    "    return True\n",
    "\n",
    "print(solution(224468888642))"
   ]
  },
  {
   "cell_type": "code",
   "execution_count": 185,
   "metadata": {},
   "outputs": [
    {
     "name": "stdout",
     "output_type": "stream",
     "text": [
      "True\n"
     ]
    }
   ],
   "source": [
    "#Alternate\n",
    "def solution(n):\n",
    "    return all([int(i)%2==0 for i in str(n)])\n",
    "\n",
    "print(solution(224468888642))"
   ]
  },
  {
   "cell_type": "markdown",
   "metadata": {},
   "source": [
    "<mark>Alternate Solution</mark>: **use ```all()``` to check if all same or all ```True```**, **use list comprehension**\n",
    "\n",
    "---"
   ]
  },
  {
   "cell_type": "markdown",
   "metadata": {},
   "source": [
    "## variableName"
   ]
  },
  {
   "cell_type": "markdown",
   "metadata": {},
   "source": [
    "<p align=\"center\"><img src=\"Images/variable.png\" width=\"500\"></p>"
   ]
  },
  {
   "cell_type": "code",
   "execution_count": 193,
   "metadata": {},
   "outputs": [
    {
     "name": "stdout",
     "output_type": "stream",
     "text": [
      "True\n",
      "False\n",
      "False\n"
     ]
    }
   ],
   "source": [
    "#Original\n",
    "def solution(name):\n",
    "    return all([(char.isalpha() or char.isdigit() or char == \"_\") and name[0].isdigit() == False for char in name])\n",
    "\n",
    "print(solution(\"var_1__Int\"))\n",
    "print(solution(\"qq-q\"))\n",
    "print(solution(\"2w2\"))"
   ]
  },
  {
   "cell_type": "code",
   "execution_count": 194,
   "metadata": {},
   "outputs": [
    {
     "name": "stdout",
     "output_type": "stream",
     "text": [
      "True\n",
      "False\n",
      "False\n"
     ]
    }
   ],
   "source": [
    "#Alternate\n",
    "def solution(name):\n",
    "    return name.isidentifier()\n",
    "\n",
    "print(solution(\"var_1__Int\"))\n",
    "print(solution(\"qq-q\"))\n",
    "print(solution(\"2w2\"))"
   ]
  },
  {
   "cell_type": "markdown",
   "metadata": {},
   "source": [
    "<mark>Alternate Solution</mark>: used ```.isidentifier()``` (A string is considered a valid identifier if it only contains alphanumeric letters (a-z) and (0-9), or underscores (_). A valid identifier cannot start with a number, or contain any spaces.)\n",
    "\n",
    "---"
   ]
  },
  {
   "cell_type": "markdown",
   "metadata": {},
   "source": [
    "## alphabeticShift"
   ]
  },
  {
   "cell_type": "markdown",
   "metadata": {},
   "source": [
    "<p align=\"center\"><img src=\"Images/alphabet.png\" width=\"500\"></p>"
   ]
  },
  {
   "cell_type": "code",
   "execution_count": 202,
   "metadata": {},
   "outputs": [
    {
     "name": "stdout",
     "output_type": "stream",
     "text": [
      "dsbaz\n"
     ]
    }
   ],
   "source": [
    "#Original\n",
    "def solution(inputString):\n",
    "    newString = \"\"\n",
    "    for i in inputString:\n",
    "        if i == 'z':\n",
    "            newString += chr(97)\n",
    "        else:\n",
    "            newString += chr(ord(i)+1)\n",
    "    return newString\n",
    "\n",
    "print(solution(\"crazy\"))"
   ]
  },
  {
   "cell_type": "code",
   "execution_count": 206,
   "metadata": {},
   "outputs": [
    {
     "name": "stdout",
     "output_type": "stream",
     "text": [
      "dsbaz\n"
     ]
    }
   ],
   "source": [
    "#Alternate\n",
    "def solution(s):\n",
    "    return \"\".join(chr((ord(i)-96)%26+97) for i in s)\n",
    "\n",
    "print(solution(\"crazy\"))"
   ]
  },
  {
   "cell_type": "markdown",
   "metadata": {},
   "source": [
    "<mark>Alternate Solution</mark>: use ```.join()``` to join characters together, use math to find out how to start at 97 and wrap around after z: ```(ord(i)-96)%26+97```, use comprehension approach for for loop\n",
    "\n",
    "---"
   ]
  },
  {
   "cell_type": "markdown",
   "metadata": {},
   "source": [
    "## chessBoardCellColor"
   ]
  },
  {
   "cell_type": "markdown",
   "metadata": {},
   "source": [
    "<p align=\"center\"><img src=\"Images/color.png\" width=\"500\"></p>"
   ]
  },
  {
   "cell_type": "code",
   "execution_count": 236,
   "metadata": {},
   "outputs": [
    {
     "name": "stdout",
     "output_type": "stream",
     "text": [
      "False\n",
      "False\n",
      "True\n",
      "True\n",
      "True\n"
     ]
    }
   ],
   "source": [
    "#Original\n",
    "def solution(c1, c2):\n",
    "    if c1[0] == c2[0] and abs(int(c1[1]) - int(c2[1])) % 2 == 0:\n",
    "        return True\n",
    "    elif abs(ord(c1[0]) - ord(c2[0])) == 1 and abs(int(c1[1]) - int(c2[1])) % 2 != 0:\n",
    "        return True\n",
    "    elif c1[1] == c2[1] and abs(ord(c1[0]) - ord(c2[0])) == 2:\n",
    "        return True\n",
    "    elif abs(int(c1[1]) - int(c2[1])) % 2 == 0 and abs(ord(c1[0]) - ord(c2[0])) % 2 == 0 and c1[0] != c2[0]:\n",
    "        return True\n",
    "    elif abs(ord(c1[0]) - ord(c2[0])) % 2 != 0 and c1[0] != c2[0] and abs(int(c1[1]) - int(c2[1])) % 2 != 0:\n",
    "        return True\n",
    "    return False\n",
    "\n",
    "print(solution(\"A1\", \"A2\")) #False\n",
    "print(solution(\"A1\", \"H3\")) #False\n",
    "print(solution(\"A1\", \"C1\")) #True\n",
    "print(solution(\"A1\", \"D4\")) #True\n",
    "print(solution(\"A1\", \"C3\")) #True"
   ]
  },
  {
   "cell_type": "code",
   "execution_count": 237,
   "metadata": {},
   "outputs": [
    {
     "name": "stdout",
     "output_type": "stream",
     "text": [
      "False\n",
      "False\n",
      "True\n",
      "True\n",
      "True\n"
     ]
    }
   ],
   "source": [
    "#Alternate\n",
    "def solution(cell1, cell2):\n",
    "    return (ord(cell1[0])+int(cell1[1])+ord(cell2[0])+int(cell2[1]))%2==0\n",
    "\n",
    "print(solution(\"A1\", \"A2\")) #False\n",
    "print(solution(\"A1\", \"H3\")) #False\n",
    "print(solution(\"A1\", \"C1\")) #True\n",
    "print(solution(\"A1\", \"D4\")) #True\n",
    "print(solution(\"A1\", \"C3\")) #True"
   ]
  },
  {
   "cell_type": "markdown",
   "metadata": {},
   "source": [
    "<mark>Alternate Solution</mark>: use **MATH** more to figure out problems (find a formula), **use SCRATCH PAPER to write out if combination fits solution**\n",
    "\n",
    "---"
   ]
  },
  {
   "cell_type": "markdown",
   "metadata": {},
   "source": [
    "## Circle of Numbers"
   ]
  },
  {
   "cell_type": "markdown",
   "metadata": {},
   "source": [
    "<p align=\"center\"><img src=\"Images/circle.png\" width=\"500\"></p>"
   ]
  },
  {
   "cell_type": "code",
   "execution_count": 249,
   "metadata": {},
   "outputs": [
    {
     "name": "stdout",
     "output_type": "stream",
     "text": [
      "3\n",
      "7\n",
      "2\n",
      "3\n",
      "3\n"
     ]
    }
   ],
   "source": [
    "#Original\n",
    "def solution(n, fN):\n",
    "    half = n // 2\n",
    "    if fN > half:\n",
    "        return fN - half\n",
    "    elif fN < half:\n",
    "        return half + fN\n",
    "    return 0\n",
    "\n",
    "print(solution(4, 1))\n",
    "print(solution(10, 2))\n",
    "print(solution(10, 7))\n",
    "print(solution(6, 0))\n",
    "print(solution(6, 0))"
   ]
  },
  {
   "cell_type": "code",
   "execution_count": 250,
   "metadata": {},
   "outputs": [
    {
     "name": "stdout",
     "output_type": "stream",
     "text": [
      "3.0\n",
      "7.0\n",
      "2.0\n",
      "3.0\n",
      "3.0\n"
     ]
    }
   ],
   "source": [
    "#Alternate\n",
    "def solution(n, firstNumber):\n",
    "    return (firstNumber + n/2)%n\n",
    "\n",
    "print(solution(4, 1))\n",
    "print(solution(10, 2))\n",
    "print(solution(10, 7))\n",
    "print(solution(6, 0))\n",
    "print(solution(6, 0))"
   ]
  },
  {
   "cell_type": "markdown",
   "metadata": {},
   "source": [
    "<mark>Alternate Solution</mark>: used the mod operator: ```%``` instead of conditionals\n",
    "\n",
    "---"
   ]
  },
  {
   "cell_type": "markdown",
   "metadata": {},
   "source": [
    "## depositProfit"
   ]
  },
  {
   "cell_type": "markdown",
   "metadata": {},
   "source": [
    "<p align=\"center\"><img src=\"Images/deposit.png\" width=\"500\"></p>"
   ]
  },
  {
   "cell_type": "code",
   "execution_count": 1,
   "metadata": {},
   "outputs": [
    {
     "name": "stdout",
     "output_type": "stream",
     "text": [
      "3\n"
     ]
    }
   ],
   "source": [
    "#Original\n",
    "def solution(deposit, rate, threshold):\n",
    "    y = 0\n",
    "    while deposit < threshold:\n",
    "        deposit = deposit + deposit*(rate / 100)\n",
    "        y += 1\n",
    "    return y\n",
    "\n",
    "print(solution(100, 20, 170))"
   ]
  },
  {
   "cell_type": "code",
   "execution_count": 2,
   "metadata": {},
   "outputs": [
    {
     "name": "stdout",
     "output_type": "stream",
     "text": [
      "3\n"
     ]
    }
   ],
   "source": [
    "#Alternate\n",
    "import math\n",
    "\n",
    "def solution(deposit, rate, threshold):\n",
    "    return math.ceil(math.log(threshold/deposit, 1+rate/100))\n",
    "\n",
    "print(solution(100, 20, 170))"
   ]
  },
  {
   "cell_type": "markdown",
   "metadata": {},
   "source": [
    "<mark>Alternate Solution</mark>: used simple interest formula, used ```math``` library\n",
    "\n",
    "---"
   ]
  },
  {
   "cell_type": "markdown",
   "metadata": {},
   "source": [
    "## absoluteValuesSumMinimization"
   ]
  },
  {
   "cell_type": "markdown",
   "metadata": {},
   "source": [
    "<p align=\"center\"><img src=\"Images/absolute.png\" width=\"500\"></p>"
   ]
  },
  {
   "cell_type": "code",
   "execution_count": 15,
   "metadata": {},
   "outputs": [
    {
     "name": "stdout",
     "output_type": "stream",
     "text": [
      "4\n"
     ]
    }
   ],
   "source": [
    "#Original\n",
    "def solution(a):\n",
    "    final_values = []\n",
    "    for i in range(len(a)):\n",
    "        close_values = [abs(a[i] - a[j]) for j in range(len(a)) if i != j]\n",
    "        final_values += [sum(close_values)]\n",
    "    return a[final_values.index(min(final_values))]\n",
    "\n",
    "print(solution([2, 4, 7]))"
   ]
  },
  {
   "cell_type": "code",
   "execution_count": 16,
   "metadata": {},
   "outputs": [
    {
     "name": "stdout",
     "output_type": "stream",
     "text": [
      "4\n"
     ]
    }
   ],
   "source": [
    "#Alternate\n",
    "def solution(A):\n",
    "    return A[(len(A)-1)//2]\n",
    "\n",
    "print(solution([2, 4, 7]))"
   ]
  },
  {
   "cell_type": "markdown",
   "metadata": {},
   "source": [
    "<mark>Alternate Solution</mark>: used math more, **took into account that list was sorted -> found the index of the middle element**\n",
    "\n",
    "---"
   ]
  },
  {
   "cell_type": "markdown",
   "metadata": {},
   "source": [
    "## **stringsRearrangement** (could not solve: need recursion dfs or permutations library)"
   ]
  },
  {
   "cell_type": "markdown",
   "metadata": {},
   "source": [
    "<p align=\"center\"><img src=\"Images/rearrange.png\" width=\"500\"></p>"
   ]
  },
  {
   "cell_type": "code",
   "execution_count": 19,
   "metadata": {},
   "outputs": [
    {
     "name": "stdout",
     "output_type": "stream",
     "text": [
      "True\n",
      "False\n",
      "True\n",
      "False\n",
      "True\n",
      "True\n",
      "False\n",
      "False\n",
      "True\n"
     ]
    }
   ],
   "source": [
    "#Original - using permutations\n",
    "from itertools import permutations as p\n",
    "def solution(inputArray):\n",
    "    for ia in p(inputArray):\n",
    "        if all_Differ(ia):\n",
    "            return True\n",
    "    return False\n",
    "\n",
    "def all_Differ(arr):\n",
    "    truth_values = []\n",
    "    for i in range(len(arr)-1):\n",
    "        counter = 0\n",
    "        s1 = arr[i]\n",
    "        s2 = arr[i+1]\n",
    "        for i in range(len(s1)):\n",
    "            if s1[i] != s2[i]:\n",
    "                counter += 1\n",
    "        truth_values.append(counter == 1)\n",
    "    if False in truth_values:\n",
    "        return False\n",
    "    else:\n",
    "        return True\n",
    "        \n",
    "print(solution([\"aa\", \"ab\", \"bb\"])) #True\n",
    "print(solution([\"aba\", \"bbb\", \"bab\"])) #False\n",
    "print(solution([\"ab\", \"bb\", \"aa\"])) #True \n",
    "print(solution([\"q\", \"q\"])) #False\n",
    "print(solution([\"abc\", \"bef\", \"bcc\", \"bec\", \"bbc\", \"bdc\"])) #True -> [\"abc\", \"bbc\", \"bdc\", \"bcc\", \"bec\", \"bef\"]\n",
    "print(solution([\"ff\", \"gf\", \"af\", \"ar\", \"hf\"])) #True\n",
    "print(solution([\"ab\", \"ad\", \"ef\", \"eg\"])) #False\n",
    "print(solution([\"abc\", \"abx\", \"axx\", \"abc\"])) #False\n",
    "print(solution([\"abc\", \"abx\", \"axx\", \"abx\", \"abc\"])) #True\n"
   ]
  },
  {
   "cell_type": "code",
   "execution_count": 61,
   "metadata": {},
   "outputs": [
    {
     "name": "stdout",
     "output_type": "stream",
     "text": [
      "True\n",
      "False\n",
      "True\n",
      "False\n",
      "True\n",
      "True\n",
      "False\n",
      "False\n",
      "True\n"
     ]
    }
   ],
   "source": [
    "#Alternate Approach 1: Depth-first search recursion\n",
    "def solution(inputArray):\n",
    "    for i in range(len(inputArray)):\n",
    "        if isChainPossible(i, inputArray):\n",
    "            return True\n",
    "    return False\n",
    "\n",
    "def isChainPossible(start, inputArray):\n",
    "    if len(inputArray) == 1:\n",
    "        return True\n",
    "    newArray = inputArray[:start] + inputArray[(1 + start):]\n",
    "    for i in range(len(newArray)):\n",
    "        if differsByOne(inputArray[start], newArray[i]) and isChainPossible(i, newArray):\n",
    "            return True\n",
    "    return False\n",
    "\n",
    "def differsByOne(s1, s2):\n",
    "    if len(s1) != len(s2):\n",
    "        return False\n",
    "    differentChars = 0\n",
    "    for i in range(len(s1)):\n",
    "        if s1[i] != s2[i]:\n",
    "            differentChars += 1\n",
    "    return differentChars == 1\n",
    "\n",
    "print(solution([\"aa\", \"ab\", \"bb\"])) #True\n",
    "print(solution([\"aba\", \"bbb\", \"bab\"])) #False\n",
    "print(solution([\"ab\", \"bb\", \"aa\"])) #True \n",
    "print(solution([\"q\", \"q\"])) #False\n",
    "print(solution([\"abc\", \"bef\", \"bcc\", \"bec\", \"bbc\", \"bdc\"])) #True -> [\"abc\", \"bbc\", \"bdc\", \"bcc\", \"bec\", \"bef\"]\n",
    "print(solution([\"ff\", \"gf\", \"af\", \"ar\", \"hf\"])) #True\n",
    "print(solution([\"ab\", \"ad\", \"ef\", \"eg\"])) #False\n",
    "print(solution([\"abc\", \"abx\", \"axx\", \"abc\"])) #False\n",
    "print(solution([\"abc\", \"abx\", \"axx\", \"abx\", \"abc\"])) #True\n"
   ]
  },
  {
   "cell_type": "code",
   "execution_count": 3,
   "metadata": {},
   "outputs": [
    {
     "name": "stdout",
     "output_type": "stream",
     "text": [
      "True\n",
      "False\n",
      "True\n",
      "False\n",
      "True\n",
      "True\n",
      "False\n",
      "False\n",
      "True\n"
     ]
    }
   ],
   "source": [
    "#Alternate Approach 2: using permutations library\n",
    "from itertools import permutations as p\n",
    "def solution(inputArray):\n",
    "    for ia in p(inputArray):\n",
    "        c = 0\n",
    "        for i in range(len(ia) - 1):\n",
    "            for j in range(len(ia[i])):\n",
    "                if ia[i][j] != ia[i+1][j]: c += 1\n",
    "            if ia[i] == ia[i+1]: c += 10\n",
    "        if c == len(ia) - 1: return True\n",
    "    return False\n",
    "\n",
    "print(solution([\"aa\", \"ab\", \"bb\"])) #True\n",
    "print(solution([\"aba\", \"bbb\", \"bab\"])) #False\n",
    "print(solution([\"ab\", \"bb\", \"aa\"])) #True \n",
    "print(solution([\"q\", \"q\"])) #False\n",
    "print(solution([\"abc\", \"bef\", \"bcc\", \"bec\", \"bbc\", \"bdc\"])) #True -> [\"abc\", \"bbc\", \"bdc\", \"bcc\", \"bec\", \"bef\"]\n",
    "print(solution([\"ff\", \"gf\", \"af\", \"ar\", \"hf\"])) #True\n",
    "print(solution([\"ab\", \"ad\", \"ef\", \"eg\"])) #False\n",
    "print(solution([\"abc\", \"abx\", \"axx\", \"abc\"])) #False\n",
    "print(solution([\"abc\", \"abx\", \"axx\", \"abx\", \"abc\"])) #True"
   ]
  },
  {
   "cell_type": "markdown",
   "metadata": {},
   "source": [
    "<mark>Alternate Solution</mark>: Debug alternate solutions to see how algos work, first alternate solution used **recursion depth-first search**, second alternate solution used permutations library\n",
    "\n",
    "---"
   ]
  },
  {
   "cell_type": "markdown",
   "metadata": {},
   "source": [
    "## extractEachKth"
   ]
  },
  {
   "cell_type": "markdown",
   "metadata": {},
   "source": [
    "<p align=\"center\"><img src=\"Images/extract.png\" width=\"500\"></p>"
   ]
  },
  {
   "cell_type": "code",
   "execution_count": 66,
   "metadata": {},
   "outputs": [
    {
     "name": "stdout",
     "output_type": "stream",
     "text": [
      "[1, 2, 4, 5, 7, 8, 10]\n"
     ]
    }
   ],
   "source": [
    "#Original\n",
    "def solution(arr, k):\n",
    "    counter = 0\n",
    "    new_arr = []\n",
    "    for i in range(len(arr)):\n",
    "        counter += 1\n",
    "        if counter == k:\n",
    "            counter = 0\n",
    "        else:\n",
    "            new_arr.append(arr[i])\n",
    "    return new_arr\n",
    "\n",
    "print(solution([1, 2, 3, 4, 5, 6, 7, 8, 9, 10], 3))"
   ]
  },
  {
   "cell_type": "code",
   "execution_count": 67,
   "metadata": {},
   "outputs": [
    {
     "name": "stdout",
     "output_type": "stream",
     "text": [
      "[1, 2, 4, 5, 7, 8, 10]\n"
     ]
    }
   ],
   "source": [
    "#Alternate\n",
    "def solution(inputArray, k):\n",
    "    del inputArray[k-1::k]\n",
    "    return inputArray\n",
    "\n",
    "print(solution([1, 2, 3, 4, 5, 6, 7, 8, 9, 10], 3))"
   ]
  },
  {
   "cell_type": "markdown",
   "metadata": {},
   "source": [
    "<mark>Alternate Solution</mark>: USE LESS FOR LOOPS, **use more list splicing**, **use ```del``` to delete ith element from list**\n",
    "\n",
    "---"
   ]
  },
  {
   "cell_type": "markdown",
   "metadata": {},
   "source": [
    "## firstDigit"
   ]
  },
  {
   "cell_type": "markdown",
   "metadata": {},
   "source": [
    "Find the leftmost digit that occurs in a given string."
   ]
  },
  {
   "cell_type": "code",
   "execution_count": 68,
   "metadata": {},
   "outputs": [
    {
     "name": "stdout",
     "output_type": "stream",
     "text": [
      "1\n"
     ]
    }
   ],
   "source": [
    "#Original\n",
    "def solution(str):\n",
    "    for char in str:\n",
    "        if char.isdigit():\n",
    "            return char\n",
    "\n",
    "print(solution(\"var_1__Int\"))"
   ]
  },
  {
   "cell_type": "markdown",
   "metadata": {},
   "source": [
    "<mark>Alternate Solution</mark>: same as original solution\n",
    "\n",
    "---"
   ]
  },
  {
   "cell_type": "markdown",
   "metadata": {},
   "source": [
    "## differentSymbolsNaive"
   ]
  },
  {
   "cell_type": "markdown",
   "metadata": {},
   "source": [
    "Given a string, find the number of different characters in it."
   ]
  },
  {
   "cell_type": "code",
   "execution_count": 71,
   "metadata": {},
   "outputs": [
    {
     "name": "stdout",
     "output_type": "stream",
     "text": [
      "3\n"
     ]
    }
   ],
   "source": [
    "def solution(s):\n",
    "    return len(set(s))\n",
    "\n",
    "print(solution(\"cabca\"))"
   ]
  },
  {
   "cell_type": "markdown",
   "metadata": {},
   "source": [
    "<mark>Alternate Solution</mark>: same as original solution\n",
    "\n",
    "---"
   ]
  },
  {
   "cell_type": "markdown",
   "metadata": {},
   "source": [
    "## arrayMaxConsecutiveSum"
   ]
  },
  {
   "cell_type": "markdown",
   "metadata": {},
   "source": [
    "<p align=\"center\"><img src=\"Images/arrayMaxConsecSum.png\" width=\"500\"></p>"
   ]
  },
  {
   "cell_type": "code",
   "execution_count": 20,
   "metadata": {},
   "outputs": [
    {
     "name": "stdout",
     "output_type": "stream",
     "text": [
      "12\n",
      "12\n"
     ]
    }
   ],
   "source": [
    "#Original - problem\n",
    "def solution1(arr, k):\n",
    "    #Time Complexity Problem\n",
    "    max = sum(arr[0:k])\n",
    "    for i in range(1, len(arr)):\n",
    "        current = sum(arr[i:k+i]) #this is the problem - creating too many lists because of list splicing\n",
    "        if current > max:\n",
    "            max = current\n",
    "    return max\n",
    "\n",
    "#Original - with alternate solution mixed in\n",
    "def solution2(arr, k):\n",
    "    max = sum(arr[0:k])\n",
    "    current = max\n",
    "    for i in range(k, len(arr)):\n",
    "        current = current + arr[i] - arr[i-k] #taking current which is the max increasing it by the \"next element (i)\" and subtracting the first element in the sequence (ex. 10 + 1 - 2)\n",
    "        if current > max:\n",
    "            max = current\n",
    "    return max\n",
    "\n",
    "print(solution1([2, 3, 5, 1, 6], 3))\n",
    "print(solution2([2, 3, 5, 1, 6], 3))"
   ]
  },
  {
   "cell_type": "code",
   "execution_count": 18,
   "metadata": {},
   "outputs": [
    {
     "name": "stdout",
     "output_type": "stream",
     "text": [
      "12\n"
     ]
    }
   ],
   "source": [
    "#Alternate\n",
    "def solution(arr, k):\n",
    "    sums = 0\n",
    "    for i in range(k):\n",
    "        sums += arr[i]\n",
    "    \n",
    "    current_sum = sums\n",
    "    for i in range(k, len(arr)):\n",
    "        current_sum += arr[i] - arr[i-k]\n",
    "        sums = max(sums, current_sum)\n",
    "    return sums\n",
    "\n",
    "print(solution([2, 3, 5, 1, 6], 3))"
   ]
  },
  {
   "cell_type": "markdown",
   "metadata": {},
   "source": [
    "<mark>Alternate Solution</mark>: **use less of list splicing (which creates more lists)**, use more addition and subtraction in order to get sequences of elements in lists\n",
    "\n",
    "---"
   ]
  },
  {
   "cell_type": "markdown",
   "metadata": {},
   "source": [
    "## growingPlant"
   ]
  },
  {
   "cell_type": "markdown",
   "metadata": {},
   "source": [
    "<p align=\"center\"><img src=\"Images/plant.png\" width=\"500\"></p>"
   ]
  },
  {
   "cell_type": "code",
   "execution_count": 26,
   "metadata": {},
   "outputs": [
    {
     "name": "stdout",
     "output_type": "stream",
     "text": [
      "10\n"
     ]
    }
   ],
   "source": [
    "#Original\n",
    "def solution(upSpeed, downSpeed, desiredHeight):\n",
    "    day_height = upSpeed\n",
    "    night_height = day_height - downSpeed\n",
    "    days = 1\n",
    "    while day_height < desiredHeight and night_height < desiredHeight:\n",
    "        day_height = night_height + upSpeed\n",
    "        night_height = day_height - downSpeed\n",
    "        days += 1\n",
    "    return days\n",
    "\n",
    "print(solution(100, 10, 910))"
   ]
  },
  {
   "cell_type": "code",
   "execution_count": null,
   "metadata": {},
   "outputs": [],
   "source": [
    "#Alternate\n",
    "def solution(upSpeed, downSpeed, desiredHeight):\n",
    "    if desiredHeight <= upSpeed:\n",
    "        return 1\n",
    "    return math.ceil((desiredHeight - upSpeed) / (upSpeed - downSpeed) + 1)\n",
    "\n",
    "print(solution(100, 10, 910))"
   ]
  },
  {
   "cell_type": "markdown",
   "metadata": {},
   "source": [
    "<mark>Alternate Solution</mark>: use ```math()``` library with ```ceil()``` (opposite of ```//```), **use mathematical approach rather than iterations**\n",
    "\n",
    "---"
   ]
  },
  {
   "cell_type": "markdown",
   "metadata": {},
   "source": [
    "## Knapsack Light"
   ]
  },
  {
   "cell_type": "markdown",
   "metadata": {},
   "source": [
    "<p align=\"center\"><img src=\"Images/sack.png\" width=\"500\"></p>"
   ]
  },
  {
   "cell_type": "code",
   "execution_count": 43,
   "metadata": {},
   "outputs": [
    {
     "name": "stdout",
     "output_type": "stream",
     "text": [
      "10\n",
      "16\n",
      "7\n",
      "0\n",
      "\n",
      "10\n",
      "16\n",
      "7\n",
      "0\n"
     ]
    }
   ],
   "source": [
    "#Original\n",
    "def solution(value1, weight1, value2, weight2, maxW):\n",
    "    weights = (weight1, weight2)\n",
    "    values = (value1, value2)\n",
    "    if weight1+weight2 <= maxW:\n",
    "        return value1+value2\n",
    "    elif weights.index(max(weights)) == values.index(max(values)) and weights[weights.index(max(weights))] <= maxW:\n",
    "        return values[values.index(max(values))]\n",
    "    elif weights[0] <= maxW or weights[1] <= maxW:\n",
    "        print(any(weights))\n",
    "        return values[weights.index(min(weights))]\n",
    "    return 0\n",
    "\n",
    "print(solution(10, 5, 6, 4, 8)) #10\n",
    "print(solution(10, 5, 6, 4, 9)) #16\n",
    "print(solution(5, 3, 7, 4, 6)) #7\n",
    "print(solution(10, 2, 11, 3, 1)) #0\n",
    "\n",
    "print()\n",
    "\n",
    "#Easier implementation: using for loops\n",
    "def solution(v1, w1, v2, w2, maxW):\n",
    "    if not w1 + w2 > maxW:\n",
    "        return v1 + v2\n",
    "    elif w2 <= maxW and v2 > v1:\n",
    "        return v2\n",
    "    elif w1 <= maxW:   \n",
    "        return v1\n",
    "    else:\n",
    "        return 0\n",
    "\n",
    "print(solution(10, 5, 6, 4, 8)) #10\n",
    "print(solution(10, 5, 6, 4, 9)) #16\n",
    "print(solution(5, 3, 7, 4, 6)) #7\n",
    "print(solution(10, 2, 11, 3, 1)) #0"
   ]
  },
  {
   "cell_type": "code",
   "execution_count": 44,
   "metadata": {},
   "outputs": [
    {
     "name": "stdout",
     "output_type": "stream",
     "text": [
      "10\n",
      "16\n",
      "7\n",
      "0\n"
     ]
    }
   ],
   "source": [
    "#Alternate\n",
    "def solution(v1, w1, v2, w2, W):\n",
    "    return max(int(w1<=W)* v1, int(w2<=W)*v2, int(w1+w2<=W)*(v1+v2))\n",
    "\n",
    "print(solution(10, 5, 6, 4, 8)) #10\n",
    "print(solution(10, 5, 6, 4, 9)) #16\n",
    "print(solution(5, 3, 7, 4, 6)) #7\n",
    "print(solution(10, 2, 11, 3, 1)) #0"
   ]
  },
  {
   "cell_type": "markdown",
   "metadata": {},
   "source": [
    "<mark>Alternate Solution</mark>: For simpler solution, **used simple if statements instead of overcomplicated algo**, For alternate solution, **converted conditionals into integers (1 or 0) (ex. ```int(1 < 2)```) to check different situations and then took the max of the entire statement for final value**\n",
    "\n",
    "---"
   ]
  },
  {
   "cell_type": "markdown",
   "metadata": {},
   "source": [
    "## longestDigitsPrefix"
   ]
  },
  {
   "cell_type": "markdown",
   "metadata": {},
   "source": [
    "Given a string, output its longest prefix which contains only digits"
   ]
  },
  {
   "cell_type": "code",
   "execution_count": 49,
   "metadata": {},
   "outputs": [
    {
     "name": "stdout",
     "output_type": "stream",
     "text": [
      "123\n"
     ]
    }
   ],
   "source": [
    "#Original\n",
    "def solution(s):\n",
    "    temp = \"\"\n",
    "    if not s[0].isdigit():\n",
    "        return temp\n",
    "    else:\n",
    "        for i in range(len(s)):\n",
    "            if not s[i].isdigit():\n",
    "                break\n",
    "            temp += s[i]\n",
    "    return temp\n",
    "\n",
    "print(solution(\"123aa1\"))"
   ]
  },
  {
   "cell_type": "code",
   "execution_count": null,
   "metadata": {},
   "outputs": [],
   "source": [
    "#Alternate\n",
    "import re\n",
    "def solution(inputString):\n",
    "    return re.findall('^\\d*',inputString)[0]\n",
    "\n",
    "print(solution(\"123aa1\"))"
   ]
  },
  {
   "cell_type": "markdown",
   "metadata": {},
   "source": [
    "<mark>Alternate Solution</mark>: used ```re``` import, and within that used ```findall()``` to find all patterns that match any decimal digit ```\\d```\n",
    "\n",
    "---"
   ]
  },
  {
   "cell_type": "markdown",
   "metadata": {},
   "source": [
    "## digitDegree"
   ]
  },
  {
   "cell_type": "markdown",
   "metadata": {},
   "source": [
    "<p align=\"center\"><img src=\"Images/degree.png\" width=\"500\"></p>"
   ]
  },
  {
   "cell_type": "code",
   "execution_count": 84,
   "metadata": {},
   "outputs": [
    {
     "name": "stdout",
     "output_type": "stream",
     "text": [
      "2\n"
     ]
    }
   ],
   "source": [
    "#Original\n",
    "def solution(n, counter=0):\n",
    "    if len(str(n)) == 1:\n",
    "        return 0\n",
    "    counter = solution(sum([int(i) for i in str(n)]), counter) + 1\n",
    "    return counter\n",
    "\n",
    "print(solution(91))\n"
   ]
  },
  {
   "cell_type": "markdown",
   "metadata": {},
   "source": [
    "<mark>Alternate Solution</mark>: Alternate used same recursion logic as alternate\n",
    "\n",
    "---"
   ]
  },
  {
   "cell_type": "markdown",
   "metadata": {},
   "source": [
    "## Bishop and Pawn"
   ]
  },
  {
   "cell_type": "markdown",
   "metadata": {},
   "source": [
    "<p align=\"center\"><img src=\"Images/bishop.png\" width=\"500\"></p>"
   ]
  },
  {
   "cell_type": "code",
   "execution_count": 93,
   "metadata": {},
   "outputs": [
    {
     "name": "stdout",
     "output_type": "stream",
     "text": [
      "True\n"
     ]
    }
   ],
   "source": [
    "#Original\n",
    "def solution(bishop, pawn):\n",
    "    if bishop[0] == pawn[0] or bishop[1] == pawn[0]:\n",
    "        return False\n",
    "    letter_dist = abs(ord(bishop[0]) - ord(pawn[0]))\n",
    "    num_dist = abs(int(bishop[1]) - int(pawn[1]))\n",
    "    if num_dist == letter_dist:\n",
    "        return True\n",
    "    return False\n",
    "\n",
    "print(solution(\"a1\", \"c3\"))"
   ]
  },
  {
   "cell_type": "markdown",
   "metadata": {},
   "source": [
    "<mark>Alternate Solution</mark>: same algo as original\n",
    "\n",
    "---"
   ]
  },
  {
   "cell_type": "markdown",
   "metadata": {},
   "source": [
    "## isBeautifulString"
   ]
  },
  {
   "cell_type": "markdown",
   "metadata": {},
   "source": [
    "<p align=\"center\"><img src=\"Images/beautiful.png\" width=\"500\"></p>"
   ]
  },
  {
   "cell_type": "code",
   "execution_count": 121,
   "metadata": {},
   "outputs": [
    {
     "name": "stdout",
     "output_type": "stream",
     "text": [
      "True\n",
      "False\n",
      "False\n",
      "False\n"
     ]
    }
   ],
   "source": [
    "#Original\n",
    "def solution(s):\n",
    "    set_s = list(set(s))\n",
    "    for i in set_s:\n",
    "        if i != 'a':\n",
    "            if chr(ord(i)-1) not in set_s or (s.count(i) > s.count(chr(ord(i)-1))):\n",
    "                return False\n",
    "    return True\n",
    "\n",
    "print(solution(\"bbbaacdafe\")) #True\n",
    "print(solution(\"aabbb\")) #False\n",
    "print(solution(\"bbc\")) #False\n",
    "print(solution(\"zaa\")) #False\n",
    "\n"
   ]
  },
  {
   "cell_type": "code",
   "execution_count": 133,
   "metadata": {},
   "outputs": [
    {
     "name": "stdout",
     "output_type": "stream",
     "text": [
      "[3, 3, 1, 1, 1, 1, 0, 0, 0, 0, 0, 0, 0, 0, 0, 0, 0, 0, 0, 0, 0, 0, 0, 0, 0, 0]\n",
      "[0, 0, 0, 0, 0, 0, 0, 0, 0, 0, 0, 0, 0, 0, 0, 0, 0, 0, 0, 0, 1, 1, 1, 1, 3, 3]\n",
      "[0, 0, 0, 0, 0, 0, 0, 0, 0, 0, 0, 0, 0, 0, 0, 0, 0, 0, 0, 0, 1, 1, 1, 1, 3, 3]\n",
      "True\n",
      "\n",
      "[2, 3, 0, 0, 0, 0, 0, 0, 0, 0, 0, 0, 0, 0, 0, 0, 0, 0, 0, 0, 0, 0, 0, 0, 0, 0]\n",
      "[0, 0, 0, 0, 0, 0, 0, 0, 0, 0, 0, 0, 0, 0, 0, 0, 0, 0, 0, 0, 0, 0, 0, 0, 3, 2]\n",
      "[0, 0, 0, 0, 0, 0, 0, 0, 0, 0, 0, 0, 0, 0, 0, 0, 0, 0, 0, 0, 0, 0, 0, 0, 2, 3]\n",
      "False\n",
      "[0, 2, 1, 0, 0, 0, 0, 0, 0, 0, 0, 0, 0, 0, 0, 0, 0, 0, 0, 0, 0, 0, 0, 0, 0, 0]\n",
      "[0, 0, 0, 0, 0, 0, 0, 0, 0, 0, 0, 0, 0, 0, 0, 0, 0, 0, 0, 0, 0, 0, 0, 1, 2, 0]\n",
      "[0, 0, 0, 0, 0, 0, 0, 0, 0, 0, 0, 0, 0, 0, 0, 0, 0, 0, 0, 0, 0, 0, 0, 0, 1, 2]\n",
      "False\n",
      "\n",
      "[2, 0, 0, 0, 0, 0, 0, 0, 0, 0, 0, 0, 0, 0, 0, 0, 0, 0, 0, 0, 0, 0, 0, 0, 0, 1]\n",
      "[1, 0, 0, 0, 0, 0, 0, 0, 0, 0, 0, 0, 0, 0, 0, 0, 0, 0, 0, 0, 0, 0, 0, 0, 0, 2]\n",
      "[0, 0, 0, 0, 0, 0, 0, 0, 0, 0, 0, 0, 0, 0, 0, 0, 0, 0, 0, 0, 0, 0, 0, 0, 1, 2]\n",
      "False\n"
     ]
    }
   ],
   "source": [
    "#Alternate\n",
    "import string\n",
    "def solution(inputString):\n",
    "    r = [inputString.count(i) for i in string.ascii_lowercase]\n",
    "    print(r)\n",
    "    print(r[::-1])\n",
    "    print(sorted(r))\n",
    "    return r[::-1] == sorted(r)\n",
    "\n",
    "print(solution(\"bbbaacdafe\")) #True\n",
    "print()\n",
    "print(solution(\"aabbb\")) #False\n",
    "print(solution(\"bbc\")) #False\n",
    "print()\n",
    "print(solution(\"zaa\")) #False"
   ]
  },
  {
   "cell_type": "markdown",
   "metadata": {},
   "source": [
    "<mark>Alternate Solution</mark>: used **import string** to find counts for each letter in the alphabet, **compared the reverse of the list of counts to the sorted version of the list of counts**\n",
    "\n",
    "---"
   ]
  },
  {
   "cell_type": "markdown",
   "metadata": {},
   "source": [
    "## Find Email Domain"
   ]
  },
  {
   "cell_type": "markdown",
   "metadata": {},
   "source": [
    "<p align=\"center\"><img src=\"Images/email.png\" width=\"500\"></p>"
   ]
  },
  {
   "cell_type": "code",
   "execution_count": 138,
   "metadata": {},
   "outputs": [
    {
     "name": "stdout",
     "output_type": "stream",
     "text": [
      "example.com\n",
      "usual.com\n"
     ]
    }
   ],
   "source": [
    "#Original\n",
    "def solution(address):\n",
    "    return address[address.rindex('@')+1:]\n",
    "\n",
    "print(solution(\"prettyandsimple@example.com\"))\n",
    "print(solution(\"\\\"very.unusual.@.unusual.com\\\"@usual.com\"))"
   ]
  },
  {
   "cell_type": "code",
   "execution_count": 141,
   "metadata": {},
   "outputs": [
    {
     "name": "stdout",
     "output_type": "stream",
     "text": [
      "['prettyandsimple', 'example.com']\n",
      "example.com\n",
      "['\"very.unusual.', '.unusual.com\"', 'usual.com']\n",
      "usual.com\n"
     ]
    }
   ],
   "source": [
    "#Alternate\n",
    "def solution(address):\n",
    "    a = address.split('@')\n",
    "    print(a)\n",
    "    return a[-1] \n",
    "\n",
    "print(solution(\"prettyandsimple@example.com\"))\n",
    "print(solution(\"\\\"very.unusual.@.unusual.com\\\"@usual.com\"))"
   ]
  },
  {
   "cell_type": "markdown",
   "metadata": {},
   "source": [
    "<mark>Alternate Solution</mark>: alternate solution uses ```.split()``` instead of ```.rindex()```, list splicing uses too much space, splitting list at the element can retrieve the correct side\n",
    "\n",
    "---"
   ]
  },
  {
   "cell_type": "markdown",
   "metadata": {},
   "source": [
    "## buildPalindrome"
   ]
  },
  {
   "cell_type": "markdown",
   "metadata": {},
   "source": [
    "<p align=\"center\"><img src=\"Images/string_pal.png\" width=\"500\"></p>"
   ]
  },
  {
   "cell_type": "code",
   "execution_count": 158,
   "metadata": {},
   "outputs": [
    {
     "name": "stdout",
     "output_type": "stream",
     "text": [
      "abcdcba\n"
     ]
    }
   ],
   "source": [
    "#Original\n",
    "def solution(st):\n",
    "    if st == st[::-1]:\n",
    "        return st\n",
    "    temp = \"\"\n",
    "    temp2 = \"\"\n",
    "    reverse_st = st[::-1]\n",
    "    for i in range(len(reverse_st)-1, -1, -1):\n",
    "        temp += reverse_st[i]\n",
    "        temp2 = temp+reverse_st\n",
    "        if temp2 == temp2[::-1]:\n",
    "            return temp2\n",
    "\n",
    "print(solution(\"abcdc\"))"
   ]
  },
  {
   "cell_type": "code",
   "execution_count": 159,
   "metadata": {},
   "outputs": [
    {
     "name": "stdout",
     "output_type": "stream",
     "text": [
      "abcdcba\n"
     ]
    }
   ],
   "source": [
    "#Alterate\n",
    "def solution(st):\n",
    "    for i in range(0,len(st)):\n",
    "        if(st[i:len(st)] == st[i:len(st)][::-1]):\n",
    "            return st[0:i] + st[i:len(st)] + st[0:i][::-1]\n",
    "\n",
    "print(solution(\"abcdc\"))"
   ]
  },
  {
   "cell_type": "markdown",
   "metadata": {},
   "source": [
    "<mark>Alternate Solution</mark>: used more string slicing, checked if parts of the string are palindromes\n",
    "\n",
    "---"
   ]
  },
  {
   "cell_type": "markdown",
   "metadata": {},
   "source": [
    "## Elections Winners"
   ]
  },
  {
   "cell_type": "markdown",
   "metadata": {},
   "source": [
    "<p align=\"center\"><img src=\"Images/elections.png\" width=\"500\"></p>"
   ]
  },
  {
   "cell_type": "code",
   "execution_count": 177,
   "metadata": {},
   "outputs": [
    {
     "name": "stdout",
     "output_type": "stream",
     "text": [
      "2\n",
      "0\n",
      "4\n"
     ]
    }
   ],
   "source": [
    "#Original\n",
    "def solution(votes, k):\n",
    "    current_winner = max(votes)\n",
    "    indices = [i for i in votes if i == current_winner]\n",
    "    num_winners = 0\n",
    "    for i in range(len(votes)):\n",
    "        if votes[i]+k > current_winner:\n",
    "            num_winners += 1\n",
    "    if num_winners == 0 and len(indices) == 1:\n",
    "        return 1\n",
    "    return num_winners\n",
    "\n",
    "print(solution([2, 3, 5, 2], 3))\n",
    "print(solution([1, 3, 3, 1, 1], 0))\n",
    "print(solution([1, 1, 1, 1], 1))"
   ]
  },
  {
   "cell_type": "code",
   "execution_count": 178,
   "metadata": {},
   "outputs": [
    {
     "name": "stdout",
     "output_type": "stream",
     "text": [
      "2\n",
      "0\n",
      "4\n"
     ]
    }
   ],
   "source": [
    "#Alternate\n",
    "def solution(v, k):\n",
    "    m = max(v)\n",
    "    return int(v.count(m) == 1) if k == 0 else len([n for n in v if m < n + k])\n",
    "\n",
    "print(solution([2, 3, 5, 2], 3))\n",
    "print(solution([1, 3, 3, 1, 1], 0))\n",
    "print(solution([1, 1, 1, 1], 1))"
   ]
  },
  {
   "cell_type": "markdown",
   "metadata": {},
   "source": [
    "<mark>Alternate Solution</mark>: **used ```.count()``` instead of finding indices**, return list comprehension and if statements, **if no extra votes then just return if the count of the max is 1 (turns True into 1)**\n",
    "\n",
    "---"
   ]
  },
  {
   "cell_type": "markdown",
   "metadata": {},
   "source": [
    "## Is MAC48 Address?"
   ]
  },
  {
   "cell_type": "markdown",
   "metadata": {},
   "source": [
    "<p align=\"center\"><img src=\"Images/mac.png\" width=\"500\"></p>"
   ]
  },
  {
   "cell_type": "code",
   "execution_count": 213,
   "metadata": {},
   "outputs": [
    {
     "name": "stdout",
     "output_type": "stream",
     "text": [
      "True\n",
      "False\n",
      "False\n"
     ]
    }
   ],
   "source": [
    "#Original\n",
    "def solution(s):\n",
    "    if s.count('-') == 5:\n",
    "        s_list = s.split('-')\n",
    "        for i in s_list:\n",
    "            if len(i) != 2:\n",
    "                return False\n",
    "        s_list = \"\".join(s_list)\n",
    "        for i in s_list:\n",
    "            if i.isdigit():\n",
    "                if int(i) < 0 or int(i) > 9:\n",
    "                    return False\n",
    "            elif i.isalpha():\n",
    "                if ord(i) < 65 or ord(i) > 70:\n",
    "                    return False\n",
    "        return True\n",
    "    return False\n",
    "\n",
    "print(solution(\"00-1B-63-84-45-E6\"))\n",
    "print(solution(\"Z1-1B-63-84-45-E6\"))\n",
    "print(solution(\"not a MAC-48 address\"))"
   ]
  },
  {
   "cell_type": "code",
   "execution_count": 216,
   "metadata": {},
   "outputs": [
    {
     "name": "stdout",
     "output_type": "stream",
     "text": [
      "True\n",
      "False\n",
      "False\n"
     ]
    }
   ],
   "source": [
    "#Alternate\n",
    "import re\n",
    "def solution(s):\n",
    "    return bool(re.match(('^' + '[\\dA-F]{2}-' * 6)[:-1] + '$', s))\n",
    "\n",
    "print(solution(\"00-1B-63-84-45-E6\"))\n",
    "print(solution(\"Z1-1B-63-84-45-E6\"))\n",
    "print(solution(\"not a MAC-48 address\"))"
   ]
  },
  {
   "cell_type": "markdown",
   "metadata": {},
   "source": [
    "<mark>Alternate Solution</mark>: used ```import re```, used ```.match()``` to find expression that matches the mac address, **learn notation to matching expressions**\n",
    "\n",
    "---"
   ]
  },
  {
   "cell_type": "markdown",
   "metadata": {},
   "source": [
    "## lineEncoding"
   ]
  },
  {
   "cell_type": "markdown",
   "metadata": {},
   "source": [
    "<p align=\"center\"><img src=\"Images/encode.png\" width=\"500\"></p>"
   ]
  },
  {
   "cell_type": "code",
   "execution_count": 241,
   "metadata": {},
   "outputs": [
    {
     "name": "stdout",
     "output_type": "stream",
     "text": [
      "2a3bc\n",
      "a2bca2b\n"
     ]
    }
   ],
   "source": [
    "#Original\n",
    "def solution(s):\n",
    "    s_list = list(s)\n",
    "    indices = []\n",
    "    prev = \"\"\n",
    "    for i in range(len(s)):\n",
    "        if prev != s[i] and prev != \"\":\n",
    "            indices.append(i)\n",
    "        prev = s[i]\n",
    "    offset = 0\n",
    "    for i in indices:\n",
    "        s_list.insert(i+offset, \" \")\n",
    "        offset += 1\n",
    "    s_list = \"\".join(s_list)\n",
    "    s_list = s_list.split(\" \")\n",
    "    for i in range(len(s_list)):\n",
    "        if len(s_list[i]) > 1:\n",
    "            s_list[i] = str(len(s_list[i])) + s_list[i][0]\n",
    "    return \"\".join(s_list)\n",
    "    \n",
    "print(solution(\"aabbbc\"))\n",
    "print(solution(\"abbcabb\"))"
   ]
  },
  {
   "cell_type": "code",
   "execution_count": 240,
   "metadata": {},
   "outputs": [
    {
     "name": "stdout",
     "output_type": "stream",
     "text": [
      "2a3bc\n",
      "a2bca2b\n"
     ]
    }
   ],
   "source": [
    "#Alternate\n",
    "from itertools import groupby\n",
    "def solution(s):\n",
    "    x = ''\n",
    "    for k,g in groupby(s):\n",
    "        y = len(list(g))\n",
    "        if y==1:\n",
    "            x += k\n",
    "        else:\n",
    "            x += str(y) + k\n",
    "    return x\n",
    "\n",
    "print(solution(\"aabbbc\"))\n",
    "print(solution(\"abbcabb\"))"
   ]
  },
  {
   "cell_type": "markdown",
   "metadata": {},
   "source": [
    "<mark>Alternate Solution</mark>: **used ```groupby``` import to make an iterator that returns consecutive keys**\n",
    "\n",
    "---"
   ]
  },
  {
   "cell_type": "markdown",
   "metadata": {},
   "source": [
    "## chessKnight"
   ]
  },
  {
   "cell_type": "markdown",
   "metadata": {},
   "source": [
    "<p align=\"center\"><img src=\"Images/knight.png\" width=\"500\"></p>"
   ]
  },
  {
   "cell_type": "code",
   "execution_count": 248,
   "metadata": {},
   "outputs": [
    {
     "name": "stdout",
     "output_type": "stream",
     "text": [
      "6\n"
     ]
    }
   ],
   "source": [
    "#Original\n",
    "def solution(cell):\n",
    "    cell_ord_letter = ord(cell[0])\n",
    "    cell_num = int(cell[1])\n",
    "    combinations = [(1,2), (1, -2), (2, 1), (2, -1), (-1,2), (-1, -2), (-2, 1), (-2, -1)]\n",
    "    count = 0\n",
    "    for combo in combinations:\n",
    "        letter = combo[0]\n",
    "        num = combo[1]\n",
    "        if (97 <= letter+cell_ord_letter <= 104) and (1 <= num+cell_num <= 8):\n",
    "            count += 1\n",
    "    return count\n",
    "\n",
    "print(solution(\"c2\"))\n"
   ]
  },
  {
   "cell_type": "code",
   "execution_count": null,
   "metadata": {},
   "outputs": [],
   "source": [
    "#Alternate\n",
    "def solution(c):\n",
    "    x,y = ord(c[0])-96, int(c[1])\n",
    "    return sum([1<=(x+i)<=8 and 1<=(y+j)<=8 for i in [-2,-1,1,2] for j in [-2,-1,1,2]])//2\n",
    "\n",
    "print(solution(\"c2\"))"
   ]
  },
  {
   "cell_type": "markdown",
   "metadata": {},
   "source": [
    "<mark>Alternate Solution</mark>: **same line variable assignment**, same algo logic as original\n",
    "\n",
    "---"
   ]
  },
  {
   "cell_type": "markdown",
   "metadata": {},
   "source": [
    "## deleteDigit"
   ]
  },
  {
   "cell_type": "markdown",
   "metadata": {},
   "source": [
    "Given some integer, find the maximal number you can obtain by deleting exactly one digit of the given number."
   ]
  },
  {
   "cell_type": "code",
   "execution_count": 274,
   "metadata": {},
   "outputs": [
    {
     "name": "stdout",
     "output_type": "stream",
     "text": [
      "52\n",
      "101\n"
     ]
    }
   ],
   "source": [
    "#Original\n",
    "def solution(n):\n",
    "    temp = []\n",
    "    list_n = list(str(n))\n",
    "    for i in range(len(list_n)):\n",
    "        temp.append(int(\"\".join(list_n[0:i] + list_n[i+1:])))\n",
    "    return max(temp)\n",
    "\n",
    "print(solution(152))\n",
    "print(solution(1001))\n"
   ]
  },
  {
   "cell_type": "code",
   "execution_count": 275,
   "metadata": {},
   "outputs": [
    {
     "name": "stdout",
     "output_type": "stream",
     "text": [
      "52\n",
      "101\n"
     ]
    }
   ],
   "source": [
    "#Alternate\n",
    "def solution(n):\n",
    "    n = str(n)\n",
    "    return max(int(''.join(n[:i]+n[i+1:])) for i in range(len(n)))\n",
    "\n",
    "print(solution(152))\n",
    "print(solution(1001))"
   ]
  },
  {
   "cell_type": "markdown",
   "metadata": {},
   "source": [
    "<mark>Alternate Solution</mark>: use more list concatenation, alternate uses same logic as original\n",
    "\n",
    "---"
   ]
  },
  {
   "cell_type": "markdown",
   "metadata": {},
   "source": [
    "## longestWord"
   ]
  },
  {
   "cell_type": "markdown",
   "metadata": {},
   "source": [
    "Define a word as a sequence of consecutive English letters. Find the longest word from the given string."
   ]
  },
  {
   "cell_type": "code",
   "execution_count": 34,
   "metadata": {},
   "outputs": [
    {
     "name": "stdout",
     "output_type": "stream",
     "text": [
      "steady\n",
      "ABCd\n",
      "not\n"
     ]
    }
   ],
   "source": [
    "#Original\n",
    "def solution(text):\n",
    "    new_text = list(text)\n",
    "    for i in range(len(new_text)):\n",
    "        if not new_text[i].isalpha():\n",
    "            new_text[i] = \" \"\n",
    "    new_text = \"\".join(new_text)\n",
    "    text = new_text.split(\" \")\n",
    "    text = [i for i in text if i != \"\"]\n",
    "    lengths_list = [len(i) for i in text]\n",
    "    return text[lengths_list.index(max(lengths_list))]\n",
    "\n",
    "print(solution(\"Ready, steady, go!\"))\n",
    "print(solution(\"ABCd\"))\n",
    "print(solution(\"To be or not to be\"))\n"
   ]
  },
  {
   "cell_type": "code",
   "execution_count": 36,
   "metadata": {},
   "outputs": [
    {
     "name": "stdout",
     "output_type": "stream",
     "text": [
      "steady\n",
      "ABCd\n",
      "not\n"
     ]
    }
   ],
   "source": [
    "#Alternate\n",
    "import re\n",
    "def solution(text):\n",
    "    return max(re.split('[^a-zA-Z]', text), key=len)\n",
    "\n",
    "print(solution(\"Ready, steady, go!\"))\n",
    "print(solution(\"ABCd\"))\n",
    "print(solution(\"To be or not to be\"))"
   ]
  },
  {
   "cell_type": "markdown",
   "metadata": {},
   "source": [
    "<mark>Alternate Solution</mark>: used ```import re``` to split text based on format (characters), **use ```max(iterable, key=len)``` for finding the max in list using length of elements**\n",
    "\n",
    "---"
   ]
  },
  {
   "cell_type": "markdown",
   "metadata": {},
   "source": [
    "## Valid Time"
   ]
  },
  {
   "cell_type": "markdown",
   "metadata": {},
   "source": [
    "Check if the given string is a correct time representation of the 24-hour clock."
   ]
  },
  {
   "cell_type": "code",
   "execution_count": 37,
   "metadata": {},
   "outputs": [
    {
     "name": "stdout",
     "output_type": "stream",
     "text": [
      "False\n"
     ]
    }
   ],
   "source": [
    "#Original\n",
    "def solution(time):\n",
    "    t = time.split(\":\")\n",
    "    return (0 <= int(t[0]) < 24) and (0 <= int(t[1]) <= 59) \n",
    "\n",
    "print(solution(\"24:00\"))"
   ]
  },
  {
   "cell_type": "code",
   "execution_count": 38,
   "metadata": {},
   "outputs": [
    {
     "name": "stdout",
     "output_type": "stream",
     "text": [
      "False\n"
     ]
    }
   ],
   "source": [
    "#Alternate\n",
    "def solution(time):\n",
    "    h,m=map(int,time.split(\":\"))\n",
    "    return 0<=h<24 and 0<=m<60\n",
    "\n",
    "print(solution(\"24:00\"))"
   ]
  },
  {
   "cell_type": "markdown",
   "metadata": {},
   "source": [
    "<mark>Alternate Solution</mark>: used in line variable declaration, used ```map()``` to quickly typecast and split at the same time\n",
    "\n",
    "---"
   ]
  },
  {
   "cell_type": "markdown",
   "metadata": {},
   "source": [
    "## sumUpNumbers"
   ]
  },
  {
   "cell_type": "markdown",
   "metadata": {},
   "source": [
    "<p align=\"center\"><img src=\"Images/sumNumbers.png\" width=\"500\"></p>"
   ]
  },
  {
   "cell_type": "code",
   "execution_count": 53,
   "metadata": {},
   "outputs": [
    {
     "name": "stdout",
     "output_type": "stream",
     "text": [
      "15\n",
      "6587\n"
     ]
    }
   ],
   "source": [
    "#Original\n",
    "def solution(s):\n",
    "    num = \"\"\n",
    "    numbers = []\n",
    "    prev_is_num = False\n",
    "    for i in range(len(s)):\n",
    "        if s[i].isdigit():\n",
    "            num += s[i]\n",
    "            prev_is_num = True\n",
    "        if prev_is_num == True and not s[i].isdigit() or (i == len(s)-1 and s[i].isdigit()):\n",
    "            numbers.append(int(num))\n",
    "            num = \"\"\n",
    "            prev_is_num = False\n",
    "    if len(numbers) == 1:\n",
    "        return numbers[0]\n",
    "    return sum(numbers)\n",
    "\n",
    "print(solution(\"2 apples, 12 oranges, 1\"))\n",
    "print(solution(\"there are some (12) digits 5566 in this 770 string 239\"))"
   ]
  },
  {
   "cell_type": "code",
   "execution_count": 54,
   "metadata": {},
   "outputs": [
    {
     "name": "stdout",
     "output_type": "stream",
     "text": [
      "15\n",
      "6587\n"
     ]
    }
   ],
   "source": [
    "#Alternate - 1\n",
    "def solution(inputString):\n",
    "    l = re.findall(r\"\\d+\",inputString)\n",
    "    return sum([int(i) for i in l])\n",
    "\n",
    "print(solution(\"2 apples, 12 oranges, 1\"))\n",
    "print(solution(\"there are some (12) digits 5566 in this 770 string 239\"))"
   ]
  },
  {
   "cell_type": "code",
   "execution_count": 71,
   "metadata": {},
   "outputs": [
    {
     "name": "stdout",
     "output_type": "stream",
     "text": [
      "['2', '12', '1']\n",
      "['12', '5566', '770', '239']\n"
     ]
    }
   ],
   "source": [
    "#Alternate - 2\n",
    "def solution(s):\n",
    "    return sum(map(int,\"\".join([i if i.isdigit() else \" \" for i in s]).split()))\n",
    "    # return \"\".join([i if i.isdigit() else \" \" for i in s]).split()\n",
    "    # temp = []\n",
    "    # for i in s:\n",
    "    #     if i.isdigit():\n",
    "    #         temp.append(i)\n",
    "    #     else:\n",
    "    #         temp.append(\" \")\n",
    "    # return temp\n",
    "\n",
    "print(solution(\"2 apples, 12 oranges, 1\"))\n",
    "print(solution(\"there are some (12) digits 5566 in this 770 string 239\"))\n"
   ]
  },
  {
   "cell_type": "markdown",
   "metadata": {},
   "source": [
    "<mark>Alternate Solution</mark>: \n",
    "- **Alternate Solution 1**\n",
    "    - Used ```import re``` to find format of only numbers in the string\n",
    "    - Then took sum of the list with numbers\n",
    "- **Alternate Solution 2**\n",
    "    - Changed all characters that are not digits to \" \" by **putting ```if-else``` statements before ```for``` in list comprehension**\n",
    "        - ```Else``` statement has to go before the ```for``` loop\n",
    "    - Then joined that list together with all the spaces and numbers\n",
    "    - Then split the list based on spaces --> **just numbers in the list**\n",
    "    - **```map()``` ```int``` to the entire list**\n",
    "    - Took the sum of the list\n",
    "\n",
    "---"
   ]
  },
  {
   "cell_type": "markdown",
   "metadata": {},
   "source": [
    "## Different Squares\n",
    "\n"
   ]
  },
  {
   "cell_type": "markdown",
   "metadata": {},
   "source": [
    "<p align=\"center\"><img src=\"Images/rec2.png\" width=\"500\"></p>"
   ]
  },
  {
   "cell_type": "code",
   "execution_count": 89,
   "metadata": {},
   "outputs": [
    {
     "name": "stdout",
     "output_type": "stream",
     "text": [
      "6\n"
     ]
    }
   ],
   "source": [
    "#Original\n",
    "def solution(m):\n",
    "    row = len(m[0])\n",
    "    col = len(m)\n",
    "    squares = []\n",
    "    for r in range(col-1):\n",
    "        for c in range(row-1):\n",
    "            squares.append([m[r][c], m[r][c+1], m[r+1][c], m[r+1][c+1]])\n",
    "    diff_squares = []\n",
    "    for i in squares:\n",
    "        if i not in diff_squares:\n",
    "            diff_squares.append(i)\n",
    "    return len(diff_squares)\n",
    "\n",
    "print(solution(m=[[1, 2, 1],\n",
    "          [2, 2, 2],\n",
    "          [2, 2, 2],\n",
    "          [1, 2, 3],\n",
    "          [2, 2, 1]])) #6\n"
   ]
  },
  {
   "cell_type": "code",
   "execution_count": 91,
   "metadata": {},
   "outputs": [
    {
     "name": "stdout",
     "output_type": "stream",
     "text": [
      "6\n"
     ]
    }
   ],
   "source": [
    "#Alternate\n",
    "def solution(matrix):\n",
    "    s = set()\n",
    "    for i in range(len(matrix) - 1):\n",
    "        for j in range(len(matrix[i]) - 1):\n",
    "                s.add((matrix[i][j], matrix[i][j+1], matrix[i+1][j], matrix[i+1][j+1]))\n",
    "    return len(s)\n",
    "\n",
    "print(solution(matrix=[[1, 2, 1],\n",
    "          [2, 2, 2],\n",
    "          [2, 2, 2],\n",
    "          [1, 2, 3],\n",
    "          [2, 2, 1]])) #6"
   ]
  },
  {
   "cell_type": "markdown",
   "metadata": {},
   "source": [
    "<mark>Alternate Solution</mark>: To find different squares, **used ```set()``` instead of lists**, same algo\n",
    "\n",
    "---"
   ]
  },
  {
   "cell_type": "markdown",
   "metadata": {},
   "source": [
    "## digitsProduct"
   ]
  },
  {
   "cell_type": "markdown",
   "metadata": {},
   "source": [
    "<p align=\"center\"><img src=\"Images/digitsProduct.png\" width=\"500\"></p>"
   ]
  },
  {
   "cell_type": "code",
   "execution_count": 12,
   "metadata": {},
   "outputs": [
    {
     "name": "stdout",
     "output_type": "stream",
     "text": [
      "26\n",
      "-1\n",
      "3558\n",
      "2559\n"
     ]
    }
   ],
   "source": [
    "#Original\n",
    "def solution(n):\n",
    "    if n == 0:\n",
    "        return 10\n",
    "    product = 1\n",
    "    for i in range(600*10):\n",
    "        product = 1\n",
    "        for j in str(i):\n",
    "            product *= int(j)\n",
    "        if product == n:\n",
    "            return i\n",
    "    return -1\n",
    "\n",
    "print(solution(12))\n",
    "print(solution(19))\n",
    "print(solution(600))\n",
    "print(solution(450))"
   ]
  },
  {
   "cell_type": "code",
   "execution_count": 13,
   "metadata": {},
   "outputs": [
    {
     "name": "stdout",
     "output_type": "stream",
     "text": [
      "26\n",
      "-1\n",
      "3558\n",
      "2559\n"
     ]
    }
   ],
   "source": [
    "#Alternate\n",
    "def solution(p):\n",
    "    if p == 0:\n",
    "        return 10\n",
    "    elif p == 1:\n",
    "        return 1\n",
    "    n = []\n",
    "    while 1 < p:\n",
    "        for d in range(9, 1, -1):\n",
    "            if p % d == 0:\n",
    "                p /= d\n",
    "                n.append(d)\n",
    "                break\n",
    "        else:\n",
    "            return -1\n",
    "    return int(''.join(map(str, sorted(n))))\n",
    "\n",
    "print(solution(12))\n",
    "print(solution(19))\n",
    "print(solution(600))\n",
    "print(solution(450))"
   ]
  },
  {
   "cell_type": "markdown",
   "metadata": {},
   "source": [
    "<mark>Alternate Solution</mark>: \n",
    "- used while loop to check if the product has reached 1, \n",
    "- **put a else block after for loop because there is a break statement (checks for -1)**, \n",
    "- **started the for loop at 9 and counted down**\n",
    "- if the mod between the values is 0 then sets p to new value and appends the for loop value\n",
    "- break after that and then continue to check if p is 1\n",
    "- **used ```join```, ```map```, ```sorted```, and ```int``` to make the final number**\n",
    "---\n",
    "Original -> brute force method that finds the number that equals the product by iterating through all numbers \n",
    "\n",
    "---"
   ]
  },
  {
   "cell_type": "markdown",
   "metadata": {},
   "source": [
    "## File Naming"
   ]
  },
  {
   "cell_type": "markdown",
   "metadata": {},
   "source": [
    "<p align=\"center\"><img src=\"Images/fileName.png\" width=\"500\"></p>"
   ]
  },
  {
   "cell_type": "code",
   "execution_count": 4,
   "metadata": {},
   "outputs": [
    {
     "name": "stdout",
     "output_type": "stream",
     "text": [
      "['doc', 'doc(1)', 'image', 'doc(1)(1)', 'doc(2)']\n",
      "['a(1)', 'a(6)', 'a', 'a(2)', 'a(3)', 'a(4)', 'a(5)', 'a(7)', 'a(8)', 'a(9)', 'a(10)', 'a(11)']\n",
      "[\"a(1)\", \"a(6)\", \"a\", \"a(2)\", \"a(3)\", \"a(4)\", \"a(5)\", \"a(7)\", \"a(8)\", \"a(9)\", \"a(10)\", \"a(11)\"]\n",
      "['dd', 'dd(1)', 'dd(2)', 'dd', 'dd(1)', 'dd(1)(2)', 'dd(1)(1)', 'dd', 'dd(1)']\n",
      "['dd', 'dd(1)', 'dd(2)', 'dd(3)', 'dd(1)(1)', 'dd(1)(2)', 'dd(1)(1)(1)', 'dd(4)', 'dd(1)(3)']\n",
      "['dd', 'dd(1)', 'dd(2)', 'dd(3)', 'dd(1)(1)', 'dd(1)(2)', 'dd(1)(1)(1)', 'dd(4)', 'dd(1)(3)']\n"
     ]
    }
   ],
   "source": [
    "#Original\n",
    "def solution(names):\n",
    "    temp = []\n",
    "    for i in range(len(names)):\n",
    "        k = 1\n",
    "        old = names[i]\n",
    "        if names[i] not in temp:\n",
    "            temp.append(names[i])\n",
    "        else:\n",
    "            while names[i] in temp:\n",
    "                names[i] = old + \"(\" + str(k) + \")\"\n",
    "                k += 1\n",
    "        if names[i] not in temp:\n",
    "            temp.append(names[i])\n",
    "    return names\n",
    "\n",
    "print(solution([\"doc\", \"doc\", \"image\", \"doc(1)\", \"doc\"]))\n",
    "print(solution([\"a(1)\", \"a(6)\", \"a\", \"a\", \"a\", \"a\", \"a\", \"a\", \"a\", \"a\", \"a\", \"a\"]))\n",
    "print('[\"a(1)\", \"a(6)\", \"a\", \"a(2)\", \"a(3)\", \"a(4)\", \"a(5)\", \"a(7)\", \"a(8)\", \"a(9)\", \"a(10)\", \"a(11)\"]')\n",
    "print([\"dd\", \"dd(1)\", \"dd(2)\", \"dd\", \"dd(1)\", \"dd(1)(2)\", \"dd(1)(1)\", \"dd\", \"dd(1)\"])\n",
    "print(solution([\"dd\", \"dd(1)\", \"dd(2)\", \"dd\", \"dd(1)\", \"dd(1)(2)\", \"dd(1)(1)\", \"dd\", \"dd(1)\"]))\n",
    "print([\"dd\", \"dd(1)\", \"dd(2)\", \"dd(3)\", \"dd(1)(1)\", \"dd(1)(2)\", \"dd(1)(1)(1)\", \"dd(4)\", \"dd(1)(3)\"])\n"
   ]
  },
  {
   "cell_type": "code",
   "execution_count": 5,
   "metadata": {},
   "outputs": [
    {
     "name": "stdout",
     "output_type": "stream",
     "text": [
      "['doc', 'doc(1)', 'image', 'doc(1)(1)', 'doc(2)']\n",
      "['a(1)', 'a(6)', 'a', 'a(2)', 'a(3)', 'a(4)', 'a(5)', 'a(7)', 'a(8)', 'a(9)', 'a(10)', 'a(11)']\n",
      "['dd', 'dd(1)', 'dd(2)', 'dd(3)', 'dd(1)(1)', 'dd(1)(2)', 'dd(1)(1)(1)', 'dd(4)', 'dd(1)(3)']\n"
     ]
    }
   ],
   "source": [
    "#Alternate\n",
    "def solution(names):\n",
    "    for i in range(len(names)):\n",
    "        if names[i] in names[:i]:\n",
    "            j=1\n",
    "            while names[i]+\"(\"+str(j)+\")\" in names[:i]:\n",
    "                j+=1\n",
    "            names[i]+=\"(\"+str(j)+\")\"\n",
    "    return names\n",
    "\n",
    "print(solution([\"doc\", \"doc\", \"image\", \"doc(1)\", \"doc\"]))\n",
    "print(solution([\"a(1)\", \"a(6)\", \"a\", \"a\", \"a\", \"a\", \"a\", \"a\", \"a\", \"a\", \"a\", \"a\"]))\n",
    "print(solution([\"dd\", \"dd(1)\", \"dd(2)\", \"dd\", \"dd(1)\", \"dd(1)(2)\", \"dd(1)(1)\", \"dd\", \"dd(1)\"]))"
   ]
  },
  {
   "cell_type": "markdown",
   "metadata": {},
   "source": [
    "<mark>Alternate Solution</mark>: **instead of using another list --> used first approach of list splicing of ```[:i]```**, made while loop shorter by putting main code in condition and just incrementing k inside\n",
    "\n",
    "---"
   ]
  },
  {
   "cell_type": "markdown",
   "metadata": {},
   "source": [
    "## messageFromBinaryCode"
   ]
  },
  {
   "cell_type": "markdown",
   "metadata": {},
   "source": [
    "<p align=\"center\"><img src=\"Images/binary.png\" width=\"500\"></p>"
   ]
  },
  {
   "cell_type": "code",
   "execution_count": 16,
   "metadata": {},
   "outputs": [
    {
     "name": "stdout",
     "output_type": "stream",
     "text": [
      "Hello!\n"
     ]
    }
   ],
   "source": [
    "#Original\n",
    "def solution(code):\n",
    "    count = 0\n",
    "    decoded = \"\"\n",
    "    temp = \"\"\n",
    "    for i in range(0, len(code)):\n",
    "        count += 1\n",
    "        temp += code[i]\n",
    "        if count == 8:\n",
    "            count = 0\n",
    "            decoded += chr(int(temp, 2))\n",
    "            temp = \"\"\n",
    "    return decoded\n",
    "\n",
    "print(solution(\"010010000110010101101100011011000110111100100001\"))"
   ]
  },
  {
   "cell_type": "code",
   "execution_count": 17,
   "metadata": {},
   "outputs": [
    {
     "name": "stdout",
     "output_type": "stream",
     "text": [
      "Hello!\n"
     ]
    }
   ],
   "source": [
    "#Alternate\n",
    "def solution(code):\n",
    "    return \"\".join([chr(int(code[8*i:8*i+8],2)) for i in range(len(code)//8)])\n",
    "\n",
    "print(solution(\"010010000110010101101100011011000110111100100001\"))"
   ]
  },
  {
   "cell_type": "markdown",
   "metadata": {},
   "source": [
    "<mark>Alternate Solution</mark>: used list splicing and multiplied splice by 8 bits, divided range input into 8 sections, used ```join``` to merge all the letters together\n",
    "\n",
    "---"
   ]
  },
  {
   "cell_type": "markdown",
   "metadata": {},
   "source": [
    "## spiralNumbers"
   ]
  },
  {
   "cell_type": "markdown",
   "metadata": {},
   "source": [
    "<p align=\"center\"><img src=\"Images/constructMatrix.png\" width=\"500\"></p>"
   ]
  },
  {
   "cell_type": "code",
   "execution_count": 51,
   "metadata": {},
   "outputs": [
    {
     "name": "stdout",
     "output_type": "stream",
     "text": [
      "[1, 2, 3, 4]\n",
      "[12, 13, 14, 5]\n",
      "[11, 16, 15, 6]\n",
      "[10, 9, 8, 7]\n"
     ]
    }
   ],
   "source": [
    "#Original\n",
    "def print_matrix(matrix):\n",
    "    for i in range(len(matrix)):\n",
    "        print(matrix[i])\n",
    "    \n",
    "def solution(n):\n",
    "    matrix = []\n",
    "    temp = []\n",
    "    for i in range(n):\n",
    "        for j in range(n):\n",
    "            temp.append('-')\n",
    "        matrix.append(temp)\n",
    "        temp = []\n",
    "\n",
    "    row, col = 0, 0\n",
    "    row_step, col_step = 1, 1\n",
    "    stop = n\n",
    "    iterator = 'c'\n",
    "    counter = 0\n",
    "    for z in range(0, (n*2)-1):\n",
    "        if iterator == 'c':\n",
    "            for i in range(col, stop, col_step):\n",
    "                if matrix[row][i] != '-':\n",
    "                    break\n",
    "                counter += 1\n",
    "                matrix[row][i] = counter\n",
    "                previous = i\n",
    "            iterator = 'r'\n",
    "            col = previous\n",
    "            if row >= n-1 or matrix[row+1][col] != '-':\n",
    "                row -= 1\n",
    "                stop = -1\n",
    "                row_step = -1\n",
    "            else:\n",
    "                row += 1\n",
    "                stop = n\n",
    "                row_step = 1\n",
    "        else:\n",
    "            for i in range(row, stop, row_step):\n",
    "                if matrix[i][col] != '-':\n",
    "                    break\n",
    "                counter += 1\n",
    "                matrix[i][col] = counter\n",
    "                previous = i\n",
    "            iterator = 'c'\n",
    "            row = previous\n",
    "            if col >= n-1 or matrix[row][col+1] != '-':\n",
    "                col -= 1\n",
    "                stop = -1\n",
    "                col_step = -1\n",
    "            else:\n",
    "                col += 1\n",
    "                stop = n\n",
    "                col_step = 1\n",
    "    return matrix\n",
    "\n",
    "print_matrix(solution(4))\n"
   ]
  },
  {
   "cell_type": "code",
   "execution_count": 54,
   "metadata": {},
   "outputs": [
    {
     "name": "stdout",
     "output_type": "stream",
     "text": [
      "[[0, 0, 0, 0, 0], [0, 0, 0, 0, 0], [0, 0, 0, 0, 0], [0, 0, 0, 0, 0], [0, 0, 0, 0, 0]]\n",
      "[[1, 2, 3, 4, 5], [16, 17, 18, 19, 6], [15, 24, 25, 20, 7], [14, 23, 22, 21, 8], [13, 12, 11, 10, 9]]\n"
     ]
    }
   ],
   "source": [
    "#Alternate\n",
    "def solution(n):\n",
    "    m = [[0] * n for i in range(n)]\n",
    "    dx, dy = [0, 1, 0, -1], [1, 0, -1, 0]\n",
    "    x, y, c = 0, -1, 1\n",
    "    for i in range(n + n - 1):\n",
    "        for j in range((n + n - i) // 2):\n",
    "            x += dx[i % 4]\n",
    "            y += dy[i % 4]\n",
    "            m[x][y] = c\n",
    "            c += 1\n",
    "    return m\n",
    "\n",
    "print(solution(5))"
   ]
  },
  {
   "cell_type": "markdown",
   "metadata": {},
   "source": [
    "<mark>Alternate Solution</mark>:\n",
    "\n",
    "---"
   ]
  }
 ],
 "metadata": {
  "interpreter": {
   "hash": "b30b16c83ff9e1edf05d1389201b91a87d2eda582773d1d418f36c288e735fdc"
  },
  "kernelspec": {
   "display_name": "Python 3.10.0 64-bit ('3.10.0': pyenv)",
   "language": "python",
   "name": "python3"
  },
  "language_info": {
   "codemirror_mode": {
    "name": "ipython",
    "version": 3
   },
   "file_extension": ".py",
   "mimetype": "text/x-python",
   "name": "python",
   "nbconvert_exporter": "python",
   "pygments_lexer": "ipython3",
   "version": "3.10.0"
  },
  "orig_nbformat": 4
 },
 "nbformat": 4,
 "nbformat_minor": 2
}
