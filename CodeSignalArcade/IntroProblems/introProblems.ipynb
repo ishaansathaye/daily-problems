{
 "cells": [
  {
   "cell_type": "markdown",
   "metadata": {},
   "source": [
    "# CodeSignal Arcade: Intro Problems"
   ]
  },
  {
   "cell_type": "markdown",
   "metadata": {},
   "source": [
    "---\n",
    "## adjacentElementsProduct"
   ]
  },
  {
   "cell_type": "markdown",
   "metadata": {},
   "source": [
    "<p align=\"center\"><img src=\"Images/adjacent.png\" width=\"500\"></p>"
   ]
  },
  {
   "cell_type": "code",
   "execution_count": 1,
   "metadata": {},
   "outputs": [
    {
     "name": "stdout",
     "output_type": "stream",
     "text": [
      "21\n"
     ]
    }
   ],
   "source": [
    "#Original\n",
    "def solution(inputArray):\n",
    "    max_product = -1001\n",
    "    for i in range(len(inputArray)):\n",
    "        prev = max_product\n",
    "        if i != len(inputArray)-1:\n",
    "            product = inputArray[i]*inputArray[i+1]\n",
    "        if product > prev:\n",
    "            max_product = product\n",
    "    return max_product\n",
    "\n",
    "inputArray = [3, 6, -2, -5, 7, 3]\n",
    "print(solution(inputArray))"
   ]
  },
  {
   "cell_type": "code",
   "execution_count": 2,
   "metadata": {},
   "outputs": [
    {
     "name": "stdout",
     "output_type": "stream",
     "text": [
      "21\n"
     ]
    }
   ],
   "source": [
    "#Alternate\n",
    "def solution2(inputArray):\n",
    "    return max([inputArray[i] * inputArray[i+1] for i in range(len(inputArray)-1)])\n",
    "\n",
    "inputArray = [3, 6, -2, -5, 7, 3]\n",
    "print(solution(inputArray))"
   ]
  },
  {
   "cell_type": "markdown",
   "metadata": {},
   "source": [
    "<mark>Alternate Solution</mark>: more concise, uses max, and **list comprehension**\n",
    "\n",
    "---"
   ]
  },
  {
   "cell_type": "markdown",
   "metadata": {},
   "source": [
    "## shapeArea"
   ]
  },
  {
   "cell_type": "markdown",
   "metadata": {},
   "source": [
    "<p align=\"center\"><img src=\"Images/shape.png\" width=\"500\"></p>"
   ]
  },
  {
   "cell_type": "code",
   "execution_count": 3,
   "metadata": {},
   "outputs": [
    {
     "name": "stdout",
     "output_type": "stream",
     "text": [
      "25\n"
     ]
    }
   ],
   "source": [
    "def solution(n):\n",
    "    return n*(2*(n-1))+1\n",
    "\n",
    "print(solution(4))"
   ]
  },
  {
   "cell_type": "markdown",
   "metadata": {},
   "source": [
    "<mark>Solution</mark>: use scratch paper to write out combinations and math for problems\n",
    "\n",
    "---"
   ]
  },
  {
   "cell_type": "markdown",
   "metadata": {},
   "source": [
    "## Make Array Consecutive 2"
   ]
  },
  {
   "cell_type": "markdown",
   "metadata": {},
   "source": [
    "<p align=\"center\"><img src=\"Images/consecutive.png\" width=\"500\"></p>"
   ]
  },
  {
   "cell_type": "code",
   "execution_count": 4,
   "metadata": {},
   "outputs": [
    {
     "name": "stdout",
     "output_type": "stream",
     "text": [
      "3\n",
      "0\n"
     ]
    }
   ],
   "source": [
    "#Original\n",
    "def solution(statues):\n",
    "    counter = 0\n",
    "    statues.sort()\n",
    "    for i in range(len(statues)-1):\n",
    "        if statues[i]+1 != statues[i+1]:\n",
    "            counter = counter + ((statues[i+1] - statues[i]) - 1)\n",
    "    return counter\n",
    "\n",
    "statues = [6, 2, 3, 8] #3\n",
    "statues2 = [5, 4, 6] #0\n",
    "print(solution(statues))\n",
    "print(solution(statues2))\n"
   ]
  },
  {
   "cell_type": "code",
   "execution_count": 5,
   "metadata": {},
   "outputs": [
    {
     "name": "stdout",
     "output_type": "stream",
     "text": [
      "3\n",
      "0\n"
     ]
    }
   ],
   "source": [
    "#Alternate\n",
    "def solution(statues):\n",
    "    return max(statues) - min(statues) - len(statues) + 1\n",
    "\n",
    "statues = [6, 2, 3, 8] #3\n",
    "statues2 = [5, 4, 6] #0\n",
    "print(solution(statues))\n",
    "print(solution(statues2))"
   ]
  },
  {
   "cell_type": "markdown",
   "metadata": {},
   "source": [
    "<mark>Alternate Solution</mark>: concise, uses math, use max and min, **use scratch paper to find equation**\n",
    "\n",
    "---"
   ]
  },
  {
   "cell_type": "markdown",
   "metadata": {},
   "source": [
    "## almostIncreasingSequence"
   ]
  },
  {
   "cell_type": "markdown",
   "metadata": {},
   "source": [
    "<p align=\"center\"><img src=\"Images/almostinc.png\" width=\"500\"></p>"
   ]
  },
  {
   "cell_type": "code",
   "execution_count": 37,
   "metadata": {},
   "outputs": [
    {
     "name": "stdout",
     "output_type": "stream",
     "text": [
      "Everything Passed.\n"
     ]
    }
   ],
   "source": [
    "def iterate(sequence):\n",
    "    for i in range(len(sequence)-1):\n",
    "        if sequence[i] >= sequence[i+1]:\n",
    "            return False\n",
    "    return True\n",
    "def solution(sequence):\n",
    "    for i in range(len(sequence)-1):\n",
    "        if sequence[i] >= sequence[i+1]:\n",
    "            save = sequence[i+1]\n",
    "            del sequence[i+1]\n",
    "            result = iterate(sequence)\n",
    "            if result == True:\n",
    "                return True\n",
    "            elif result == False:\n",
    "                sequence.insert(i+1, save)\n",
    "                del sequence[i]\n",
    "                new_result = iterate(sequence)\n",
    "                if new_result == True:\n",
    "                    return True\n",
    "                else:\n",
    "                    return False\n",
    "\n",
    "assert False == solution([\n",
    "    1, 3, 2, 1])\n",
    "assert True == solution([1, 3, 2])\n",
    "assert False == solution([1, 2, 1, 2])\n",
    "assert True == solution([1, 2, 3, 4, 3, 6])\n",
    "assert True == solution([10, 1, 2, 3, 4, 5])\n",
    "assert True == solution([1, 2, 5, 3, 5])\n",
    "print(\"Everything Passed.\")"
   ]
  },
  {
   "cell_type": "code",
   "execution_count": 9,
   "metadata": {},
   "outputs": [
    {
     "name": "stdout",
     "output_type": "stream",
     "text": [
      "Everything Passed.\n"
     ]
    }
   ],
   "source": [
    "#Alternate\n",
    "def solution(sequence):\n",
    "    dropped = False\n",
    "    last = prev = min(sequence) - 1\n",
    "    for elm in sequence:\n",
    "        if elm <= last:\n",
    "            if dropped:\n",
    "                return False\n",
    "            else:\n",
    "                dropped = True\n",
    "            if elm <= prev:\n",
    "                prev = last\n",
    "            elif elm >= prev:\n",
    "                prev = last = elm\n",
    "        else:\n",
    "            prev, last = last, elm\n",
    "    return True\n",
    "\n",
    "assert False == solution([1, 3, 2, 1])\n",
    "assert True == solution([1, 3, 2])\n",
    "assert False == solution([1, 2, 1, 2])\n",
    "assert True == solution([1, 2, 3, 4, 3, 6])\n",
    "assert True == solution([10, 1, 2, 3, 4, 5])\n",
    "assert True == solution([1, 2, 5, 3, 5])\n",
    "print(\"Everything Passed.\")"
   ]
  },
  {
   "cell_type": "markdown",
   "metadata": {},
   "source": [
    "<mark>Alternate Solution</mark>: uses logic more, **multiple variable assignment**, boolean value to simulate dropping of elements from list\n",
    "\n",
    "*Use debugger to verify solution*\n",
    "\n",
    "---"
   ]
  },
  {
   "cell_type": "markdown",
   "metadata": {},
   "source": [
    "## matrixElementSum"
   ]
  },
  {
   "cell_type": "markdown",
   "metadata": {},
   "source": [
    "<p align=\"center\"><img src=\"Images/matrixSum.png\" width=\"500\"></p>\n",
    "\n",
    "Guaranteed constraints:\n",
    "- 1 ≤ matrix.length ≤ 5,\n",
    "- 1 ≤ matrix[i].length ≤ 5,\n",
    "- 0 ≤ matrix[i][j] ≤ 10."
   ]
  },
  {
   "cell_type": "code",
   "execution_count": 14,
   "metadata": {},
   "outputs": [
    {
     "name": "stdout",
     "output_type": "stream",
     "text": [
      "9\n",
      "Everything passed.\n"
     ]
    }
   ],
   "source": [
    "def solution(matrix):\n",
    "    col = len(matrix[0])\n",
    "    row = len(matrix)\n",
    "    sum = 0\n",
    "    haunted = []\n",
    "    for i in range(row):\n",
    "        for j in range(col):\n",
    "            if matrix[i][j] == 0:\n",
    "                haunted.append(j)\n",
    "            else:\n",
    "                if j not in haunted:\n",
    "                    sum += matrix[i][j]\n",
    "    return sum\n",
    "\n",
    "print(solution([[0,1,1,2], [0,5,0,0], [2,0,3,3]]))"
   ]
  },
  {
   "cell_type": "code",
   "execution_count": 15,
   "metadata": {},
   "outputs": [
    {
     "name": "stdout",
     "output_type": "stream",
     "text": [
      "9\n"
     ]
    }
   ],
   "source": [
    "def solution(m):\n",
    "    r = len(m)\n",
    "    c = len(m[0])\n",
    "    total=0\n",
    "    for j in range(c):\n",
    "        for i in range(r):\n",
    "            if m[i][j]!=0:\n",
    "                total+=m[i][j]\n",
    "            else:\n",
    "                break\n",
    "    return total\n",
    "\n",
    "print(solution([[0,1,1,2], [0,5,0,0], [2,0,3,3]]))"
   ]
  },
  {
   "cell_type": "markdown",
   "metadata": {},
   "source": [
    "<mark>Alternate Solution</mark>: **used columns instead of rows** as first iterator, *break* to get out of loop\n",
    "\n",
    "---"
   ]
  },
  {
   "cell_type": "markdown",
   "metadata": {},
   "source": [
    "## All Longest Strings"
   ]
  },
  {
   "cell_type": "markdown",
   "metadata": {},
   "source": [
    "<p align=\"center\"><img src=\"Images/maxlength.png\" width=\"500\"></p>"
   ]
  },
  {
   "cell_type": "code",
   "execution_count": 24,
   "metadata": {},
   "outputs": [
    {
     "name": "stdout",
     "output_type": "stream",
     "text": [
      "['varennyky']\n"
     ]
    }
   ],
   "source": [
    "#Original\n",
    "def solution(inputArray):\n",
    "    max_length =  max([len(i) for i in inputArray])\n",
    "    return [i for i  in inputArray if len(i) == max_length]\n",
    "\n",
    "print(solution([\"enyky\", \"benyky\", \"yely\", \"varennyky\"]))"
   ]
  },
  {
   "cell_type": "markdown",
   "metadata": {},
   "source": [
    "<mark>Alternate Solution</mark>: used list comprehension and **built in method on list comprehension**\n",
    "\n",
    "---"
   ]
  },
  {
   "cell_type": "markdown",
   "metadata": {},
   "source": [
    "## commonCharacterCount"
   ]
  },
  {
   "cell_type": "markdown",
   "metadata": {},
   "source": [
    "<p align=\"center\"><img src=\"Images/commonCount.png\" width=\"500\"></p"
   ]
  },
  {
   "cell_type": "code",
   "execution_count": 37,
   "metadata": {},
   "outputs": [
    {
     "name": "stdout",
     "output_type": "stream",
     "text": [
      "3\n",
      "4\n"
     ]
    }
   ],
   "source": [
    "#Original\n",
    "def solution(s1, s2):\n",
    "    counter = 0\n",
    "    setWord = set(s1)\n",
    "    for i in setWord:\n",
    "        fWord_Count = s1.count(i)\n",
    "        sWord_Count = s2.count(i)\n",
    "        if fWord_Count != 0 or sWord_Count != 0:\n",
    "            if fWord_Count == sWord_Count:\n",
    "                counter += fWord_Count\n",
    "            else:\n",
    "                counter += min(fWord_Count, sWord_Count)\n",
    "    return counter\n",
    "\n",
    "print(solution(s1=\"aabcc\", s2=\"adcaa\"))\n",
    "print(solution(s1=\"zzzz\", s2=\"zzzzzzz\"))"
   ]
  },
  {
   "cell_type": "code",
   "execution_count": 38,
   "metadata": {},
   "outputs": [
    {
     "name": "stdout",
     "output_type": "stream",
     "text": [
      "3\n",
      "4\n"
     ]
    }
   ],
   "source": [
    "#Alternate\n",
    "def solution(s1, s2):\n",
    "    com = [min(s1.count(i),s2.count(i)) for i in set(s1)]\n",
    "    return sum(com)\n",
    "\n",
    "print(solution(s1=\"aabcc\", s2=\"adcaa\"))\n",
    "print(solution(s1=\"zzzz\", s2=\"zzzzzzz\"))"
   ]
  },
  {
   "cell_type": "markdown",
   "metadata": {},
   "source": [
    "<mark>Alternate Solution</mark>: used list comprehension, combined lines, and **found minimum of letters shared**\n",
    "\n",
    "---"
   ]
  },
  {
   "cell_type": "markdown",
   "metadata": {},
   "source": [
    "## isLucky"
   ]
  },
  {
   "cell_type": "markdown",
   "metadata": {},
   "source": [
    "<p align=\"center\"><img src=\"Images/lucky.png\" width=\"500\"></p"
   ]
  },
  {
   "cell_type": "code",
   "execution_count": 41,
   "metadata": {},
   "outputs": [
    {
     "name": "stdout",
     "output_type": "stream",
     "text": [
      "True\n"
     ]
    }
   ],
   "source": [
    "#Original\n",
    "def solution(n):\n",
    "    half = len(str(n))/2\n",
    "    first_half = 0\n",
    "    second_half = 0\n",
    "    for i in range(0, len(str(n))):\n",
    "        if i < half:\n",
    "            first_half += int(str(n)[i])\n",
    "        if i >= half:\n",
    "            second_half += int(str(n)[i])\n",
    "    if first_half == second_half:\n",
    "        return True\n",
    "    else:\n",
    "        return False\n",
    "\n",
    "print(solution(1230))"
   ]
  },
  {
   "cell_type": "code",
   "execution_count": 42,
   "metadata": {},
   "outputs": [
    {
     "name": "stdout",
     "output_type": "stream",
     "text": [
      "True\n"
     ]
    }
   ],
   "source": [
    "#Alternate\n",
    "def solution(n):\n",
    "    s = str(n)\n",
    "    pivot = len(s)//2\n",
    "    left, right = s[:pivot], s[pivot:]\n",
    "    return sum(map(int, left)) == sum(map(int, right))\n",
    "\n",
    "print(solution(1230))"
   ]
  },
  {
   "cell_type": "markdown",
   "metadata": {},
   "source": [
    "<mark>Alternate Solution</mark>: used ```//``` to find halfway point, *put conditionals in return for True and False*, **use built in ```map()``` function**, **use ```string splicing``` instead of for loops**\n",
    "\n",
    "---"
   ]
  },
  {
   "cell_type": "markdown",
   "metadata": {},
   "source": [
    "## Sort by Height"
   ]
  },
  {
   "cell_type": "markdown",
   "metadata": {},
   "source": [
    "<p align=\"center\"><img src=\"Images/sortHeight.png\" width=\"500\"></p"
   ]
  },
  {
   "cell_type": "code",
   "execution_count": 68,
   "metadata": {},
   "outputs": [
    {
     "name": "stdout",
     "output_type": "stream",
     "text": [
      "[-1, 150, 160, 170, -1, -1, 180, 190]\n"
     ]
    }
   ],
   "source": [
    "#Original\n",
    "def solution(a):\n",
    "    indices = []\n",
    "    for i in range(len(a)):\n",
    "        if a[i] == -1:\n",
    "            indices.append(i)\n",
    "    while -1 in a:\n",
    "        a.remove(-1)\n",
    "    a.sort()\n",
    "    j = 0\n",
    "    while len(indices) != 0:\n",
    "        a.insert(indices[j], -1)\n",
    "        indices.remove(indices[j])\n",
    "    return a\n",
    "\n",
    "print(solution(a=[-1, 150, 190, 170, -1, -1, 160, 180]))"
   ]
  },
  {
   "cell_type": "code",
   "execution_count": 69,
   "metadata": {},
   "outputs": [
    {
     "name": "stdout",
     "output_type": "stream",
     "text": [
      "[150, 160, 170, 180, 190]\n",
      "[-1, 150, 160, 170, -1, -1, 180, 190]\n"
     ]
    }
   ],
   "source": [
    "#Alternate\n",
    "def solution(a):\n",
    "    l = sorted([i for i in a if i > 0])\n",
    "    for n,i in enumerate(a):\n",
    "        if i == -1:\n",
    "            l.insert(n,i)\n",
    "    return l\n",
    "        \n",
    "print(solution(a=[-1, 150, 190, 170, -1, -1, 160, 180]))"
   ]
  },
  {
   "cell_type": "markdown",
   "metadata": {},
   "source": [
    "<mark>Alternate Solution</mark>: use ```sorted()``` instead of ```sort()```, use ```enumerate()``` to find element and index, alternate solution used one list for sorted and original list for -1s\n",
    "\n",
    "---"
   ]
  },
  {
   "cell_type": "markdown",
   "metadata": {},
   "source": [
    "## reverseInParentheses"
   ]
  },
  {
   "cell_type": "markdown",
   "metadata": {},
   "source": [
    "<p align=\"center\"><img src=\"Images/reverseParan.png\" width=\"500\"></p"
   ]
  },
  {
   "cell_type": "code",
   "execution_count": 99,
   "metadata": {},
   "outputs": [
    {
     "name": "stdout",
     "output_type": "stream",
     "text": [
      "foobazrabblim\n",
      "foorabbazmilb\n",
      "rab\n"
     ]
    }
   ],
   "source": [
    "#Original\n",
    "def reverse(string):\n",
    "    return string[::-1]\n",
    "def solution(inputString):\n",
    "    while \"(\" in inputString:\n",
    "        closeP = False\n",
    "        for i in range(len(inputString)):\n",
    "            if closeP == False:\n",
    "                if inputString[i] == \"(\":\n",
    "                    openIndex = i\n",
    "            if closeP == False:\n",
    "                if inputString[i] == \")\":\n",
    "                    closeIndex = i\n",
    "                    closeP = True\n",
    "        embedded = reverse(inputString[openIndex+1:closeIndex])\n",
    "        inputString = inputString.replace(inputString[openIndex:closeIndex+1], embedded)\n",
    "    return inputString\n",
    "\n",
    "\n",
    "\n",
    "print(solution(inputString=\"foo(bar(baz))blim\"))\n",
    "print(solution(inputString=\"foo(bar)baz(blim)\"))\n",
    "print(solution(inputString=\"(bar)\"))\n",
    "    "
   ]
  },
  {
   "cell_type": "code",
   "execution_count": 101,
   "metadata": {},
   "outputs": [
    {
     "name": "stdout",
     "output_type": "stream",
     "text": [
      "foobazrabblim\n",
      "foorabbazmilb\n",
      "rab\n"
     ]
    }
   ],
   "source": [
    "#Alternate Solutions\n",
    "#1.\n",
    "def solution(s):\n",
    "    return eval('\"' + s.replace('(', '\"+(\"').replace(')', '\")[::-1]+\"') + '\"')\n",
    "print(solution(s=\"foo(bar(baz))blim\"))\n",
    "print(solution(s=\"foo(bar)baz(blim)\"))\n",
    "print(solution(s=\"(bar)\"))\n",
    "\n",
    "print()\n",
    "\n",
    "#2.\n",
    "def solution2(s):\n",
    "    for i in range(len(s)):\n",
    "        if s[i] == \"(\":\n",
    "            start = i\n",
    "        if s[i] == \")\":\n",
    "            end = i\n",
    "            return solution2(s[:start] + s[start+1:end][::-1] + s[end+1:]) #uses recursion\n",
    "    return s\n",
    "print(solution2(s=\"foo(bar(baz))blim\"))\n",
    "print(solution2(s=\"foo(bar)baz(blim)\"))\n",
    "print(solution2(s=\"(bar)\"))\n",
    "\n"
   ]
  },
  {
   "cell_type": "markdown",
   "metadata": {},
   "source": [
    "<mark>Alternate Solution</mark>: First solution uses ```eval()``` function, Second solution uses **RECURSION** (use debugger to see call stack?) and **returned when \")\" in string**\n",
    "\n",
    "---"
   ]
  },
  {
   "cell_type": "markdown",
   "metadata": {},
   "source": [
    "## alternatingSums"
   ]
  },
  {
   "cell_type": "markdown",
   "metadata": {},
   "source": [
    "<p align=\"center\"><img src=\"Images/alternating.png\" width=\"500\"></p"
   ]
  },
  {
   "cell_type": "code",
   "execution_count": 103,
   "metadata": {},
   "outputs": [
    {
     "name": "stdout",
     "output_type": "stream",
     "text": [
      "[180, 105]\n"
     ]
    }
   ],
   "source": [
    "#Original\n",
    "def solution(a):\n",
    "    total_weights = []\n",
    "    total_weights.append(sum([a[i] for i in range(len(a)) if i % 2 == 0]))\n",
    "    total_weights.append(sum([a[i] for i in range(len(a)) if i % 2 != 0]))\n",
    "    return total_weights\n",
    "\n",
    "print(solution([50, 60, 60, 45, 70]))\n",
    "    \n"
   ]
  },
  {
   "cell_type": "code",
   "execution_count": 104,
   "metadata": {},
   "outputs": [
    {
     "name": "stdout",
     "output_type": "stream",
     "text": [
      "[180, 105]\n"
     ]
    }
   ],
   "source": [
    "#Alternate\n",
    "def solution(a):\n",
    "    return [sum(a[::2]),sum(a[1::2])]\n",
    "\n",
    "print(solution([50, 60, 60, 45, 70]))"
   ]
  },
  {
   "cell_type": "markdown",
   "metadata": {},
   "source": [
    "<mark>Alternate Solution</mark>: Convert elements into a list using ```[]```, used string step ```string[::2] and string[1::2]``` to start at first or second element in list\n",
    "\n",
    "---"
   ]
  },
  {
   "cell_type": "markdown",
   "metadata": {},
   "source": [
    "## Add Border"
   ]
  },
  {
   "cell_type": "markdown",
   "metadata": {},
   "source": [
    "<p align=\"center\"><img src=\"Images/border.png\" width=\"500\"></p"
   ]
  },
  {
   "cell_type": "code",
   "execution_count": 108,
   "metadata": {},
   "outputs": [
    {
     "name": "stdout",
     "output_type": "stream",
     "text": [
      "['*****', '*abc*', '*ded*', '*****']\n"
     ]
    }
   ],
   "source": [
    "#Original\n",
    "def solution(picture):\n",
    "    for i in range(len(picture)):\n",
    "        picture[i] = \"*\" + picture[i] + \"*\"\n",
    "    top_bottom = \"\"\n",
    "    for i in range(len(picture[i])):\n",
    "        top_bottom += \"*\"\n",
    "    picture.insert(0, top_bottom)\n",
    "    picture.append(top_bottom)\n",
    "    return picture\n",
    "\n",
    "print(solution([\"abc\",\n",
    "           \"ded\"]))"
   ]
  },
  {
   "cell_type": "code",
   "execution_count": 109,
   "metadata": {},
   "outputs": [
    {
     "name": "stdout",
     "output_type": "stream",
     "text": [
      "5\n",
      "['*****', '*abc*', '*ded*', '*****']\n"
     ]
    }
   ],
   "source": [
    "#Alternate\n",
    "def solution(picture):\n",
    "    l=len(picture[0])+2 #asterisks around each element is just length + 2\n",
    "    return [\"*\"*l] + [x.center(l,\"*\") for x in picture] + [\"*\"*l]\n",
    "\n",
    "print(solution([\"abc\",\n",
    "           \"ded\"]))"
   ]
  },
  {
   "cell_type": "markdown",
   "metadata": {},
   "source": [
    "<mark>Alternate Solution</mark>: **use less ```for``` loops and more logic** (length of elements with asterisks), add to list using ```[]+[]```, duplicate strings through operators ```string*8```, list comprehension, **```.center()``` for adding characters around a fixed length of string**\n",
    "\n",
    "---"
   ]
  },
  {
   "cell_type": "markdown",
   "metadata": {},
   "source": [
    "## Are Similar?"
   ]
  },
  {
   "cell_type": "markdown",
   "metadata": {},
   "source": [
    "<p align=\"center\"><img src=\"Images/swap.png\" width=\"500\"></p"
   ]
  },
  {
   "cell_type": "code",
   "execution_count": 15,
   "metadata": {},
   "outputs": [
    {
     "name": "stdout",
     "output_type": "stream",
     "text": [
      "True\n",
      "True\n",
      "False\n",
      "True\n",
      "True\n"
     ]
    }
   ],
   "source": [
    "#Original\n",
    "def solution(a, b):\n",
    "    #O(n)\n",
    "    if a == b:\n",
    "        return True\n",
    "    else:\n",
    "        indices = [i for i in range(len(a)) if a[i] != b[i]]\n",
    "        for i in range(len(indices)-1):\n",
    "            b[indices[i]], b[indices[i+1]] = b[indices[i+1]], b[indices[i]]\n",
    "            if a == b:\n",
    "                return True\n",
    "            else:\n",
    "                b[indices[i+1]], b[indices[i]] = b[indices[i]], b[indices[i+1]]\n",
    "    return False\n",
    "\n",
    "    #O(n^2)\n",
    "    # if a == b:\n",
    "    #     return True\n",
    "    # else:\n",
    "    #     for i in range(len(b)):\n",
    "    #         for j in range(i+1):\n",
    "    #             b[i], b[j] = b[j], b[i]\n",
    "    #             if a == b:\n",
    "    #                 return True\n",
    "    #             else:\n",
    "    #                 b[j], b[i] = b[i], b[j]\n",
    "    # return False\n",
    "\n",
    "print(solution([1, 2, 3], [1, 2, 3])) #True\n",
    "print(solution([1, 2, 3], [2, 1, 3])) #True\n",
    "print(solution([1, 2, 2], [2, 1, 1])) #False\n",
    "print(solution([2, 3, 1], [1, 3, 2])) #True\n",
    "print(solution([832, 998, 148, 570, 533, 561, 894, 147, 455, 279], [832, 998, 148, 570, 533, 561, 455, 147, 894, 279])) #True"
   ]
  },
  {
   "cell_type": "code",
   "execution_count": 20,
   "metadata": {},
   "outputs": [
    {
     "name": "stdout",
     "output_type": "stream",
     "text": [
      "True\n",
      "True\n",
      "False\n",
      "True\n",
      "True\n",
      "\n",
      "True\n",
      "True\n",
      "False\n",
      "True\n",
      "True\n"
     ]
    }
   ],
   "source": [
    "#Alternate Solutions:\n",
    "\n",
    "def solution1(A, B):\n",
    "    return sorted(A)==sorted(B) and sum([a!=b for a,b in zip(A,B)])<=2\n",
    "\n",
    "print(solution1([1, 2, 3], [1, 2, 3])) #True\n",
    "print(solution1([1, 2, 3], [2, 1, 3])) #True\n",
    "print(solution1([1, 2, 2], [2, 1, 1])) #False\n",
    "print(solution1([2, 3, 1], [1, 3, 2])) #True\n",
    "print(solution1([832, 998, 148, 570, 533, 561, 894, 147, 455, 279], [832, 998, 148, 570, 533, 561, 455, 147, 894, 279])) #True\n",
    "\n",
    "print()\n",
    "\n",
    "from collections import Counter as C\n",
    "def solution2(A, B):\n",
    "    return C(A) == C(B) and sum(a != b for a, b in zip(A, B)) < 3\n",
    "\n",
    "print(solution1([1, 2, 3], [1, 2, 3])) #True\n",
    "print(solution1([1, 2, 3], [2, 1, 3])) #True\n",
    "print(solution1([1, 2, 2], [2, 1, 1])) #False\n",
    "print(solution1([2, 3, 1], [1, 3, 2])) #True\n",
    "print(solution1([832, 998, 148, 570, 533, 561, 894, 147, 455, 279], [832, 998, 148, 570, 533, 561, 455, 147, 894, 279])) #True\n"
   ]
  },
  {
   "cell_type": "markdown",
   "metadata": {},
   "source": [
    "<mark>Alternate Solution</mark>: \n",
    "\n",
    "solution 1\n",
    "- used sum() and list comprehension\n",
    "- **used ```zip()```**\n",
    "- used ```sorted()``` to first check if lists are already \n",
    "- returned solution in 1 line\n",
    "\n",
    "solution 2\n",
    "- same notes as solution 1\n",
    "- except using ```sorted() ```-> used ```Counter from collections```\n",
    "\n",
    "---"
   ]
  },
  {
   "cell_type": "markdown",
   "metadata": {},
   "source": [
    "## arrayChange"
   ]
  },
  {
   "cell_type": "markdown",
   "metadata": {},
   "source": [
    "<p align=\"center\"><img src=\"Images/arrayChange.png\" width=\"500\"></p"
   ]
  },
  {
   "cell_type": "code",
   "execution_count": 11,
   "metadata": {},
   "outputs": [
    {
     "name": "stdout",
     "output_type": "stream",
     "text": [
      "3\n",
      "5\n"
     ]
    }
   ],
   "source": [
    "#Original\n",
    "def solution(inputArray):\n",
    "    moves = 0\n",
    "    for i in range(len(inputArray)-1):\n",
    "        to_increase = 0\n",
    "        if inputArray[i] >= inputArray[i+1]:\n",
    "            to_increase = (inputArray[i] - inputArray[i+1]) + 1\n",
    "            inputArray[i+1] += to_increase\n",
    "        moves += to_increase\n",
    "    return moves\n",
    "            \n",
    "print(solution([1,1,1]))\n",
    "print(solution(inputArray=[-1000, 0, -2, 0]))"
   ]
  },
  {
   "cell_type": "code",
   "execution_count": 12,
   "metadata": {},
   "outputs": [],
   "source": [
    "#Alternate\n",
    "#None - same method, logic, and math as original solution"
   ]
  },
  {
   "cell_type": "markdown",
   "metadata": {},
   "source": [
    "<mark>Notes</mark>: use math to find relationship between variables instead of iterations\n",
    "\n",
    "---"
   ]
  },
  {
   "cell_type": "markdown",
   "metadata": {},
   "source": [
    "## palindromeRearranging"
   ]
  },
  {
   "cell_type": "markdown",
   "metadata": {},
   "source": [
    "<p align=\"center\"><img src=\"Images/palindrome.png\" width=\"500\"></p"
   ]
  },
  {
   "cell_type": "code",
   "execution_count": 26,
   "metadata": {},
   "outputs": [
    {
     "name": "stdout",
     "output_type": "stream",
     "text": [
      "True\n"
     ]
    }
   ],
   "source": [
    "#Original\n",
    "def solution(inputString):\n",
    "    size = len(inputString)\n",
    "    if inputString == inputString[::-1]:\n",
    "        return True\n",
    "    else:\n",
    "        letterCount = [inputString.count(letter) for letter in set(inputString)]\n",
    "        if size % 2 == 0:\n",
    "            for count in letterCount:\n",
    "                if count % 2 != 0:\n",
    "                    return False\n",
    "            return True\n",
    "        else:\n",
    "            oddCount = [count for count in letterCount if count%2 != 0]\n",
    "            if len(oddCount) != 1:\n",
    "                return False\n",
    "            else:\n",
    "                return True\n",
    "\n",
    "print(solution(\"abbcabb\"))"
   ]
  },
  {
   "cell_type": "code",
   "execution_count": 30,
   "metadata": {},
   "outputs": [
    {
     "name": "stdout",
     "output_type": "stream",
     "text": [
      "[1, 1]\n",
      "False\n"
     ]
    }
   ],
   "source": [
    "#Alternate\n",
    "def solution(inputString):\n",
    "    # test = []\n",
    "    # for i in set(inputString):\n",
    "    #     test.append(inputString.count(i) % 2)\n",
    "    # print(test)\n",
    "    return sum([inputString.count(i)%2 for i in set(inputString)]) <= 1\n",
    "\n",
    "print(solution(\"abbb\"))"
   ]
  },
  {
   "cell_type": "markdown",
   "metadata": {},
   "source": [
    "<mark>Alternate Solution</mark>: use list comprehension more, use ```sum()``` more, **find best way to solve question on paper using math**\n",
    "\n",
    "---"
   ]
  },
  {
   "cell_type": "markdown",
   "metadata": {},
   "source": [
    "## areEquallyStrong"
   ]
  },
  {
   "cell_type": "markdown",
   "metadata": {},
   "source": [
    "<p align=\"center\"><img src=\"Images/strong.png\" width=\"500\"></p"
   ]
  },
  {
   "cell_type": "code",
   "execution_count": 46,
   "metadata": {},
   "outputs": [
    {
     "name": "stdout",
     "output_type": "stream",
     "text": [
      "False\n",
      "False\n",
      "True\n"
     ]
    }
   ],
   "source": [
    "#Original\n",
    "def solution(yourLeft, yourRight, friendsLeft, friendsRight):\n",
    "    return sorted([yourLeft, yourRight]) == sorted([friendsLeft, friendsRight])\n",
    "\n",
    "print(solution(15, 10, 15, 9))\n",
    "print(solution(1, 10, 10, 0))\n",
    "print(solution(10, 15, 15, 10))\n"
   ]
  },
  {
   "cell_type": "code",
   "execution_count": 45,
   "metadata": {},
   "outputs": [
    {
     "name": "stdout",
     "output_type": "stream",
     "text": [
      "False\n",
      "False\n",
      "True\n"
     ]
    }
   ],
   "source": [
    "#Alternate\n",
    "def solution(yourLeft, yourRight, friendsLeft, friendsRight):\n",
    "    return {yourLeft, yourRight} == {friendsLeft, friendsRight}\n",
    "\n",
    "something = set()\n",
    "\n",
    "print(solution(15, 10, 15, 9))\n",
    "print(solution(1, 10, 10, 0))\n",
    "print(solution(10, 15, 15, 10))\n"
   ]
  },
  {
   "cell_type": "markdown",
   "metadata": {},
   "source": [
    "<mark>Alternate Solution</mark>: **making a set out of numbers ```{}``` sorts the numbers in the set**\n",
    "\n",
    "---"
   ]
  },
  {
   "cell_type": "markdown",
   "metadata": {},
   "source": [
    "## arrayMaximalAdjacentDifference"
   ]
  },
  {
   "cell_type": "markdown",
   "metadata": {},
   "source": [
    "<p align=\"center\"><img src=\"Images/maximal.png\" width=\"500\"></p"
   ]
  },
  {
   "cell_type": "code",
   "execution_count": 47,
   "metadata": {},
   "outputs": [
    {
     "name": "stdout",
     "output_type": "stream",
     "text": [
      "3\n"
     ]
    }
   ],
   "source": [
    "#Original\n",
    "def solution(inputArray):\n",
    "    return max([abs(inputArray[i]-inputArray[i+1]) for i in range(len(inputArray)-1)])\n",
    "\n",
    "print(solution([2, 4, 1, 0]))"
   ]
  },
  {
   "cell_type": "markdown",
   "metadata": {},
   "source": [
    "<mark>Alternate Solution</mark>: None\n",
    "\n",
    "---"
   ]
  },
  {
   "cell_type": "markdown",
   "metadata": {},
   "source": [
    "## isIPv4Address"
   ]
  },
  {
   "cell_type": "markdown",
   "metadata": {},
   "source": [
    "<p align=\"center\"><img src=\"Images/ipv4.png\" width=\"500\"></p"
   ]
  },
  {
   "cell_type": "code",
   "execution_count": 100,
   "metadata": {},
   "outputs": [
    {
     "name": "stdout",
     "output_type": "stream",
     "text": [
      "['64', '233', '161', '00']\n",
      "False\n"
     ]
    }
   ],
   "source": [
    "#Original\n",
    "def solution(inputString):\n",
    "    listIP = []\n",
    "    temp = \"\"\n",
    "    for i in range(len(inputString)):\n",
    "        if inputString[i] != \".\":\n",
    "            temp += inputString[i]\n",
    "        if inputString[i] == \".\" or i == len(inputString)-1:\n",
    "            listIP.append(temp)\n",
    "            temp = \"\"\n",
    "    try:\n",
    "        if len(listIP) == 4 and \"\" not in listIP:\n",
    "            for i in listIP:\n",
    "                if (int(i) < 0 or int(i) > 255) or (len(i) >= 2 and i[0] == \"0\"):\n",
    "                    return False\n",
    "            listIP = [int(i) for i in listIP]\n",
    "            return True\n",
    "        return False\n",
    "    except:\n",
    "        return False\n",
    "\n",
    "# print(solution(\"172.16.254.1\"))\n",
    "# print(solution(\"172.316.254.1\"))\n",
    "# print(solution(\".254.255.0\"))\n",
    "# print(solution(\"1.1.1.1a\"))\n",
    "print(solution(\"64.233.161.00\"))\n",
    "# print(solution(\"a0.1.1.1\"))"
   ]
  },
  {
   "cell_type": "code",
   "execution_count": 101,
   "metadata": {},
   "outputs": [
    {
     "name": "stdout",
     "output_type": "stream",
     "text": [
      "True\n",
      "False\n",
      "False\n",
      "False\n",
      "True\n",
      "False\n"
     ]
    }
   ],
   "source": [
    "#Alternate\n",
    "def solution(s):\n",
    "    p = s.split('.')\n",
    "    return len(p) == 4 and all(n.isdigit() and 0 <= int(n) < 256 for n in p)\n",
    "\n",
    "print(solution(\"172.16.254.1\"))\n",
    "print(solution(\"172.316.254.1\"))\n",
    "print(solution(\".254.255.0\"))\n",
    "print(solution(\"1.1.1.1a\"))\n",
    "print(solution(\"64.233.161.00\"))\n",
    "print(solution(\"a0.1.1.1\"))"
   ]
  },
  {
   "cell_type": "markdown",
   "metadata": {},
   "source": [
    "<mark>Alternate Solution</mark>: **Use``` .split()``` to split string on a character into elements of a list**, **use ```all()``` to check conditions on all elements**, **use .```isdigit()``` to check if element is a number**, **for comparisons use mathematical standard: 0 < 15 < 256**\n",
    "\n",
    "---"
   ]
  },
  {
   "cell_type": "markdown",
   "metadata": {},
   "source": [
    "## avoidObstacles"
   ]
  },
  {
   "cell_type": "markdown",
   "metadata": {},
   "source": [
    "<p align=\"center\"><img src=\"Images/obstacle.png\" width=\"500\"></p"
   ]
  },
  {
   "cell_type": "code",
   "execution_count": 115,
   "metadata": {},
   "outputs": [
    {
     "name": "stdout",
     "output_type": "stream",
     "text": [
      "4\n",
      "6\n"
     ]
    }
   ],
   "source": [
    "#Original\n",
    "def solution(inputArray):\n",
    "    inputArray.sort()\n",
    "    minLength = 1\n",
    "    found = False\n",
    "    while not found:\n",
    "        if any(n % minLength == 0 for n in inputArray) == True:\n",
    "            minLength += 1\n",
    "        else:\n",
    "            found = True\n",
    "    return minLength\n",
    "\n",
    "print(solution([5, 3, 6, 7, 9]))\n",
    "print(solution([1000, 999]))"
   ]
  },
  {
   "cell_type": "code",
   "execution_count": 1,
   "metadata": {},
   "outputs": [
    {
     "name": "stdout",
     "output_type": "stream",
     "text": [
      "4\n",
      "6\n"
     ]
    }
   ],
   "source": [
    "#Alternate\n",
    "def solution(inputArray):\n",
    "    c = 2\n",
    "    while True:\n",
    "        if sorted([i%c for i in inputArray])[0]>0:\n",
    "            return c\n",
    "        c += 1\n",
    "\n",
    "print(solution([5, 3, 6, 7, 9]))\n",
    "print(solution([1000, 999]))"
   ]
  },
  {
   "cell_type": "markdown",
   "metadata": {},
   "source": [
    "<mark>Alternate Solution</mark>: to get out of while loop **use ```return``` inside loop**, used ```sorted()``` for **sorting modded values to find minimal length**, *checked if first value in modded sorted list is greater than 0 (there is remainder) -> return the counter (minimal length)*\n",
    "\n",
    "---"
   ]
  },
  {
   "cell_type": "markdown",
   "metadata": {},
   "source": [
    "## Box Blur"
   ]
  },
  {
   "cell_type": "markdown",
   "metadata": {},
   "source": [
    "<p align=\"center\"><img src=\"Images/blur.png\" width=\"500\"></"
   ]
  },
  {
   "cell_type": "markdown",
   "metadata": {},
   "source": [
    "<p align=\"center\"><img src=\"Images/blur2.png\" width=\"500\"></p"
   ]
  },
  {
   "cell_type": "code",
   "execution_count": 23,
   "metadata": {},
   "outputs": [
    {
     "name": "stdout",
     "output_type": "stream",
     "text": [
      "[1, 1, 1]\n",
      "[1, 7, 1]\n",
      "[1, 1, 1]\n",
      "[[3, 9, 3, 3, 9, 3, 3, 9, 3], [3, 9, 3, 3, 9, 3, 3, 9, 3], [3, 9, 3, 3, 9, 3, 3, 9, 3]]\n"
     ]
    }
   ],
   "source": [
    "#Original\n",
    "def solution(image):\n",
    "    # blur = []\n",
    "    # s = []\n",
    "    # s = 0\n",
    "    # for col in image:\n",
    "    #     s += sum(col)\n",
    "\n",
    "    # for i in range(c):\n",
    "        \n",
    "        # if end < r+1:\n",
    "        #     for j in range(3):\n",
    "        # while end < r+1:\n",
    "        #     s.append(sum(image[i][shift:end]))\n",
    "        # blur.append(s)\n",
    "        # shift += 1\n",
    "        # end += 1\n",
    "    \n",
    "    blur = []\n",
    "    s= []\n",
    "    c = len(image)\n",
    "    r = len(image[0])\n",
    "    for i in range(c):\n",
    "        shift = 0\n",
    "        end = shift + 3\n",
    "        for j in range(r):\n",
    "            if end < r+1:\n",
    "                s.append(sum(image[j][shift:end]))\n",
    "\n",
    "        blur.append(s)\n",
    "\n",
    "    for row in image:\n",
    "        pass\n",
    "\n",
    "\n",
    "    # print(s // (r*r))\n",
    "    return blur\n",
    "\n",
    "image = [[1, 1, 1], \n",
    "         [1, 7, 1], \n",
    "         [1, 1, 1]]\n",
    "# print(solution(image))\n",
    "image = [[7, 4, 0, 1], \n",
    "         [5, 6, 2, 2], \n",
    "         [6, 10, 7, 8], \n",
    "         [1, 4, 2, 0]]\n",
    "print(solution(image))"
   ]
  },
  {
   "cell_type": "code",
   "execution_count": null,
   "metadata": {},
   "outputs": [],
   "source": [
    "#Alternate"
   ]
  },
  {
   "cell_type": "markdown",
   "metadata": {},
   "source": [
    "<mark>Alternate Solution</mark>: \n",
    "\n",
    "---"
   ]
  }
 ],
 "metadata": {
  "interpreter": {
   "hash": "b30b16c83ff9e1edf05d1389201b91a87d2eda582773d1d418f36c288e735fdc"
  },
  "kernelspec": {
   "display_name": "Python 3.10.0 64-bit ('3.10.0': pyenv)",
   "language": "python",
   "name": "python3"
  },
  "language_info": {
   "codemirror_mode": {
    "name": "ipython",
    "version": 3
   },
   "file_extension": ".py",
   "mimetype": "text/x-python",
   "name": "python",
   "nbconvert_exporter": "python",
   "pygments_lexer": "ipython3",
   "version": "3.10.0"
  },
  "orig_nbformat": 4
 },
 "nbformat": 4,
 "nbformat_minor": 2
}
