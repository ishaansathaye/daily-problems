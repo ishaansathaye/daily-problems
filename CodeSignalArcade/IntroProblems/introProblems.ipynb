{
 "cells": [
  {
   "cell_type": "markdown",
   "metadata": {},
   "source": [
    "# CodeSignal Arcade: Intro Problems"
   ]
  },
  {
   "cell_type": "markdown",
   "metadata": {},
   "source": [
    "---\n",
    "## adjacentElementsProduct"
   ]
  },
  {
   "cell_type": "markdown",
   "metadata": {},
   "source": [
    "<p align=\"center\"><img src=\"Images/adjacent.png\" width=\"500\"></p>"
   ]
  },
  {
   "cell_type": "code",
   "execution_count": 1,
   "metadata": {},
   "outputs": [
    {
     "name": "stdout",
     "output_type": "stream",
     "text": [
      "21\n"
     ]
    }
   ],
   "source": [
    "#Original\n",
    "def solution(inputArray):\n",
    "    max_product = -1001\n",
    "    for i in range(len(inputArray)):\n",
    "        prev = max_product\n",
    "        if i != len(inputArray)-1:\n",
    "            product = inputArray[i]*inputArray[i+1]\n",
    "        if product > prev:\n",
    "            max_product = product\n",
    "    return max_product\n",
    "\n",
    "inputArray = [3, 6, -2, -5, 7, 3]\n",
    "print(solution(inputArray))"
   ]
  },
  {
   "cell_type": "code",
   "execution_count": 2,
   "metadata": {},
   "outputs": [
    {
     "name": "stdout",
     "output_type": "stream",
     "text": [
      "21\n"
     ]
    }
   ],
   "source": [
    "#Alternate\n",
    "def solution2(inputArray):\n",
    "    return max([inputArray[i] * inputArray[i+1] for i in range(len(inputArray)-1)])\n",
    "\n",
    "inputArray = [3, 6, -2, -5, 7, 3]\n",
    "print(solution(inputArray))"
   ]
  },
  {
   "cell_type": "markdown",
   "metadata": {},
   "source": [
    "<mark>Alternate Solution</mark>: more concise, uses max, and **list comprehension**\n",
    "\n",
    "---"
   ]
  },
  {
   "cell_type": "markdown",
   "metadata": {},
   "source": [
    "## shapeArea"
   ]
  },
  {
   "cell_type": "markdown",
   "metadata": {},
   "source": [
    "<p align=\"center\"><img src=\"Images/shape.png\" width=\"500\"></p>"
   ]
  },
  {
   "cell_type": "code",
   "execution_count": 3,
   "metadata": {},
   "outputs": [
    {
     "name": "stdout",
     "output_type": "stream",
     "text": [
      "25\n"
     ]
    }
   ],
   "source": [
    "def solution(n):\n",
    "    return n*(2*(n-1))+1\n",
    "\n",
    "print(solution(4))"
   ]
  },
  {
   "cell_type": "markdown",
   "metadata": {},
   "source": [
    "<mark>Solution</mark>: use scratch paper to write out combinations and math for problems\n",
    "\n",
    "---"
   ]
  },
  {
   "cell_type": "markdown",
   "metadata": {},
   "source": [
    "## Make Array Consecutive 2"
   ]
  },
  {
   "cell_type": "markdown",
   "metadata": {},
   "source": [
    "<p align=\"center\"><img src=\"Images/consecutive.png\" width=\"500\"></p>"
   ]
  },
  {
   "cell_type": "code",
   "execution_count": 4,
   "metadata": {},
   "outputs": [
    {
     "name": "stdout",
     "output_type": "stream",
     "text": [
      "3\n",
      "0\n"
     ]
    }
   ],
   "source": [
    "#Original\n",
    "def solution(statues):\n",
    "    counter = 0\n",
    "    statues.sort()\n",
    "    for i in range(len(statues)-1):\n",
    "        if statues[i]+1 != statues[i+1]:\n",
    "            counter = counter + ((statues[i+1] - statues[i]) - 1)\n",
    "    return counter\n",
    "\n",
    "statues = [6, 2, 3, 8] #3\n",
    "statues2 = [5, 4, 6] #0\n",
    "print(solution(statues))\n",
    "print(solution(statues2))\n"
   ]
  },
  {
   "cell_type": "code",
   "execution_count": 5,
   "metadata": {},
   "outputs": [
    {
     "name": "stdout",
     "output_type": "stream",
     "text": [
      "3\n",
      "0\n"
     ]
    }
   ],
   "source": [
    "#Alternate\n",
    "def solution(statues):\n",
    "    return max(statues) - min(statues) - len(statues) + 1\n",
    "\n",
    "statues = [6, 2, 3, 8] #3\n",
    "statues2 = [5, 4, 6] #0\n",
    "print(solution(statues))\n",
    "print(solution(statues2))"
   ]
  },
  {
   "cell_type": "markdown",
   "metadata": {},
   "source": [
    "<mark>Alternate Solution</mark>: concise, uses math, use max and min, **use scratch paper to find equation**\n",
    "\n",
    "---"
   ]
  },
  {
   "cell_type": "markdown",
   "metadata": {},
   "source": [
    "## almostIncreasingSequence"
   ]
  },
  {
   "cell_type": "markdown",
   "metadata": {},
   "source": [
    "<p align=\"center\"><img src=\"Images/almostinc.png\" width=\"500\"></p>"
   ]
  },
  {
   "cell_type": "code",
   "execution_count": 37,
   "metadata": {},
   "outputs": [
    {
     "name": "stdout",
     "output_type": "stream",
     "text": [
      "Everything Passed.\n"
     ]
    }
   ],
   "source": [
    "def iterate(sequence):\n",
    "    for i in range(len(sequence)-1):\n",
    "        if sequence[i] >= sequence[i+1]:\n",
    "            return False\n",
    "    return True\n",
    "def solution(sequence):\n",
    "    for i in range(len(sequence)-1):\n",
    "        if sequence[i] >= sequence[i+1]:\n",
    "            save = sequence[i+1]\n",
    "            del sequence[i+1]\n",
    "            result = iterate(sequence)\n",
    "            if result == True:\n",
    "                return True\n",
    "            elif result == False:\n",
    "                sequence.insert(i+1, save)\n",
    "                del sequence[i]\n",
    "                new_result = iterate(sequence)\n",
    "                if new_result == True:\n",
    "                    return True\n",
    "                else:\n",
    "                    return False\n",
    "\n",
    "assert False == solution([\n",
    "    1, 3, 2, 1])\n",
    "assert True == solution([1, 3, 2])\n",
    "assert False == solution([1, 2, 1, 2])\n",
    "assert True == solution([1, 2, 3, 4, 3, 6])\n",
    "assert True == solution([10, 1, 2, 3, 4, 5])\n",
    "assert True == solution([1, 2, 5, 3, 5])\n",
    "print(\"Everything Passed.\")"
   ]
  },
  {
   "cell_type": "code",
   "execution_count": 9,
   "metadata": {},
   "outputs": [
    {
     "name": "stdout",
     "output_type": "stream",
     "text": [
      "Everything Passed.\n"
     ]
    }
   ],
   "source": [
    "#Alternate\n",
    "def solution(sequence):\n",
    "    dropped = False\n",
    "    last = prev = min(sequence) - 1\n",
    "    for elm in sequence:\n",
    "        if elm <= last:\n",
    "            if dropped:\n",
    "                return False\n",
    "            else:\n",
    "                dropped = True\n",
    "            if elm <= prev:\n",
    "                prev = last\n",
    "            elif elm >= prev:\n",
    "                prev = last = elm\n",
    "        else:\n",
    "            prev, last = last, elm\n",
    "    return True\n",
    "\n",
    "assert False == solution([1, 3, 2, 1])\n",
    "assert True == solution([1, 3, 2])\n",
    "assert False == solution([1, 2, 1, 2])\n",
    "assert True == solution([1, 2, 3, 4, 3, 6])\n",
    "assert True == solution([10, 1, 2, 3, 4, 5])\n",
    "assert True == solution([1, 2, 5, 3, 5])\n",
    "print(\"Everything Passed.\")"
   ]
  },
  {
   "cell_type": "markdown",
   "metadata": {},
   "source": [
    "<mark>Alternate Solution</mark>: uses logic more, **multiple variable assignment**, boolean value to simulate dropping of elements from list\n",
    "\n",
    "*Use debugger to verify solution*\n",
    "\n",
    "---"
   ]
  },
  {
   "cell_type": "markdown",
   "metadata": {},
   "source": [
    "## matrixElementSum"
   ]
  },
  {
   "cell_type": "markdown",
   "metadata": {},
   "source": [
    "<p align=\"center\"><img src=\"Images/matrixSum.png\" width=\"500\"></p>\n",
    "\n",
    "Guaranteed constraints:\n",
    "- 1 ≤ matrix.length ≤ 5,\n",
    "- 1 ≤ matrix[i].length ≤ 5,\n",
    "- 0 ≤ matrix[i][j] ≤ 10."
   ]
  },
  {
   "cell_type": "code",
   "execution_count": 14,
   "metadata": {},
   "outputs": [
    {
     "name": "stdout",
     "output_type": "stream",
     "text": [
      "9\n",
      "Everything passed.\n"
     ]
    }
   ],
   "source": [
    "def solution(matrix):\n",
    "    col = len(matrix[0])\n",
    "    row = len(matrix)\n",
    "    sum = 0\n",
    "    haunted = []\n",
    "    for i in range(row):\n",
    "        for j in range(col):\n",
    "            if matrix[i][j] == 0:\n",
    "                haunted.append(j)\n",
    "            else:\n",
    "                if j not in haunted:\n",
    "                    sum += matrix[i][j]\n",
    "    return sum\n",
    "\n",
    "print(solution([[0,1,1,2], [0,5,0,0], [2,0,3,3]]))"
   ]
  },
  {
   "cell_type": "code",
   "execution_count": 15,
   "metadata": {},
   "outputs": [
    {
     "name": "stdout",
     "output_type": "stream",
     "text": [
      "9\n"
     ]
    }
   ],
   "source": [
    "def solution(m):\n",
    "    r = len(m)\n",
    "    c = len(m[0])\n",
    "    total=0\n",
    "    for j in range(c):\n",
    "        for i in range(r):\n",
    "            if m[i][j]!=0:\n",
    "                total+=m[i][j]\n",
    "            else:\n",
    "                break\n",
    "    return total\n",
    "\n",
    "print(solution([[0,1,1,2], [0,5,0,0], [2,0,3,3]]))"
   ]
  },
  {
   "cell_type": "markdown",
   "metadata": {},
   "source": [
    "<mark>Alternate Solution</mark>: **used columns instead of rows** as first iterator, *break* to get out of loop\n",
    "\n",
    "---"
   ]
  },
  {
   "cell_type": "markdown",
   "metadata": {},
   "source": [
    "## All Longest Strings"
   ]
  },
  {
   "cell_type": "markdown",
   "metadata": {},
   "source": [
    "<p align=\"center\"><img src=\"Images/.png\" width=\"500\"></p>"
   ]
  },
  {
   "cell_type": "markdown",
   "metadata": {},
   "source": []
  }
 ],
 "metadata": {
  "interpreter": {
   "hash": "b30b16c83ff9e1edf05d1389201b91a87d2eda582773d1d418f36c288e735fdc"
  },
  "kernelspec": {
   "display_name": "Python 3.10.0 64-bit ('3.10.0': pyenv)",
   "language": "python",
   "name": "python3"
  },
  "language_info": {
   "codemirror_mode": {
    "name": "ipython",
    "version": 3
   },
   "file_extension": ".py",
   "mimetype": "text/x-python",
   "name": "python",
   "nbconvert_exporter": "python",
   "pygments_lexer": "ipython3",
   "version": "3.10.0"
  },
  "orig_nbformat": 4
 },
 "nbformat": 4,
 "nbformat_minor": 2
}
